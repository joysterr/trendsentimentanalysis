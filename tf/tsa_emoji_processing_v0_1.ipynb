{
  "nbformat": 4,
  "nbformat_minor": 0,
  "metadata": {
    "colab": {
      "provenance": []
    },
    "kernelspec": {
      "name": "python3",
      "display_name": "Python 3"
    },
    "language_info": {
      "name": "python"
    }
  },
  "cells": [
    {
      "cell_type": "code",
      "execution_count": 1,
      "metadata": {
        "id": "YTUr17sKyPu-"
      },
      "outputs": [],
      "source": [
        "#imports\n",
        "import re\n",
        "import pickle"
      ]
    },
    {
      "cell_type": "code",
      "source": [
        "#to delete emoji\n",
        "def delete_emoji(sentence):\n",
        "  emoji_pattern = re.compile(\n",
        "      \"[\"\n",
        "      u\"\\U0001F600-\\U0001F64F\"\n",
        "      u\"\\U0001F300-\\U0001F5FF\"\n",
        "      u\"\\U0001F680-\\U0001F6FF\"\n",
        "      u\"\\U0001F1E0-\\U0001F1FF\"\n",
        "      u\"\\U00002702-\\U000027B0\"\n",
        "      u\"\\U000024C2-\\U0001F251\"\n",
        "      \"]+\", flags=re.UNICODE\n",
        "  )\n",
        "  return emoji_pattern.sub(r'', sentence)"
      ],
      "metadata": {
        "id": "4xxsaYkwyZuY"
      },
      "execution_count": 2,
      "outputs": []
    },
    {
      "cell_type": "code",
      "source": [
        "#replace emoji with relevant word\n",
        "with open('/content/drive/MyDrive/AI/ML/dict/Emoji_Dict.p', 'rb') as f:\n",
        "  emoji_bank = pickle.load(f)\n",
        "emoji_bank = {v: k for k, v in emoji_bank.items()}\n",
        "\n",
        "def emoji_to_word(sentence):\n",
        "  for emot in emoji_bank:\n",
        "    sentence = re.sub(r'('+emot+')', \"_\".join(emoji_bank[emot].replace(\",\",\"\").replace(\":\",\"\").split()), sentence)\n",
        "  return sentence"
      ],
      "metadata": {
        "id": "QQ5d8oLGzZZB"
      },
      "execution_count": 3,
      "outputs": []
    },
    {
      "cell_type": "code",
      "source": [
        "#delete emoticons :)\n",
        "with open('/content/drive/MyDrive/AI/ML/dict/Emoticon_Dict.p', 'rb') as f:\n",
        "  emoticon_bank = pickle.load(f)\n",
        "\n",
        "def delete_emoticons(sentence):\n",
        "  emoticon_pattern = re.compile(u'(' + u'|'.join(k for k in emoticon_bank) + u')')\n",
        "  return emoticon_pattern.sub(r'', sentence)"
      ],
      "metadata": {
        "id": "CVZudcAt0zbT"
      },
      "execution_count": 4,
      "outputs": []
    },
    {
      "cell_type": "code",
      "source": [
        "#tests: \n",
        "print(delete_emoji('hello there bub 😃'))\n",
        "print(emoji_to_word('i love my 🍎 !'))\n",
        "print(delete_emoticons('hi shiv :)'))"
      ],
      "metadata": {
        "colab": {
          "base_uri": "https://localhost:8080/"
        },
        "id": "YoYyqUzy-d3e",
        "outputId": "e1b47b96-fe6c-4ca6-f81e-96794c0672d5"
      },
      "execution_count": 5,
      "outputs": [
        {
          "output_type": "stream",
          "name": "stdout",
          "text": [
            "hello there bub \n",
            "i love my red_apple !\n",
            "hi shiv \n"
          ]
        }
      ]
    }
  ]
}