{
  "nbformat": 4,
  "nbformat_minor": 0,
  "metadata": {
    "colab": {
      "provenance": [],
      "mount_file_id": "1UNHxLPjAfxDYriL7_f_5r1CnSdqEAEHP",
      "authorship_tag": "ABX9TyNq4LDcd9fO6uawN13rWEUC",
      "include_colab_link": true
    },
    "kernelspec": {
      "name": "python3",
      "display_name": "Python 3"
    },
    "language_info": {
      "name": "python"
    }
  },
  "cells": [
    {
      "cell_type": "markdown",
      "metadata": {
        "id": "view-in-github",
        "colab_type": "text"
      },
      "source": [
        "<a href=\"https://colab.research.google.com/github/joysterr/trendsentimentanalysis/blob/main/tf/tsa_sarc_model_v0_1.ipynb\" target=\"_parent\"><img src=\"https://colab.research.google.com/assets/colab-badge.svg\" alt=\"Open In Colab\"/></a>"
      ]
    },
    {
      "cell_type": "code",
      "source": [
        "#imports\n",
        "import tensorflow as tf\n",
        "import json\n",
        "from tensorflow.keras.preprocessing.text import Tokenizer\n",
        "from tensorflow.keras.preprocessing.sequence import pad_sequences\n",
        "import numpy as np\n",
        "import matplotlib.pyplot as plt\n"
      ],
      "metadata": {
        "id": "wmN8qnRiYGY6"
      },
      "execution_count": 1,
      "outputs": []
    },
    {
      "cell_type": "code",
      "source": [
        "!wget --no-check-certificate \\\n",
        "    https://storage.googleapis.com/learning-datasets/sarcasm.json \\\n",
        "    -O /tmp/sarcasm.json"
      ],
      "metadata": {
        "id": "suNgzu184_kU"
      },
      "execution_count": null,
      "outputs": []
    },
    {
      "cell_type": "code",
      "source": [
        "#dataset\n",
        "with open('/tmp/sarcasm.json', 'r') as f:\n",
        "  dataset = json.load(f)\n",
        "\n",
        "x_sentences = []\n",
        "y_labels = []\n",
        "\n",
        "for item in dataset:\n",
        "  x_sentences.append(item['headline'])\n",
        "  y_labels.append(item['is_sarcastic'])"
      ],
      "metadata": {
        "id": "6MrN-PL313Wr"
      },
      "execution_count": 13,
      "outputs": []
    },
    {
      "cell_type": "code",
      "source": [
        "#split dataset to train & test\n",
        "train_size = round(len(dataset) * 0.8)\n",
        "\n",
        "x_train = x_sentences[0:train_size]\n",
        "x_test = x_sentences[train_size:]\n",
        "y_train = y_labels[0:train_size]\n",
        "y_test = y_labels[train_size:]"
      ],
      "metadata": {
        "id": "A1uPAqqi5pGV"
      },
      "execution_count": 29,
      "outputs": []
    },
    {
      "cell_type": "code",
      "source": [
        "#text to numeric encoding\n",
        "#tokenization & padding\n",
        "tokenizer = Tokenizer(num_words=10000, oov_token='<00V>', lower=True)\n",
        "tokenizer.fit_on_texts(x_train)\n",
        "\n",
        "word_index = tokenizer.word_index\n",
        "\n",
        "x_train_seq = tokenizer.texts_to_sequences(x_train)\n",
        "x_train_pad = pad_sequences(x_train_seq, maxlen=100, padding='post', truncating='post')\n",
        "\n",
        "x_test_seq = tokenizer.texts_to_sequences(x_test)\n",
        "x_test_pad = pad_sequences(x_test_seq, maxlen=100, padding='post', truncating='post')"
      ],
      "metadata": {
        "id": "E-A9cpTh7Thc"
      },
      "execution_count": 31,
      "outputs": []
    },
    {
      "cell_type": "code",
      "source": [
        "#model architecture \n",
        "model = tf.keras.Sequential([\n",
        "    tf.keras.layers.Embedding(10000, 16, input_length=100),\n",
        "    tf.keras.layers.GlobalAveragePooling1D(),\n",
        "    tf.keras.layers.Dense(24, activation='relu'),\n",
        "    tf.keras.layers.Dense(1, activation='sigmoid')\n",
        "])\n",
        "\n",
        "model.compile(loss='binary_crossentropy', optimizer='adam', metrics=['accuracy'])"
      ],
      "metadata": {
        "id": "6RXmGPZX84y8"
      },
      "execution_count": 33,
      "outputs": []
    },
    {
      "cell_type": "code",
      "source": [
        "model.summary()"
      ],
      "metadata": {
        "id": "RfKhuChC-E4P"
      },
      "execution_count": null,
      "outputs": []
    }
  ]
}