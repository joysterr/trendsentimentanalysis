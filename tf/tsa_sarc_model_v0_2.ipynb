{
  "nbformat": 4,
  "nbformat_minor": 0,
  "metadata": {
    "colab": {
      "provenance": [],
      "collapsed_sections": [
        "AhA7SnwWbhsD",
        "OqzImCKibp-O",
        "z2-V3uO-b4Jl"
      ]
    },
    "kernelspec": {
      "name": "python3",
      "display_name": "Python 3"
    },
    "language_info": {
      "name": "python"
    },
    "accelerator": "TPU",
    "gpuClass": "standard"
  },
  "cells": [
    {
      "cell_type": "markdown",
      "source": [
        "#Sarcasm Analysis model development v0.2\n",
        "###For TrendSentimentAnalysis (tsa.)\n",
        "Joyster Rodrigues | 2018487"
      ],
      "metadata": {
        "id": "156A7iz7ajQD"
      }
    },
    {
      "cell_type": "markdown",
      "source": [
        "#Importing Dependencies & Datasets, etc."
      ],
      "metadata": {
        "id": "FvVuRw72Y2VG"
      }
    },
    {
      "cell_type": "code",
      "source": [
        "#imports\n",
        "import tensorflow as tf\n",
        "import json\n",
        "from tensorflow.keras.preprocessing.text import Tokenizer\n",
        "from tensorflow.keras.preprocessing.sequence import pad_sequences\n",
        "import numpy as np\n",
        "import matplotlib.pyplot as plt\n"
      ],
      "metadata": {
        "id": "wmN8qnRiYGY6"
      },
      "execution_count": null,
      "outputs": []
    },
    {
      "cell_type": "code",
      "source": [
        "!wget --no-check-certificate \\\n",
        "    https://storage.googleapis.com/learning-datasets/sarcasm.json \\\n",
        "    -O /tmp/sarcasm.json"
      ],
      "metadata": {
        "id": "suNgzu184_kU"
      },
      "execution_count": null,
      "outputs": []
    },
    {
      "cell_type": "markdown",
      "source": [
        "##Pre-processing dataset"
      ],
      "metadata": {
        "id": "ElX6ezE7bHrb"
      }
    },
    {
      "cell_type": "code",
      "source": [
        "#dataset\n",
        "with open('/tmp/sarcasm.json', 'r') as f:\n",
        "  dataset = json.load(f)\n",
        "\n",
        "x_sentences = []\n",
        "y_labels = []\n",
        "\n",
        "for item in dataset:\n",
        "  x_sentences.append(item['headline'])\n",
        "  y_labels.append(item['is_sarcastic'])"
      ],
      "metadata": {
        "id": "6MrN-PL313Wr"
      },
      "execution_count": null,
      "outputs": []
    },
    {
      "cell_type": "code",
      "source": [
        "#split dataset to train & test\n",
        "train_size = round(len(dataset) * 0.70)\n",
        "\n",
        "x_train = x_sentences[0:train_size]\n",
        "x_test = x_sentences[train_size:]\n",
        "y_train = y_labels[0:train_size]\n",
        "y_test = y_labels[train_size:]"
      ],
      "metadata": {
        "id": "A1uPAqqi5pGV"
      },
      "execution_count": null,
      "outputs": []
    },
    {
      "cell_type": "code",
      "source": [
        "#text to numeric encoding\n",
        "#tokenization & padding\n",
        "tokenizer = Tokenizer(num_words=10000, oov_token='<00V>')\n",
        "tokenizer.fit_on_texts(x_train)\n",
        "\n",
        "word_index = tokenizer.word_index\n",
        "\n",
        "x_train_seq = tokenizer.texts_to_sequences(x_train)\n",
        "x_train_pad = pad_sequences(x_train_seq, maxlen=100, padding='post', truncating='post')\n",
        "\n",
        "x_test_seq = tokenizer.texts_to_sequences(x_test)\n",
        "x_test_pad = pad_sequences(x_test_seq, maxlen=100, padding='post', truncating='post')"
      ],
      "metadata": {
        "id": "E-A9cpTh7Thc"
      },
      "execution_count": null,
      "outputs": []
    },
    {
      "cell_type": "code",
      "source": [
        "#converting py array to np array\n",
        "x_train_pad = np.array(x_train_pad)\n",
        "y_train = np.array(y_train)\n",
        "x_test_pad = np.array(x_test_pad)\n",
        "y_test = np.array(y_test)"
      ],
      "metadata": {
        "id": "APIH5bNuSMIW"
      },
      "execution_count": null,
      "outputs": []
    },
    {
      "cell_type": "markdown",
      "source": [
        "#Model Architecture v0.2"
      ],
      "metadata": {
        "id": "cE4X5Ho9bRuz"
      }
    },
    {
      "cell_type": "code",
      "source": [
        "#model architecture \n",
        "model = tf.keras.Sequential([\n",
        "    tf.keras.layers.Embedding(10000, 16, input_length=100),\n",
        "    tf.keras.layers.GlobalAveragePooling1D(),\n",
        "    tf.keras.layers.Dropout(rate=0.25),\n",
        "    tf.keras.layers.Dense(24, activation='relu'),\n",
        "    tf.keras.layers.Dense(1, activation='sigmoid')\n",
        "])\n",
        "\n",
        "model.compile(loss='binary_crossentropy', optimizer='adam', metrics=['accuracy'])"
      ],
      "metadata": {
        "id": "6RXmGPZX84y8"
      },
      "execution_count": null,
      "outputs": []
    },
    {
      "cell_type": "code",
      "source": [
        "model.summary()"
      ],
      "metadata": {
        "id": "RfKhuChC-E4P",
        "colab": {
          "base_uri": "https://localhost:8080/"
        },
        "outputId": "b521d1a5-155b-4ac7-867e-19c03b1e50d1"
      },
      "execution_count": null,
      "outputs": [
        {
          "output_type": "stream",
          "name": "stdout",
          "text": [
            "Model: \"sequential_1\"\n",
            "_________________________________________________________________\n",
            " Layer (type)                Output Shape              Param #   \n",
            "=================================================================\n",
            " embedding_1 (Embedding)     (None, 100, 16)           160000    \n",
            "                                                                 \n",
            " global_average_pooling1d_1   (None, 16)               0         \n",
            " (GlobalAveragePooling1D)                                        \n",
            "                                                                 \n",
            " dropout (Dropout)           (None, 16)                0         \n",
            "                                                                 \n",
            " dense_2 (Dense)             (None, 24)                408       \n",
            "                                                                 \n",
            " dense_3 (Dense)             (None, 1)                 25        \n",
            "                                                                 \n",
            "=================================================================\n",
            "Total params: 160,433\n",
            "Trainable params: 160,433\n",
            "Non-trainable params: 0\n",
            "_________________________________________________________________\n"
          ]
        }
      ]
    },
    {
      "cell_type": "code",
      "source": [
        "#fit model\n",
        "epoch_runs = 5\n",
        "\n",
        "hist = model.fit(x_train_pad, y_train, epochs=epoch_runs, validation_data=(x_test_pad, y_test), verbose=2)"
      ],
      "metadata": {
        "id": "X6JIo9i-BxKM",
        "colab": {
          "base_uri": "https://localhost:8080/"
        },
        "outputId": "7212221a-db38-4f23-b25f-1bb4f0ef649f"
      },
      "execution_count": null,
      "outputs": [
        {
          "output_type": "stream",
          "name": "stdout",
          "text": [
            "Epoch 1/5\n",
            "585/585 - 5s - loss: 0.6751 - accuracy: 0.5746 - val_loss: 0.6270 - val_accuracy: 0.5994 - 5s/epoch - 8ms/step\n",
            "Epoch 2/5\n",
            "585/585 - 4s - loss: 0.4754 - accuracy: 0.8016 - val_loss: 0.4254 - val_accuracy: 0.7921 - 4s/epoch - 6ms/step\n",
            "Epoch 3/5\n",
            "585/585 - 3s - loss: 0.3235 - accuracy: 0.8675 - val_loss: 0.3675 - val_accuracy: 0.8370 - 3s/epoch - 5ms/step\n",
            "Epoch 4/5\n",
            "585/585 - 3s - loss: 0.2674 - accuracy: 0.8939 - val_loss: 0.3427 - val_accuracy: 0.8564 - 3s/epoch - 5ms/step\n",
            "Epoch 5/5\n",
            "585/585 - 3s - loss: 0.2289 - accuracy: 0.9094 - val_loss: 0.3422 - val_accuracy: 0.8565 - 3s/epoch - 5ms/step\n"
          ]
        }
      ]
    },
    {
      "cell_type": "markdown",
      "source": [
        "#Model evaluation"
      ],
      "metadata": {
        "id": "AhA7SnwWbhsD"
      }
    },
    {
      "cell_type": "code",
      "source": [
        "# accuracy & loss \n",
        "\n",
        "def create_graphs(history, string):\n",
        "  plt.plot(hist.history[string])\n",
        "  plt.plot(hist.history['val_' + string])\n",
        "  plt.xlabel('epochs')\n",
        "  plt.ylabel(string)\n",
        "  plt.legend([string, 'val_' + string])\n",
        "  plt.show()\n",
        "\n",
        "create_graphs(hist, 'accuracy')\n",
        "create_graphs(hist, 'loss')"
      ],
      "metadata": {
        "id": "BQWiQcsTTPTR",
        "colab": {
          "base_uri": "https://localhost:8080/",
          "height": 541
        },
        "outputId": "ee99458a-d2df-4ac9-fec4-ce97e355a3cb"
      },
      "execution_count": null,
      "outputs": [
        {
          "output_type": "display_data",
          "data": {
            "text/plain": [
              "<Figure size 432x288 with 1 Axes>"
            ],
            "image/png": "[encoded data removed]"
          },
          "metadata": {
            "needs_background": "light"
          }
        },
        {
          "output_type": "display_data",
          "data": {
            "text/plain": [
              "<Figure size 432x288 with 1 Axes>"
            ],
            "image/png": "[encoded data removed]"
          },
          "metadata": {
            "needs_background": "light"
          }
        }
      ]
    },
    {
      "cell_type": "code",
      "source": [
        "tf.keras.utils.plot_model(\n",
        "    model,\n",
        "    to_file='model.png',\n",
        "    show_shapes=False,\n",
        "    show_dtype=False,\n",
        "    show_layer_names=True,\n",
        "    rankdir='TB',\n",
        "    expand_nested=False,\n",
        "    dpi=96,\n",
        "    layer_range=None,\n",
        "    show_layer_activations=False\n",
        ")"
      ],
      "metadata": {
        "colab": {
          "base_uri": "https://localhost:8080/",
          "height": 564
        },
        "id": "6cfWoeIUN-B6",
        "outputId": "6e415759-f125-4e71-e145-673f5f3ce89e"
      },
      "execution_count": null,
      "outputs": [
        {
          "output_type": "execute_result",
          "data": {
            "image/png": "[encoded data removed]",
            "text/plain": [
              "<IPython.core.display.Image object>"
            ]
          },
          "metadata": {},
          "execution_count": 28
        }
      ]
    },
    {
      "cell_type": "markdown",
      "source": [
        "#Testing model"
      ],
      "metadata": {
        "id": "OqzImCKibp-O"
      }
    },
    {
      "cell_type": "code",
      "source": [
        "test_sentences = ['today has been a rough week']\n",
        "test_seq = tokenizer.texts_to_sequences(test_sentences)\n",
        "test_padded = pad_sequences(test_seq, maxlen=100, padding='post', truncating='post')\n",
        "\n",
        "test_output = model.predict(test_padded)"
      ],
      "metadata": {
        "id": "tnxGKwF7jOq8",
        "colab": {
          "base_uri": "https://localhost:8080/"
        },
        "outputId": "4b355636-eb85-4b3c-f292-fec81f7c4507"
      },
      "execution_count": null,
      "outputs": [
        {
          "output_type": "stream",
          "name": "stdout",
          "text": [
            "1/1 [==============================] - 0s 28ms/step\n"
          ]
        }
      ]
    },
    {
      "cell_type": "code",
      "source": [
        "def sarc_classification(input):\n",
        "  if input >= 0.5:\n",
        "    return 'sarcasm detected'\n",
        "  else: \n",
        "    return 'sarcasm may not be implied'"
      ],
      "metadata": {
        "id": "znPmzxOePCiS"
      },
      "execution_count": null,
      "outputs": []
    },
    {
      "cell_type": "code",
      "source": [
        "print(sarc_classification(test_output))"
      ],
      "metadata": {
        "colab": {
          "base_uri": "https://localhost:8080/"
        },
        "id": "z_P5oToBPiTy",
        "outputId": "ad0b6fa5-5faa-4fb7-dddb-12c78bceffb5"
      },
      "execution_count": null,
      "outputs": [
        {
          "output_type": "stream",
          "name": "stdout",
          "text": [
            "sarcasm detected\n"
          ]
        }
      ]
    },
    {
      "cell_type": "markdown",
      "source": [
        "#tsa. developement / integration\n"
      ],
      "metadata": {
        "id": "z2-V3uO-b4Jl"
      }
    },
    {
      "cell_type": "code",
      "source": [],
      "metadata": {
        "id": "HFqTzahIcET5"
      },
      "execution_count": null,
      "outputs": []
    },
    {
      "cell_type": "markdown",
      "source": [
        "#Generating graphs for tsa."
      ],
      "metadata": {
        "id": "f5-KIIRob-CY"
      }
    },
    {
      "cell_type": "markdown",
      "source": [
        "##bar chart"
      ],
      "metadata": {
        "id": "fSDODi0mdTDJ"
      }
    },
    {
      "cell_type": "code",
      "source": [
        "sarc_or_not = ['sarc', 'not-sarc']\n",
        "scores = [pos,neg]\n",
        "fig = plt.figure()\n",
        "bar = fig.add_axes([0,0,1,1])\n",
        "colors = ['green', 'red']\n",
        "bar.bar(sents, scores, color=colors)\n",
        "plt.title('iOS 16.3.1 tsa results')\n",
        "plt.xlabel('sentiments')\n",
        "plt.ylabel('score')\n",
        "plt.show()"
      ],
      "metadata": {
        "id": "cjvqaFKWcDCE"
      },
      "execution_count": null,
      "outputs": []
    },
    {
      "cell_type": "markdown",
      "source": [
        "##pie chart"
      ],
      "metadata": {
        "id": "uU4Hw_BLdVgM"
      }
    },
    {
      "cell_type": "code",
      "source": [
        "pie_labels = ['positive', 'negative']\n",
        "pie = plt.pie(scores, labels=pie_labels)\n",
        "plt.title('iOS 16.3.1 tsa results')\n",
        "plt.show()"
      ],
      "metadata": {
        "id": "56bXGxUIdZM5"
      },
      "execution_count": null,
      "outputs": []
    }
  ]
}