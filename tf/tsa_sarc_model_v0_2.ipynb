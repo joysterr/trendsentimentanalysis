{
  "nbformat": 4,
  "nbformat_minor": 0,
  "metadata": {
    "colab": {
      "provenance": []
    },
    "kernelspec": {
      "name": "python3",
      "display_name": "Python 3"
    },
    "language_info": {
      "name": "python"
    }
  },
  "cells": [
    {
      "cell_type": "code",
      "source": [
        "#imports\n",
        "import tensorflow as tf\n",
        "import json\n",
        "from tensorflow.keras.preprocessing.text import Tokenizer\n",
        "from tensorflow.keras.preprocessing.sequence import pad_sequences\n",
        "import numpy as np\n",
        "import matplotlib.pyplot as plt\n"
      ],
      "metadata": {
        "id": "wmN8qnRiYGY6"
      },
      "execution_count": 1,
      "outputs": []
    },
    {
      "cell_type": "code",
      "source": [
        "!wget --no-check-certificate \\\n",
        "    https://storage.googleapis.com/learning-datasets/sarcasm.json \\\n",
        "    -O /tmp/sarcasm.json"
      ],
      "metadata": {
        "id": "suNgzu184_kU"
      },
      "execution_count": null,
      "outputs": []
    },
    {
      "cell_type": "code",
      "source": [
        "#dataset\n",
        "with open('/tmp/sarcasm.json', 'r') as f:\n",
        "  dataset = json.load(f)\n",
        "\n",
        "x_sentences = []\n",
        "y_labels = []\n",
        "\n",
        "for item in dataset:\n",
        "  x_sentences.append(item['headline'])\n",
        "  y_labels.append(item['is_sarcastic'])"
      ],
      "metadata": {
        "id": "6MrN-PL313Wr"
      },
      "execution_count": 13,
      "outputs": []
    },
    {
      "cell_type": "code",
      "source": [
        "#split dataset to train & test\n",
        "train_size = round(len(dataset) * 0.8)\n",
        "\n",
        "x_train = x_sentences[0:train_size]\n",
        "x_test = x_sentences[train_size:]\n",
        "y_train = y_labels[0:train_size]\n",
        "y_test = y_labels[train_size:]"
      ],
      "metadata": {
        "id": "A1uPAqqi5pGV"
      },
      "execution_count": 29,
      "outputs": []
    },
    {
      "cell_type": "code",
      "source": [
        "#text to numeric encoding\n",
        "#tokenization & padding\n",
        "tokenizer = Tokenizer(num_words=10000, oov_token='<00V>', lower=True)\n",
        "tokenizer.fit_on_texts(x_train)\n",
        "\n",
        "word_index = tokenizer.word_index\n",
        "\n",
        "x_train_seq = tokenizer.texts_to_sequences(x_train)\n",
        "x_train_pad = pad_sequences(x_train_seq, maxlen=100, padding='post', truncating='post')\n",
        "\n",
        "x_test_seq = tokenizer.texts_to_sequences(x_test)\n",
        "x_test_pad = pad_sequences(x_test_seq, maxlen=100, padding='post', truncating='post')"
      ],
      "metadata": {
        "id": "E-A9cpTh7Thc"
      },
      "execution_count": 31,
      "outputs": []
    },
    {
      "cell_type": "code",
      "source": [
        "#model architecture \n",
        "model = tf.keras.Sequential([\n",
        "    tf.keras.layers.Embedding(10000, 16, input_length=100),\n",
        "    tf.keras.layers.GlobalAveragePooling1D(),\n",
        "    tf.keras.layers.Dense(24, activation='relu'),\n",
        "    tf.keras.layers.Dense(1, activation='sigmoid')\n",
        "])\n",
        "\n",
        "model.compile(loss='binary_crossentropy', optimizer='adam', metrics=['accuracy'])"
      ],
      "metadata": {
        "id": "6RXmGPZX84y8"
      },
      "execution_count": 33,
      "outputs": []
    },
    {
      "cell_type": "code",
      "source": [
        "model.summary()"
      ],
      "metadata": {
        "id": "RfKhuChC-E4P"
      },
      "execution_count": null,
      "outputs": []
    },
    {
      "cell_type": "code",
      "source": [
        "#converting py array to np array\n",
        "x_train_pad = np.array(x_train_pad)\n",
        "y_train = np.array(y_train)\n",
        "x_test_pad = np.array(x_test_pad)\n",
        "y_test = np.array(y_test)"
      ],
      "metadata": {
        "id": "APIH5bNuSMIW"
      },
      "execution_count": 39,
      "outputs": []
    },
    {
      "cell_type": "code",
      "source": [
        "#fit model\n",
        "epoch_runs = 20\n",
        "\n",
        "hist = model.fit(x_train_pad, y_train, epochs=epoch_runs, validation_data=(x_test_pad, y_test), verbose=2)"
      ],
      "metadata": {
        "colab": {
          "base_uri": "https://localhost:8080/"
        },
        "id": "X6JIo9i-BxKM",
        "outputId": "30ffaa8b-7055-4b10-db52-bd11d5a2c9bc"
      },
      "execution_count": 40,
      "outputs": [
        {
          "output_type": "stream",
          "name": "stdout",
          "text": [
            "Epoch 1/20\n",
            "668/668 - 4s - loss: 0.6586 - accuracy: 0.5954 - val_loss: 0.5468 - val_accuracy: 0.7278 - 4s/epoch - 5ms/step\n",
            "Epoch 2/20\n",
            "668/668 - 2s - loss: 0.4056 - accuracy: 0.8427 - val_loss: 0.3837 - val_accuracy: 0.8325 - 2s/epoch - 4ms/step\n",
            "Epoch 3/20\n",
            "668/668 - 2s - loss: 0.2987 - accuracy: 0.8832 - val_loss: 0.3487 - val_accuracy: 0.8545 - 2s/epoch - 3ms/step\n",
            "Epoch 4/20\n",
            "668/668 - 2s - loss: 0.2506 - accuracy: 0.9027 - val_loss: 0.3440 - val_accuracy: 0.8564 - 2s/epoch - 3ms/step\n",
            "Epoch 5/20\n",
            "668/668 - 2s - loss: 0.2171 - accuracy: 0.9167 - val_loss: 0.3509 - val_accuracy: 0.8540 - 2s/epoch - 3ms/step\n",
            "Epoch 6/20\n",
            "668/668 - 2s - loss: 0.1910 - accuracy: 0.9286 - val_loss: 0.3755 - val_accuracy: 0.8448 - 2s/epoch - 4ms/step\n",
            "Epoch 7/20\n",
            "668/668 - 2s - loss: 0.1699 - accuracy: 0.9364 - val_loss: 0.3915 - val_accuracy: 0.8433 - 2s/epoch - 3ms/step\n",
            "Epoch 8/20\n",
            "668/668 - 2s - loss: 0.1538 - accuracy: 0.9440 - val_loss: 0.3930 - val_accuracy: 0.8519 - 2s/epoch - 4ms/step\n",
            "Epoch 9/20\n",
            "668/668 - 2s - loss: 0.1385 - accuracy: 0.9509 - val_loss: 0.4138 - val_accuracy: 0.8495 - 2s/epoch - 3ms/step\n",
            "Epoch 10/20\n",
            "668/668 - 2s - loss: 0.1257 - accuracy: 0.9535 - val_loss: 0.4377 - val_accuracy: 0.8472 - 2s/epoch - 4ms/step\n",
            "Epoch 11/20\n",
            "668/668 - 2s - loss: 0.1154 - accuracy: 0.9584 - val_loss: 0.4844 - val_accuracy: 0.8343 - 2s/epoch - 4ms/step\n",
            "Epoch 12/20\n",
            "668/668 - 2s - loss: 0.1053 - accuracy: 0.9647 - val_loss: 0.4913 - val_accuracy: 0.8444 - 2s/epoch - 4ms/step\n",
            "Epoch 13/20\n",
            "668/668 - 2s - loss: 0.0976 - accuracy: 0.9662 - val_loss: 0.5408 - val_accuracy: 0.8315 - 2s/epoch - 3ms/step\n",
            "Epoch 14/20\n",
            "668/668 - 2s - loss: 0.0906 - accuracy: 0.9698 - val_loss: 0.5516 - val_accuracy: 0.8394 - 2s/epoch - 3ms/step\n",
            "Epoch 15/20\n",
            "668/668 - 2s - loss: 0.0834 - accuracy: 0.9722 - val_loss: 0.5882 - val_accuracy: 0.8355 - 2s/epoch - 4ms/step\n",
            "Epoch 16/20\n",
            "668/668 - 3s - loss: 0.0754 - accuracy: 0.9754 - val_loss: 0.6157 - val_accuracy: 0.8345 - 3s/epoch - 4ms/step\n",
            "Epoch 17/20\n",
            "668/668 - 2s - loss: 0.0707 - accuracy: 0.9781 - val_loss: 0.6741 - val_accuracy: 0.8285 - 2s/epoch - 4ms/step\n",
            "Epoch 18/20\n",
            "668/668 - 2s - loss: 0.0664 - accuracy: 0.9779 - val_loss: 0.6869 - val_accuracy: 0.8267 - 2s/epoch - 4ms/step\n",
            "Epoch 19/20\n",
            "668/668 - 2s - loss: 0.0614 - accuracy: 0.9802 - val_loss: 0.7253 - val_accuracy: 0.8216 - 2s/epoch - 3ms/step\n",
            "Epoch 20/20\n",
            "668/668 - 2s - loss: 0.0569 - accuracy: 0.9813 - val_loss: 0.7956 - val_accuracy: 0.8227 - 2s/epoch - 4ms/step\n"
          ]
        }
      ]
    },
    {
      "cell_type": "code",
      "source": [
        "# accuracy & loss \n",
        "\n",
        "def create_graphs(history, string):\n",
        "  plt.plot(hist.history[string])\n",
        "  plt.plot(hist.history['val_' + string])\n",
        "  plt.xlabel('epochs')\n",
        "  plt.ylabel(string)\n",
        "  plt.legend([string, 'val_' + string])\n",
        "  plt.show()\n",
        "\n",
        "create_graphs(hist, 'accuracy')\n",
        "create_graphs(hist, 'loss')"
      ],
      "metadata": {
        "colab": {
          "base_uri": "https://localhost:8080/",
          "height": 545
        },
        "id": "BQWiQcsTTPTR",
        "outputId": "6e90f101-a3c8-4e10-d4ce-4eb65fb5f59e"
      },
      "execution_count": 41,
      "outputs": [
        {
          "output_type": "display_data",
          "data": {
            "text/plain": [
              "<Figure size 432x288 with 1 Axes>"
            ],
            "image/png": "[encoded data removed]"
          },
          "metadata": {
            "needs_background": "light"
          }
        },
        {
          "output_type": "display_data",
          "data": {
            "text/plain": [
              "<Figure size 432x288 with 1 Axes>"
            ],
            "image/png": "[encoded data removed]"
          },
          "metadata": {
            "needs_background": "light"
          }
        }
      ]
    }
  ]
}