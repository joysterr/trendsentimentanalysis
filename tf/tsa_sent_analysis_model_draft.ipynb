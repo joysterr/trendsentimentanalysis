{
  "nbformat": 4,
  "nbformat_minor": 0,
  "metadata": {
    "colab": {
      "provenance": [],
      "mount_file_id": "1cfDLcb68zvOuo9XuWGscfAjx4UAMgsUD",
      "authorship_tag": "ABX9TyOr+u+/7zMf6GIyHvdOHMpx",
      "include_colab_link": true
    },
    "kernelspec": {
      "name": "python3",
      "display_name": "Python 3"
    },
    "language_info": {
      "name": "python"
    }
  },
  "cells": [
    {
      "cell_type": "markdown",
      "metadata": {
        "id": "view-in-github",
        "colab_type": "text"
      },
      "source": [
        "<a href=\"https://colab.research.google.com/github/joysterr/trendsentimentanalysis/blob/main/tf/tsa_sent_analysis_model_draft.ipynb\" target=\"_parent\"><img src=\"https://colab.research.google.com/assets/colab-badge.svg\" alt=\"Open In Colab\"/></a>"
      ]
    },
    {
      "cell_type": "code",
      "execution_count": 1,
      "metadata": {
        "id": "ypl_nni7B4kG"
      },
      "outputs": [],
      "source": [
        "#imports\n",
        "import tensorflow as tf\n",
        "from tensorflow.keras.preprocessing.text import Tokenizer\n",
        "from tensorflow.keras.preprocessing.sequence import pad_sequences\n",
        "\n",
        "import numpy as np\n",
        "import pandas as pd\n",
        "import matplotlib.pyplot as plt\n",
        "\n",
        "import nltk\n",
        "import re\n",
        "from bs4 import BeautifulSoup\n",
        "from gensim.models import Word2Vec, Phrases\n",
        "from nltk.corpus import stopwords\n",
        "from nltk.stem import WordNetLemmatizer"
      ]
    },
    {
      "cell_type": "code",
      "source": [
        "#import data\n",
        "dataset = pd.read_csv('/content/drive/MyDrive/AI/ML/datasets/imdb_dataset/IMDB Dataset.csv')\n",
        "print(dataset.head)"
      ],
      "metadata": {
        "colab": {
          "base_uri": "https://localhost:8080/"
        },
        "id": "TPIKiLAIGXfk",
        "outputId": "10d68eda-0dec-4d52-8522-8d64f09b733e"
      },
      "execution_count": 2,
      "outputs": [
        {
          "output_type": "stream",
          "name": "stdout",
          "text": [
            "<bound method NDFrame.head of                                                   review sentiment\n",
            "0      One of the other reviewers has mentioned that ...  positive\n",
            "1      A wonderful little production. <br /><br />The...  positive\n",
            "2      I thought this was a wonderful way to spend ti...  positive\n",
            "3      Basically there's a family where a little boy ...  negative\n",
            "4      Petter Mattei's \"Love in the Time of Money\" is...  positive\n",
            "...                                                  ...       ...\n",
            "49995  I thought this movie did a down right good job...  positive\n",
            "49996  Bad plot, bad dialogue, bad acting, idiotic di...  negative\n",
            "49997  I am a Catholic taught in parochial elementary...  negative\n",
            "49998  I'm going to have to disagree with the previou...  negative\n",
            "49999  No one expects the Star Trek movies to be high...  negative\n",
            "\n",
            "[50000 rows x 2 columns]>\n"
          ]
        }
      ]
    },
    {
      "cell_type": "code",
      "source": [
        "print(len(dataset['review']), len(dataset['sentiment']))"
      ],
      "metadata": {
        "colab": {
          "base_uri": "https://localhost:8080/"
        },
        "id": "5E_X5ENRHYx5",
        "outputId": "442b2d5c-f94f-4e64-bf14-70541455d4c7"
      },
      "execution_count": 3,
      "outputs": [
        {
          "output_type": "stream",
          "name": "stdout",
          "text": [
            "50000 50000\n"
          ]
        }
      ]
    },
    {
      "cell_type": "code",
      "source": [
        "def sent_id(sentiment):\n",
        "  if sentiment == 'positive':\n",
        "    sent_id = 1\n",
        "  else:\n",
        "    sent_id = 0\n",
        "  return sent_id"
      ],
      "metadata": {
        "id": "fwHZLAcNUje1"
      },
      "execution_count": 4,
      "outputs": []
    },
    {
      "cell_type": "code",
      "source": [
        "data_df = dataset.copy()\n",
        "data_df['sentiment_id'] = data_df['sentiment'].apply(lambda x: sent_id(x))"
      ],
      "metadata": {
        "id": "Xo3zz2rFT67t"
      },
      "execution_count": 5,
      "outputs": []
    },
    {
      "cell_type": "code",
      "source": [
        "#shuffle data\n",
        "data_df.sample"
      ],
      "metadata": {
        "colab": {
          "base_uri": "https://localhost:8080/"
        },
        "id": "WfExvtQ-Vb3I",
        "outputId": "62350ef8-38b2-4914-d60b-a986258e5060"
      },
      "execution_count": 7,
      "outputs": [
        {
          "output_type": "execute_result",
          "data": {
            "text/plain": [
              "<bound method NDFrame.sample of                                                   review sentiment  \\\n",
              "0      One of the other reviewers has mentioned that ...  positive   \n",
              "1      A wonderful little production. <br /><br />The...  positive   \n",
              "2      I thought this was a wonderful way to spend ti...  positive   \n",
              "3      Basically there's a family where a little boy ...  negative   \n",
              "4      Petter Mattei's \"Love in the Time of Money\" is...  positive   \n",
              "...                                                  ...       ...   \n",
              "49995  I thought this movie did a down right good job...  positive   \n",
              "49996  Bad plot, bad dialogue, bad acting, idiotic di...  negative   \n",
              "49997  I am a Catholic taught in parochial elementary...  negative   \n",
              "49998  I'm going to have to disagree with the previou...  negative   \n",
              "49999  No one expects the Star Trek movies to be high...  negative   \n",
              "\n",
              "       sentiment_id  \n",
              "0                 1  \n",
              "1                 1  \n",
              "2                 1  \n",
              "3                 0  \n",
              "4                 1  \n",
              "...             ...  \n",
              "49995             1  \n",
              "49996             0  \n",
              "49997             0  \n",
              "49998             0  \n",
              "49999             0  \n",
              "\n",
              "[50000 rows x 3 columns]>"
            ]
          },
          "metadata": {},
          "execution_count": 7
        }
      ]
    },
    {
      "cell_type": "code",
      "source": [
        "#assign data and split\n",
        "x_sentences = []\n",
        "y_labels = []\n",
        "\n",
        "for item in data_df:\n",
        "  x_sentences.append(data_df['review'])\n",
        "  y_labels.append(data_df['sentiment_id'])"
      ],
      "metadata": {
        "id": "iPPaeaOAHot8"
      },
      "execution_count": 10,
      "outputs": []
    },
    {
      "cell_type": "code",
      "source": [
        "split_data = round(len(x_sentences) * 0.80)\n",
        "\n",
        "x_train = x_sentences[0:split_data]\n",
        "y_train = y_labels[0:split_data]\n",
        "\n",
        "x_test = x_sentences[split_data:]\n",
        "y_test = y_labels[split_data:]"
      ],
      "metadata": {
        "id": "gz1ZZn0b7Owj"
      },
      "execution_count": 11,
      "outputs": []
    },
    {
      "cell_type": "code",
      "source": [
        "#preprocessing data\n"
      ],
      "metadata": {
        "id": "GzufO6tUIp4m"
      },
      "execution_count": null,
      "outputs": []
    },
    {
      "cell_type": "code",
      "source": [
        "#text to vector / tokenization"
      ],
      "metadata": {
        "id": "Jq6W-r9oIt_A"
      },
      "execution_count": null,
      "outputs": []
    },
    {
      "cell_type": "code",
      "source": [
        "#lemmatize & stemming"
      ],
      "metadata": {
        "id": "UlWSmqgBIyGf"
      },
      "execution_count": null,
      "outputs": []
    },
    {
      "cell_type": "code",
      "source": [
        "#model architecture"
      ],
      "metadata": {
        "id": "G43dxpqrI2Iy"
      },
      "execution_count": null,
      "outputs": []
    },
    {
      "cell_type": "code",
      "source": [
        "#fit"
      ],
      "metadata": {
        "id": "5bg0pkYj8wmZ"
      },
      "execution_count": null,
      "outputs": []
    },
    {
      "cell_type": "code",
      "source": [
        "#model results"
      ],
      "metadata": {
        "id": "Q52YcB7Q8wdo"
      },
      "execution_count": null,
      "outputs": []
    },
    {
      "cell_type": "code",
      "source": [
        "#model eval"
      ],
      "metadata": {
        "id": "Cb3d8mdF82-Y"
      },
      "execution_count": null,
      "outputs": []
    }
  ]
}