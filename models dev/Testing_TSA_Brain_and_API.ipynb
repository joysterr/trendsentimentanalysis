{
  "nbformat": 4,
  "nbformat_minor": 0,
  "metadata": {
    "colab": {
      "provenance": []
    },
    "kernelspec": {
      "name": "python3",
      "display_name": "Python 3"
    },
    "language_info": {
      "name": "python"
    }
  },
  "cells": [
    {
      "cell_type": "markdown",
      "source": [
        "# Testing tsa models and the Twitter API with Tweepy\n",
        "### Joyster Rodrigues | 2018487"
      ],
      "metadata": {
        "id": "HiaWoCdfuoKc"
      }
    },
    {
      "cell_type": "markdown",
      "source": [
        "Please do not run this code as the results are not reproducable. The follwoing test was conducted by firstly fethcing tweets via Tweepy which were manually labelled to act as sentiment and sarcasm true values.  "
      ],
      "metadata": {
        "id": "GUMSEttPu0sN"
      }
    },
    {
      "cell_type": "markdown",
      "source": [
        "# Imports and configuring Twitter API"
      ],
      "metadata": {
        "id": "t7qVqufNvf_o"
      }
    },
    {
      "cell_type": "code",
      "execution_count": null,
      "metadata": {
        "id": "EMtcqzLeFQwW"
      },
      "outputs": [],
      "source": [
        "import pandas as pd\n",
        "import configparser\n",
        "import tweepy"
      ]
    },
    {
      "cell_type": "code",
      "source": [
        "#import from server\n",
        "user_search = 'john wick 4' #user query goes here"
      ],
      "metadata": {
        "id": "Gcc7ZDvhF9zz"
      },
      "execution_count": null,
      "outputs": []
    },
    {
      "cell_type": "code",
      "source": [
        "#auth twitter api v1/1.1\n",
        "cfg = configparser.ConfigParser()\n",
        "cfg.read('config.ini')\n",
        "\n",
        "api_key = 'NEtMGC7ctiVydAV26Ze6Lm1M1'\n",
        "api_key_secret = 'hNXBdQmhgIG4CUURhenB8pD3q97JTXJv03BHdWWC2G7j4AcfSb'\n",
        "bearer_tok = 'AAAAAAAAAAAAAAAAAAAAAFeQWAEAAAAAJqvhBhUHv78DcQ%%2BG8scJVctVWM4%%3DiPBwZQJo2qkTAQfKoQIs32XyacSFFPOjBDZQYOrUDwNolcGd2D'\n",
        "access_tok = '806896532146556928-1imjUXss9NXXxDnIVD9CUIxHDhaD0Ge'\n",
        "access_tok_secret = 'SXI93lw67WNuLzg00vkpHdIF5xEqC33hjqBOvAlKU97tB'\n",
        "\n",
        "#api v1.1 authorisation\n",
        "auth = tweepy.OAuthHandler(api_key, api_key_secret)\n",
        "auth.set_access_token(access_tok, access_tok_secret)\n",
        "\n",
        "api = tweepy.API(auth)"
      ],
      "metadata": {
        "id": "F1cq7kMqGAxA"
      },
      "execution_count": null,
      "outputs": []
    },
    {
      "cell_type": "code",
      "source": [
        "recent_tweets = api.search_tweets(q=f'\"{user_search}\" -filter:retweets -filter:media -filter:links', lang='en', result_type='mixed', count=30, include_entities=False)"
      ],
      "metadata": {
        "id": "dzLvcYilGCc2"
      },
      "execution_count": null,
      "outputs": []
    },
    {
      "cell_type": "markdown",
      "source": [
        "# Processing tweets "
      ],
      "metadata": {
        "id": "GKQf51aCvlk6"
      }
    },
    {
      "cell_type": "code",
      "source": [
        "col = ['Time', 'Tweet']\n",
        "tweet_data = []\n",
        "\n",
        "for tweet in recent_tweets:\n",
        "    tweet_data.append([tweet.created_at, tweet.text])\n",
        "\n",
        "df_tweet_data = pd.DataFrame(tweet_data, columns=col)\n"
      ],
      "metadata": {
        "id": "KoGLEg1iGDv9"
      },
      "execution_count": null,
      "outputs": []
    },
    {
      "cell_type": "code",
      "source": [
        "print(df_tweet_data)"
      ],
      "metadata": {
        "colab": {
          "base_uri": "https://localhost:8080/"
        },
        "id": "WzZSxxmZGFh5",
        "outputId": "ddd489c0-223e-43bf-cfb5-7d603fe4b474"
      },
      "execution_count": null,
      "outputs": [
        {
          "output_type": "stream",
          "name": "stdout",
          "text": [
            "                        Time  \\\n",
            "0  2023-04-02 15:59:12+00:00   \n",
            "1  2023-04-03 02:10:55+00:00   \n",
            "2  2023-04-01 16:35:45+00:00   \n",
            "3  2023-04-03 13:05:02+00:00   \n",
            "4  2023-04-03 13:04:38+00:00   \n",
            "5  2023-04-03 13:03:59+00:00   \n",
            "6  2023-04-03 13:00:55+00:00   \n",
            "7  2023-04-03 13:00:40+00:00   \n",
            "8  2023-04-03 13:00:23+00:00   \n",
            "9  2023-04-03 13:00:11+00:00   \n",
            "10 2023-04-03 12:58:51+00:00   \n",
            "11 2023-04-03 12:56:57+00:00   \n",
            "12 2023-04-03 12:56:47+00:00   \n",
            "13 2023-04-03 12:56:46+00:00   \n",
            "14 2023-04-03 12:56:30+00:00   \n",
            "15 2023-04-03 12:55:57+00:00   \n",
            "16 2023-04-03 12:51:13+00:00   \n",
            "17 2023-04-03 12:49:01+00:00   \n",
            "18 2023-04-03 12:44:46+00:00   \n",
            "19 2023-04-03 12:44:17+00:00   \n",
            "20 2023-04-03 12:42:33+00:00   \n",
            "21 2023-04-03 12:41:42+00:00   \n",
            "22 2023-04-03 12:40:55+00:00   \n",
            "23 2023-04-03 12:40:32+00:00   \n",
            "24 2023-04-03 12:40:24+00:00   \n",
            "25 2023-04-03 12:39:24+00:00   \n",
            "26 2023-04-03 12:36:48+00:00   \n",
            "27 2023-04-03 12:35:00+00:00   \n",
            "28 2023-04-03 12:32:15+00:00   \n",
            "29 2023-04-03 12:31:25+00:00   \n",
            "\n",
            "                                                Tweet  \n",
            "0   I enjoyed JOHN WICK 4 and its over-the-top gle...  \n",
            "1   Just watched John Wick 4 with my sons. It was ...  \n",
            "2   For those who care about these things, the D&a...  \n",
            "3   @lilmirrio When they give us John Wick 4&gt;&g...  \n",
            "4   ✨Bathe Cooper\\n✨ John Wick 4 with my bros\\n✨ S...  \n",
            "5   @izzyfoley94 @emmalition I think mine has a fi...  \n",
            "6   @runningscaredpd I saw the trailer while waiti...  \n",
            "7                         @LKnevermisses John Wick 4?  \n",
            "8   @Ekitipikin Abeg give me logins make I watch J...  \n",
            "9   @LKnevermisses Just wanted to put a request in...  \n",
            "10  @SasanHosseini4 @Pat_Kc @jeremylovesyall Bob O...  \n",
            "11                   Im waiting for John Wick 4......  \n",
            "12            @everymovieplug What about John Wick 4?  \n",
            "13                          I want to see John wick 4  \n",
            "14  Just saw John Wick 4, the movie in which John ...  \n",
            "15  Guys which film should I watch on Friday; supe...  \n",
            "16  @wtfLisaTarot @dabbinbeebs John Wick 4 spoiler...  \n",
            "17  Gonna find a huge IMAX screen to watch John Wi...  \n",
            "18  @BillSchulz John Wick 4 was a hoot as always. ...  \n",
            "19                        @LKnevermisses John wick 4👀  \n",
            "20  that top down scene in John Wick 4 when he’s u...  \n",
            "21  Went and watch John Wick 4 the other night and...  \n",
            "22  After seeing some interviews and clips of the ...  \n",
            "23  I need to see John Wick 4 to see what the hype...  \n",
            "24  Friendship means little when it’s convenient\\n...  \n",
            "25                          Necessito ver John Wick 4  \n",
            "26                 Yo Scott adkins is in John wick 4?  \n",
            "27  user loeyswick is abt to make a cb bc john wic...  \n",
            "28  John wick 4 was so ass. That was the worst mov...  \n",
            "29                  john wick 4 was pretty good, yeah  \n"
          ]
        }
      ]
    },
    {
      "cell_type": "code",
      "source": [
        "df_tweet_data.to_csv('./tweets_for_test.csv')"
      ],
      "metadata": {
        "id": "PH9tjSWTNzlx"
      },
      "execution_count": null,
      "outputs": []
    },
    {
      "cell_type": "code",
      "source": [
        "def preprocess(df):\n",
        "    import pandas as pd\n",
        "    import numpy as np\n",
        "    import re\n",
        "    import html\n",
        "    import string\n",
        "\n",
        "    from bs4 import BeautifulSoup\n",
        "\n",
        "    # import output file\n",
        "    tweets_arr = []\n",
        "    for item in df['Tweet']:\n",
        "        tweets_arr.append(item)\n",
        "\n",
        "\n",
        "    # pre-process\n",
        "    tweets_clean = []\n",
        "\n",
        "    for item in tweets_arr:\n",
        "        soup = BeautifulSoup(item, 'html.parser')\n",
        "        item = soup.get_text()\n",
        "        item = item.lower()\n",
        "        item = item.replace('rt', '')\n",
        "        item = re.sub(r'http\\S+', '', item)\n",
        "        item = re.sub('@[^\\s]+', '', item)\n",
        "        item = \"\".join([char for char in item if char not in string.punctuation])\n",
        "        item = re.sub('[0-9]+', '', item)\n",
        "        item = re.sub('[^a-zA-Z]', ' ', item)\n",
        "        tweets_clean.append(item)\n",
        "\n",
        "    return tweets_clean\n",
        "    # testing\n",
        "    # for item in tweets_noemo:\n",
        "    #     print(f'{item}\\n')"
      ],
      "metadata": {
        "id": "zQuLdu36GHlu"
      },
      "execution_count": null,
      "outputs": []
    },
    {
      "cell_type": "code",
      "source": [
        "tweets_processed = preprocess(df_tweet_data)"
      ],
      "metadata": {
        "colab": {
          "base_uri": "https://localhost:8080/"
        },
        "id": "fHFp9hBZGI86",
        "outputId": "8aff56d1-5f06-4c35-9c15-e9f945881083"
      },
      "execution_count": null,
      "outputs": [
        {
          "output_type": "stream",
          "name": "stderr",
          "text": [
            "<ipython-input-15-5c31e61487d5>:20: MarkupResemblesLocatorWarning: The input looks more like a filename than markup. You may want to open this file and pass the filehandle into Beautiful Soup.\n",
            "  soup = BeautifulSoup(item, 'html.parser')\n"
          ]
        }
      ]
    },
    {
      "cell_type": "code",
      "source": [
        "print(tweets_processed)"
      ],
      "metadata": {
        "colab": {
          "base_uri": "https://localhost:8080/"
        },
        "id": "9Qn4e4_fGLmN",
        "outputId": "54f90137-a3e0-4f42-94f7-ff42e25908c3"
      },
      "execution_count": null,
      "outputs": [
        {
          "output_type": "stream",
          "name": "stdout",
          "text": [
            "['i enjoyed john wick  and its overthetop glee especially how many stairs he falls down when you think that s al  ', 'just watched john wick  with my sons it was an unending series of gratuitous violent acts    in other words i  ', 'for those who care about these things the dd movie is outperforming initial box office estimates the movie was o  ', ' when they give us john wick ', ' bathe cooper   john wick  with my bros   slept in the living room w   coz it felt cozier   shopping w the bff    ', '  i think mine has a fine layer of dust brushing that off with super mario john wick  and screen unseen    ', ' i saw the trailer while waiting for john wick  tpe is too tediously check the box of a story  ', ' john wick ', ' abeg give me logins make i watch john wick ', ' just wanted to put a request in for john wick  have a wonderful day    ', '   bob odenkirk pitched nobody in  and it came out in  he pitched it  ', 'im waiting for john wick ', ' what about john wick ', 'i want to see john wick ', 'just saw john wick  the movie in which john wick is definitely hit by about  cars but still gets up each time so he can go to church  ', 'guys which film should i watch on friday super mario bros john wick  or dungeons and dragons', '  john wick  spoiler a lot of people die  ', 'gonna find a huge imax screen to watch john wick  on while i m in la', ' john wick  was a hoot as always  and air is without question a netflix watch you dont need to plunk  ', ' john wick  ', 'that top down scene in john wick  when he s using the shotgun with the dragon s breath rounds was incredible', 'went and watch john wick  the other night and slept through the whole thing them reclining seats don t work in my favor ever', 'after seeing some interviews and clips of the dungeons and dragons movie before john wick  im sold there was al  ', 'i need to see john wick  to see what the hype bout ', 'friendship means little when it s convenient john wick ', 'necessito ver john wick ', 'yo scott adkins is in john wick ', 'user loeyswick is abt to make a cb bc john wick  came out', 'john wick  was so ass that was the worst movie ever', 'john wick  was pretty good yeah']\n"
          ]
        }
      ]
    },
    {
      "cell_type": "code",
      "source": [
        "tweets_processed2 = preprocess(df_tweet_data)\n",
        "print(tweets_processed2)"
      ],
      "metadata": {
        "colab": {
          "base_uri": "https://localhost:8080/"
        },
        "id": "bg4XX1j8Glp4",
        "outputId": "af9d7bea-be3e-4a84-913c-ec63419dbc87"
      },
      "execution_count": null,
      "outputs": [
        {
          "output_type": "stream",
          "name": "stdout",
          "text": [
            "['i enjoyed john wick  and its overthetop glee especially how many stairs he falls down when you think that s al  ', 'just watched john wick  with my sons it was an unending series of gratuitous violent acts    in other words i  ', 'for those who care about these things the dd movie is outperforming initial box office estimates the movie was o  ', ' when they give us john wick ', ' bathe cooper   john wick  with my bros   slept in the living room w   coz it felt cozier   shopping w the bff    ', '  i think mine has a fine layer of dust brushing that off with super mario john wick  and screen unseen    ', ' i saw the trailer while waiting for john wick  tpe is too tediously check the box of a story  ', ' john wick ', ' abeg give me logins make i watch john wick ', ' just wanted to put a request in for john wick  have a wonderful day    ', '   bob odenkirk pitched nobody in  and it came out in  he pitched it  ', 'im waiting for john wick ', ' what about john wick ', 'i want to see john wick ', 'just saw john wick  the movie in which john wick is definitely hit by about  cars but still gets up each time so he can go to church  ', 'guys which film should i watch on friday super mario bros john wick  or dungeons and dragons', '  john wick  spoiler a lot of people die  ', 'gonna find a huge imax screen to watch john wick  on while i m in la', ' john wick  was a hoot as always  and air is without question a netflix watch you dont need to plunk  ', ' john wick  ', 'that top down scene in john wick  when he s using the shotgun with the dragon s breath rounds was incredible', 'went and watch john wick  the other night and slept through the whole thing them reclining seats don t work in my favor ever', 'after seeing some interviews and clips of the dungeons and dragons movie before john wick  im sold there was al  ', 'i need to see john wick  to see what the hype bout ', 'friendship means little when it s convenient john wick ', 'necessito ver john wick ', 'yo scott adkins is in john wick ', 'user loeyswick is abt to make a cb bc john wick  came out', 'john wick  was so ass that was the worst movie ever', 'john wick  was pretty good yeah']\n"
          ]
        },
        {
          "output_type": "stream",
          "name": "stderr",
          "text": [
            "<ipython-input-15-5c31e61487d5>:20: MarkupResemblesLocatorWarning: The input looks more like a filename than markup. You may want to open this file and pass the filehandle into Beautiful Soup.\n",
            "  soup = BeautifulSoup(item, 'html.parser')\n"
          ]
        }
      ]
    },
    {
      "cell_type": "code",
      "source": [
        "count = 0\n",
        "for item in tweets_processed2:\n",
        "  print(f'{count}: {item}')\n",
        "  count += 1\n"
      ],
      "metadata": {
        "colab": {
          "base_uri": "https://localhost:8080/"
        },
        "id": "Np90YK12GnHQ",
        "outputId": "3520ece6-f68b-4428-f464-5085e2df6bb9"
      },
      "execution_count": null,
      "outputs": [
        {
          "output_type": "stream",
          "name": "stdout",
          "text": [
            "0: i enjoyed john wick  and its overthetop glee especially how many stairs he falls down when you think that s al  \n",
            "1: just watched john wick  with my sons it was an unending series of gratuitous violent acts    in other words i  \n",
            "2: for those who care about these things the dd movie is outperforming initial box office estimates the movie was o  \n",
            "3:  when they give us john wick \n",
            "4:  bathe cooper   john wick  with my bros   slept in the living room w   coz it felt cozier   shopping w the bff    \n",
            "5:   i think mine has a fine layer of dust brushing that off with super mario john wick  and screen unseen    \n",
            "6:  i saw the trailer while waiting for john wick  tpe is too tediously check the box of a story  \n",
            "7:  john wick \n",
            "8:  abeg give me logins make i watch john wick \n",
            "9:  just wanted to put a request in for john wick  have a wonderful day    \n",
            "10:    bob odenkirk pitched nobody in  and it came out in  he pitched it  \n",
            "11: im waiting for john wick \n",
            "12:  what about john wick \n",
            "13: i want to see john wick \n",
            "14: just saw john wick  the movie in which john wick is definitely hit by about  cars but still gets up each time so he can go to church  \n",
            "15: guys which film should i watch on friday super mario bros john wick  or dungeons and dragons\n",
            "16:   john wick  spoiler a lot of people die  \n",
            "17: gonna find a huge imax screen to watch john wick  on while i m in la\n",
            "18:  john wick  was a hoot as always  and air is without question a netflix watch you dont need to plunk  \n",
            "19:  john wick  \n",
            "20: that top down scene in john wick  when he s using the shotgun with the dragon s breath rounds was incredible\n",
            "21: went and watch john wick  the other night and slept through the whole thing them reclining seats don t work in my favor ever\n",
            "22: after seeing some interviews and clips of the dungeons and dragons movie before john wick  im sold there was al  \n",
            "23: i need to see john wick  to see what the hype bout \n",
            "24: friendship means little when it s convenient john wick \n",
            "25: necessito ver john wick \n",
            "26: yo scott adkins is in john wick \n",
            "27: user loeyswick is abt to make a cb bc john wick  came out\n",
            "28: john wick  was so ass that was the worst movie ever\n",
            "29: john wick  was pretty good yeah\n"
          ]
        }
      ]
    },
    {
      "cell_type": "markdown",
      "source": [
        "# Using preivous tweets and manually labelling them:"
      ],
      "metadata": {
        "id": "SagOkJd4wfO5"
      }
    },
    {
      "cell_type": "code",
      "source": [
        "tweets = ['what a freaking friday\\n\\ndavido’s album timeless out✅\\nwizkid music video out ✅\\nfalz music out ✅\\nclub football is back ✅\\njohn wick  out ✅', 'john wick  and creed  were a breath of fresh air\\n\\nafter seeing a million leftist propaganda pushing movies over t… ', 'john wick  earns m in the film’s worldwide opening weekend\\n\\namc', 'my john wick  review john wick is autistic coded and his special interest is shooting people who are clearly alre… ', 'john wick  👏🥲', 'goddamnit still can’t get over how fucking insanely good john wick  is', ' gm enjoy john wick ', ' after watching john wick  i can indeed say too many cuts', ' superheroes are done thanks to top gun maverick avatar  and john wick ', ' sir when can we expect john wick  to be available', ' john wick  was mid', 'john wick \\ncreed \\ndungeons amp dragons\\nscream  \\na thousand amp one \\n\\nlord i have so many reasons to go to the movies', 'i gotta go see john wick  🔥', ' im having fun using the socratic method asking people who insist john wick  is a wakeup call to wok… ', 'i need to go watch john wick ', 'i wanna go to the movies tonight i have to see creed and john wick  ', 'john wick  e una shit', 'john wick  is such a good movie from the cinematography down to the plot and acting one of the best films i’ve wa… ', 'john wick  is ass man don’t bother  hours of doodoo the storyline is so trash so they backed it up with too man… ', 'best action movie ever john wick ']"
      ],
      "metadata": {
        "id": "C8Wm9ZHHPQKy"
      },
      "execution_count": null,
      "outputs": []
    },
    {
      "cell_type": "code",
      "source": [
        "df_tweets = pd.DataFrame(tweets, columns=['Tweet'])"
      ],
      "metadata": {
        "id": "m9Wi0z1aTxeV"
      },
      "execution_count": null,
      "outputs": []
    },
    {
      "cell_type": "code",
      "source": [
        "print(df_tweets)"
      ],
      "metadata": {
        "colab": {
          "base_uri": "https://localhost:8080/"
        },
        "id": "IMt5OhdgT3X9",
        "outputId": "ba6056c3-3f10-490d-f516-a3822f64f87b"
      },
      "execution_count": null,
      "outputs": [
        {
          "output_type": "stream",
          "name": "stdout",
          "text": [
            "                                                Tweet\n",
            "0   what a freaking friday\\n\\ndavido’s album timel...\n",
            "1   john wick  and creed  were a breath of fresh a...\n",
            "2   john wick  earns m in the film’s worldwide ope...\n",
            "3   my john wick  review john wick is autistic cod...\n",
            "4                                       john wick  👏🥲\n",
            "5   goddamnit still can’t get over how fucking ins...\n",
            "6                                 gm enjoy john wick \n",
            "7    after watching john wick  i can indeed say to...\n",
            "8    superheroes are done thanks to top gun maveri...\n",
            "9    sir when can we expect john wick  to be avail...\n",
            "10                                 john wick  was mid\n",
            "11  john wick \\ncreed \\ndungeons amp dragons\\nscre...\n",
            "12                        i gotta go see john wick  🔥\n",
            "13   im having fun using the socratic method askin...\n",
            "14                      i need to go watch john wick \n",
            "15  i wanna go to the movies tonight i have to see...\n",
            "16                              john wick  e una shit\n",
            "17  john wick  is such a good movie from the cinem...\n",
            "18  john wick  is ass man don’t bother  hours of d...\n",
            "19                  best action movie ever john wick \n"
          ]
        }
      ]
    },
    {
      "cell_type": "code",
      "source": [
        "tweets_processed_test = preprocess(df_tweets)"
      ],
      "metadata": {
        "id": "jF9xPD8TTVHi"
      },
      "execution_count": null,
      "outputs": []
    },
    {
      "cell_type": "code",
      "source": [
        "tweets_processed_test"
      ],
      "metadata": {
        "colab": {
          "base_uri": "https://localhost:8080/"
        },
        "id": "LUnWeuJ3UIDt",
        "outputId": "42dd0ca1-6903-4759-984f-e7b89fa6973c"
      },
      "execution_count": null,
      "outputs": [
        {
          "output_type": "execute_result",
          "data": {
            "text/plain": [
              "['what a freaking friday  davido s album timeless out  wizkid music video out   falz music out   club football is back   john wick  out  ',\n",
              " 'john wick  and creed  were a breath of fresh air  after seeing a million leftist propaganda pushing movies over t  ',\n",
              " 'john wick  earns m in the film s worldwide opening weekend  amc',\n",
              " 'my john wick  review john wick is autistic coded and his special interest is shooting people who are clearly alre  ',\n",
              " 'john wick    ',\n",
              " 'goddamnit still can t get over how fucking insanely good john wick  is',\n",
              " ' gm enjoy john wick ',\n",
              " ' after watching john wick  i can indeed say too many cuts',\n",
              " ' superheroes are done thanks to top gun maverick avatar  and john wick ',\n",
              " ' sir when can we expect john wick  to be available',\n",
              " ' john wick  was mid',\n",
              " 'john wick  creed  dungeons amp dragons scream   a thousand amp one   lord i have so many reasons to go to the movies',\n",
              " 'i gotta go see john wick   ',\n",
              " ' im having fun using the socratic method asking people who insist john wick  is a wakeup call to wok  ',\n",
              " 'i need to go watch john wick ',\n",
              " 'i wanna go to the movies tonight i have to see creed and john wick  ',\n",
              " 'john wick  e una shit',\n",
              " 'john wick  is such a good movie from the cinematography down to the plot and acting one of the best films i ve wa  ',\n",
              " 'john wick  is ass man don t bother  hours of doodoo the storyline is so trash so they backed it up with too man  ',\n",
              " 'best action movie ever john wick ']"
            ]
          },
          "metadata": {},
          "execution_count": 37
        }
      ]
    },
    {
      "cell_type": "markdown",
      "source": [
        "# Manually labelling true values"
      ],
      "metadata": {
        "id": "bTHuIN7Wvv3d"
      }
    },
    {
      "cell_type": "code",
      "source": [
        "cols = ['tweets', 'senti_true_label', 'senti_pred', 'senti_pred2', 'sarc_true_label', 'sarc_pred']\n",
        "senti_true_label = [1,1,1,1,0,1,1,1,1,0,0,1,1,1,1,1,0,1,0,1]\n",
        "senti_pred = [None,None,None,None,None,None,None,None,None,None,None,None,None,None,None,None,None,None,None,None]\n",
        "senti_pred2 = [None,None,None,None,None,None,None,None,None,None,None,None,None,None,None,None,None,None,None,None]\n",
        "sarc_true_label = [0,0,0,1,0,0,0,1,1,0,0,0,0,1,0,0,0,0,1,0]\n",
        "sarc_pred = [None,None,None,None,None,None,None,None,None,None,None,None,None,None,None,None,None,None,None,None]\n",
        "tweet_dict = {\n",
        "    'tweets': tweets_processed_test,\n",
        "    'senti_true_label': senti_true_label,\n",
        "    'senti_pred': senti_pred,\n",
        "    'senti_pred2': senti_pred2,\n",
        "    'sarc_true_label': sarc_true_label,\n",
        "    'sarc_pred': sarc_pred\n",
        "}\n",
        "print(len(tweets))\n",
        "print(len(senti_true_label))\n",
        "print(len(senti_pred))\n",
        "print(len(senti_pred2))\n",
        "print(len(sarc_true_label))\n",
        "print(len(sarc_pred))"
      ],
      "metadata": {
        "colab": {
          "base_uri": "https://localhost:8080/"
        },
        "id": "-Dqri0fbGsvd",
        "outputId": "0a4fd546-f685-4afa-c70d-6cee8b75120c"
      },
      "execution_count": null,
      "outputs": [
        {
          "output_type": "stream",
          "name": "stdout",
          "text": [
            "20\n",
            "20\n",
            "20\n",
            "20\n",
            "20\n",
            "20\n"
          ]
        }
      ]
    },
    {
      "cell_type": "code",
      "source": [
        "df_tweet_results = pd.DataFrame(tweet_dict, columns=cols)"
      ],
      "metadata": {
        "id": "HR8KgiAWGuOT"
      },
      "execution_count": null,
      "outputs": []
    },
    {
      "cell_type": "code",
      "source": [
        "print(df_tweet_results)"
      ],
      "metadata": {
        "colab": {
          "base_uri": "https://localhost:8080/"
        },
        "id": "_O_LyGuLGxYL",
        "outputId": "a5a4f6d9-b94f-40ff-eb81-baf1ab400c64"
      },
      "execution_count": null,
      "outputs": [
        {
          "output_type": "stream",
          "name": "stdout",
          "text": [
            "                                               tweets  senti_true_label  \\\n",
            "0   what a freaking friday  davido s album timeles...                 1   \n",
            "1   john wick  and creed  were a breath of fresh a...                 1   \n",
            "2   john wick  earns m in the film s worldwide ope...                 1   \n",
            "3   my john wick  review john wick is autistic cod...                 1   \n",
            "4                                       john wick                     0   \n",
            "5   goddamnit still can t get over how fucking ins...                 1   \n",
            "6                                 gm enjoy john wick                  1   \n",
            "7    after watching john wick  i can indeed say to...                 1   \n",
            "8    superheroes are done thanks to top gun maveri...                 1   \n",
            "9    sir when can we expect john wick  to be avail...                 0   \n",
            "10                                 john wick  was mid                 0   \n",
            "11  john wick  creed  dungeons amp dragons scream ...                 1   \n",
            "12                        i gotta go see john wick                    1   \n",
            "13   im having fun using the socratic method askin...                 1   \n",
            "14                      i need to go watch john wick                  1   \n",
            "15  i wanna go to the movies tonight i have to see...                 1   \n",
            "16                              john wick  e una shit                 0   \n",
            "17  john wick  is such a good movie from the cinem...                 1   \n",
            "18  john wick  is ass man don t bother  hours of d...                 0   \n",
            "19                  best action movie ever john wick                  1   \n",
            "\n",
            "   senti_pred senti_pred2  sarc_true_label sarc_pred  \n",
            "0        None        None                0      None  \n",
            "1        None        None                0      None  \n",
            "2        None        None                0      None  \n",
            "3        None        None                1      None  \n",
            "4        None        None                0      None  \n",
            "5        None        None                0      None  \n",
            "6        None        None                0      None  \n",
            "7        None        None                1      None  \n",
            "8        None        None                1      None  \n",
            "9        None        None                0      None  \n",
            "10       None        None                0      None  \n",
            "11       None        None                0      None  \n",
            "12       None        None                0      None  \n",
            "13       None        None                1      None  \n",
            "14       None        None                0      None  \n",
            "15       None        None                0      None  \n",
            "16       None        None                0      None  \n",
            "17       None        None                0      None  \n",
            "18       None        None                1      None  \n",
            "19       None        None                0      None  \n"
          ]
        }
      ]
    },
    {
      "cell_type": "markdown",
      "source": [
        "# tokenization and padding"
      ],
      "metadata": {
        "id": "y4gyMTNuGzzG"
      }
    },
    {
      "cell_type": "code",
      "source": [
        "import tensorflow as tf\n",
        "import keras\n",
        "import pickle\n",
        "from tensorflow.keras.preprocessing.sequence import pad_sequences"
      ],
      "metadata": {
        "id": "CwcOvRs6G2P9"
      },
      "execution_count": null,
      "outputs": []
    },
    {
      "cell_type": "code",
      "source": [
        "# vectorizing and padding for sarc input\n",
        "def sarc_tokenizer(input):\n",
        "    with open('./tokenzier.pickle', 'rb') as handle:\n",
        "        tokenizer = pickle.load(handle)\n",
        "\n",
        "    seq = tokenizer.texts_to_sequences(input)\n",
        "    pad = pad_sequences(seq, maxlen=200, padding='pre', truncating='pre')\n",
        "    return pad\n",
        "\n",
        "# vectorizing and padding for sentiment input\n",
        "def senti_tokenizer(input):\n",
        "    with open('./senti_tokenzier.pickle', 'rb') as handle:\n",
        "        senti_tokenizer = pickle.load(handle)\n",
        "\n",
        "    seq = senti_tokenizer.texts_to_sequences(input)\n",
        "    pad = pad_sequences(seq, maxlen=200, padding='pre', truncating='pre')\n",
        "    return pad\n",
        "\n",
        "# vectorizing and padding for sentiment input\n",
        "def twitter_senti_tokenizer(input):\n",
        "    with open('./airline_senti_tokenzier2.pickle', 'rb') as handle:\n",
        "        senti_tokenizer = pickle.load(handle)\n",
        "\n",
        "    seq = senti_tokenizer.texts_to_sequences(input)\n",
        "    pad = pad_sequences(seq, maxlen=50, padding='pre', truncating='pre')\n",
        "    return pad"
      ],
      "metadata": {
        "id": "nnf7Legx6A0f"
      },
      "execution_count": null,
      "outputs": []
    },
    {
      "cell_type": "code",
      "source": [
        "tweet_vect_senti = senti_tokenizer(tweets_processed_test)\n",
        "tweet_vect_senti2 = twitter_senti_tokenizer(tweets_processed_test)\n",
        "tweet_vect_sarc = sarc_tokenizer(tweets_processed_test)"
      ],
      "metadata": {
        "id": "xFv_plmQ6Lus"
      },
      "execution_count": null,
      "outputs": []
    },
    {
      "cell_type": "markdown",
      "source": [
        "# Loading models"
      ],
      "metadata": {
        "id": "CpsDUrVa6bql"
      }
    },
    {
      "cell_type": "code",
      "source": [
        "senti_model = tf.keras.models.load_model('./senti_model3.h5')\n",
        "twitter_senti_model = tf.keras.models.load_model('./twitter_airline_model3.h5')\n",
        "sarc_model = tf.keras.models.load_model('./sarc_model2.h5')"
      ],
      "metadata": {
        "id": "ySHQgnRf6dqQ"
      },
      "execution_count": null,
      "outputs": []
    },
    {
      "cell_type": "code",
      "source": [
        "#sentiment analysis \n",
        "def predict_senti(input):\n",
        "    senti_model_output = senti_model.predict(input)\n",
        "    return senti_model_output\n",
        "    \n",
        "def predict_senti2(input):\n",
        "    senti2_model_output = twitter_senti_model.predict(input)\n",
        "    return senti2_model_output\n",
        "    \n",
        "def convert_setiments(model_output):\n",
        "    senti_arr = []\n",
        "    for val in model_output:\n",
        "      if val >= 0.5: #change thershold for better optimised results\n",
        "        senti_arr.append(1)\n",
        "      else:\n",
        "        senti_arr.append(0)\n",
        "    return senti_arr\n",
        "\n",
        "\n",
        "#sarcasm detection \n",
        "def predict_sarc(input):\n",
        "    sarc_model_output = sarc_model.predict(input)\n",
        "    return sarc_model_output\n",
        "    \n",
        "def convert_sarc(model_output):\n",
        "    sarc_arr = []\n",
        "    for val in model_output:\n",
        "      if val >= 0.5: #change thershold for better optimised results\n",
        "        sarc_arr.append(1)\n",
        "      else:\n",
        "        sarc_arr.append(0)\n",
        "    return sarc_arr"
      ],
      "metadata": {
        "id": "sRAF5D_C6kOg"
      },
      "execution_count": null,
      "outputs": []
    },
    {
      "cell_type": "markdown",
      "source": [
        "# Model predictions"
      ],
      "metadata": {
        "id": "xOjNtNoAHkm-"
      }
    },
    {
      "cell_type": "code",
      "source": [
        "senti_results = predict_senti(tweet_vect_senti)"
      ],
      "metadata": {
        "colab": {
          "base_uri": "https://localhost:8080/"
        },
        "id": "Utc_maRB6nk-",
        "outputId": "33400e3d-0921-463c-ce25-0ae5d72e3d57"
      },
      "execution_count": null,
      "outputs": [
        {
          "output_type": "stream",
          "name": "stdout",
          "text": [
            "1/1 [==============================] - 1s 507ms/step\n"
          ]
        }
      ]
    },
    {
      "cell_type": "code",
      "source": [
        "senti2_results = predict_senti2(tweet_vect_senti2)"
      ],
      "metadata": {
        "colab": {
          "base_uri": "https://localhost:8080/"
        },
        "id": "9ORm3xnpMBpA",
        "outputId": "53fd9883-5aec-4c0d-8f1a-e5b8683f2b45"
      },
      "execution_count": null,
      "outputs": [
        {
          "output_type": "stream",
          "name": "stderr",
          "text": [
            "WARNING:tensorflow:5 out of the last 5 calls to <function Model.make_predict_function.<locals>.predict_function at 0x7fa2000dc0d0> triggered tf.function retracing. Tracing is expensive and the excessive number of tracings could be due to (1) creating @tf.function repeatedly in a loop, (2) passing tensors with different shapes, (3) passing Python objects instead of tensors. For (1), please define your @tf.function outside of the loop. For (2), @tf.function has reduce_retracing=True option that can avoid unnecessary retracing. For (3), please refer to https://www.tensorflow.org/guide/function#controlling_retracing and https://www.tensorflow.org/api_docs/python/tf/function for  more details.\n"
          ]
        },
        {
          "output_type": "stream",
          "name": "stdout",
          "text": [
            "1/1 [==============================] - 0s 297ms/step\n"
          ]
        }
      ]
    },
    {
      "cell_type": "code",
      "source": [
        "sarc_results = predict_sarc(tweet_vect_sarc)"
      ],
      "metadata": {
        "colab": {
          "base_uri": "https://localhost:8080/"
        },
        "id": "wx5N4-vg6qj0",
        "outputId": "b6d687c0-eb5e-4298-f7df-6422adea3f28"
      },
      "execution_count": null,
      "outputs": [
        {
          "output_type": "stream",
          "name": "stderr",
          "text": [
            "WARNING:tensorflow:6 out of the last 6 calls to <function Model.make_predict_function.<locals>.predict_function at 0x7fa1f3fb2790> triggered tf.function retracing. Tracing is expensive and the excessive number of tracings could be due to (1) creating @tf.function repeatedly in a loop, (2) passing tensors with different shapes, (3) passing Python objects instead of tensors. For (1), please define your @tf.function outside of the loop. For (2), @tf.function has reduce_retracing=True option that can avoid unnecessary retracing. For (3), please refer to https://www.tensorflow.org/guide/function#controlling_retracing and https://www.tensorflow.org/api_docs/python/tf/function for  more details.\n"
          ]
        },
        {
          "output_type": "stream",
          "name": "stdout",
          "text": [
            "1/1 [==============================] - 0s 64ms/step\n"
          ]
        }
      ]
    },
    {
      "cell_type": "code",
      "source": [
        "# exports\n",
        "senti_export = convert_setiments(senti_results)\n",
        "senti2_export = convert_setiments(senti2_results)\n",
        "sarc_export = convert_sarc(sarc_results)"
      ],
      "metadata": {
        "id": "zopovv6b6uoK"
      },
      "execution_count": null,
      "outputs": []
    },
    {
      "cell_type": "code",
      "source": [
        "print(df_tweet_results['senti_true_label'].values)"
      ],
      "metadata": {
        "colab": {
          "base_uri": "https://localhost:8080/"
        },
        "id": "gipcfdwAcEaC",
        "outputId": "de3d5be5-d417-40f9-8c96-59156984e5c5"
      },
      "execution_count": null,
      "outputs": [
        {
          "output_type": "stream",
          "name": "stdout",
          "text": [
            "[1 1 1 1 0 1 1 1 1 0 0 1 1 1 1 1 0 1 0 1]\n"
          ]
        }
      ]
    },
    {
      "cell_type": "code",
      "source": [
        "print(senti_export)"
      ],
      "metadata": {
        "colab": {
          "base_uri": "https://localhost:8080/"
        },
        "id": "oD_C65n4GAet",
        "outputId": "df5a53aa-855b-495e-f226-5aeecff820d8"
      },
      "execution_count": null,
      "outputs": [
        {
          "output_type": "stream",
          "name": "stdout",
          "text": [
            "[1, 0, 1, 0, 1, 1, 1, 1, 1, 1, 1, 0, 1, 0, 1, 1, 1, 1, 0, 1]\n"
          ]
        }
      ]
    },
    {
      "cell_type": "code",
      "source": [
        "print(senti2_export)"
      ],
      "metadata": {
        "id": "y2OLVY-tNTl9"
      },
      "execution_count": null,
      "outputs": []
    },
    {
      "cell_type": "code",
      "source": [
        "print(sarc_export)"
      ],
      "metadata": {
        "colab": {
          "base_uri": "https://localhost:8080/"
        },
        "id": "ajnUH4W1GCRI",
        "outputId": "2cd96185-fea3-4e96-ed52-2edac3418666"
      },
      "execution_count": null,
      "outputs": [
        {
          "output_type": "stream",
          "name": "stdout",
          "text": [
            "[0, 0, 1, 0, 0, 1, 0, 0, 0, 0, 0, 0, 0, 0, 0, 0, 1, 0, 1, 0]\n"
          ]
        }
      ]
    },
    {
      "cell_type": "code",
      "source": [
        "df_tweet_results['senti_pred'] = senti_export"
      ],
      "metadata": {
        "id": "UzkUbQNUESFH"
      },
      "execution_count": null,
      "outputs": []
    },
    {
      "cell_type": "code",
      "source": [
        "df_tweet_results['senti_pred2'] = senti2_export"
      ],
      "metadata": {
        "id": "sDHdfsfRNaDU"
      },
      "execution_count": null,
      "outputs": []
    },
    {
      "cell_type": "code",
      "source": [
        "df_tweet_results['sarc_pred'] = sarc_export"
      ],
      "metadata": {
        "id": "EHcxgwEiG2iC"
      },
      "execution_count": null,
      "outputs": []
    },
    {
      "cell_type": "code",
      "source": [
        "print(df_tweet_results)"
      ],
      "metadata": {
        "colab": {
          "base_uri": "https://localhost:8080/"
        },
        "id": "5Os4rEMbG6st",
        "outputId": "2c29d435-6e7e-49db-82bc-9ff90fd7f7b4"
      },
      "execution_count": null,
      "outputs": [
        {
          "output_type": "stream",
          "name": "stdout",
          "text": [
            "                                               tweets  senti_true_label  \\\n",
            "0   what a freaking friday  davido s album timeles...                 1   \n",
            "1   john wick  and creed  were a breath of fresh a...                 1   \n",
            "2   john wick  earns m in the film s worldwide ope...                 1   \n",
            "3   my john wick  review john wick is autistic cod...                 1   \n",
            "4                                       john wick                     0   \n",
            "5   goddamnit still can t get over how fucking ins...                 1   \n",
            "6                                 gm enjoy john wick                  1   \n",
            "7    after watching john wick  i can indeed say to...                 1   \n",
            "8    superheroes are done thanks to top gun maveri...                 1   \n",
            "9    sir when can we expect john wick  to be avail...                 0   \n",
            "10                                 john wick  was mid                 0   \n",
            "11  john wick  creed  dungeons amp dragons scream ...                 1   \n",
            "12                        i gotta go see john wick                    1   \n",
            "13   im having fun using the socratic method askin...                 1   \n",
            "14                      i need to go watch john wick                  1   \n",
            "15  i wanna go to the movies tonight i have to see...                 1   \n",
            "16                              john wick  e una shit                 0   \n",
            "17  john wick  is such a good movie from the cinem...                 1   \n",
            "18  john wick  is ass man don t bother  hours of d...                 0   \n",
            "19                  best action movie ever john wick                  1   \n",
            "\n",
            "    senti_pred  senti_pred2  sarc_true_label  sarc_pred  senti2_pred  \n",
            "0            1            1                0          0            0  \n",
            "1            0            1                0          0            0  \n",
            "2            1            1                0          1            0  \n",
            "3            0            1                1          0            0  \n",
            "4            1            0                0          0            0  \n",
            "5            1            0                0          1            0  \n",
            "6            1            1                0          0            1  \n",
            "7            1            0                1          0            0  \n",
            "8            1            1                1          0            1  \n",
            "9            1            0                0          0            0  \n",
            "10           1            1                0          0            1  \n",
            "11           0            1                0          0            1  \n",
            "12           1            0                0          0            0  \n",
            "13           0            0                1          0            0  \n",
            "14           1            0                0          0            0  \n",
            "15           1            1                0          0            1  \n",
            "16           1            0                0          1            0  \n",
            "17           1            1                0          0            1  \n",
            "18           0            0                1          1            0  \n",
            "19           1            1                0          0            1  \n"
          ]
        }
      ]
    },
    {
      "cell_type": "code",
      "source": [
        "df_tweet_results.to_csv('./test1_results.csv')"
      ],
      "metadata": {
        "id": "Gk6pcognei34"
      },
      "execution_count": null,
      "outputs": []
    },
    {
      "cell_type": "markdown",
      "source": [
        "# evaluation"
      ],
      "metadata": {
        "id": "YMHauf8WHneX"
      }
    },
    {
      "cell_type": "code",
      "source": [
        "!pip install matplotlib"
      ],
      "metadata": {
        "id": "8zL_XJOrI3xR",
        "colab": {
          "base_uri": "https://localhost:8080/"
        },
        "outputId": "b27cd283-cc49-4687-ef3c-0b5fd2920940"
      },
      "execution_count": null,
      "outputs": [
        {
          "output_type": "stream",
          "name": "stdout",
          "text": [
            "Looking in indexes: https://pypi.org/simple, https://us-python.pkg.dev/colab-wheels/public/simple/\n",
            "Requirement already satisfied: matplotlib in /usr/local/lib/python3.9/dist-packages (3.7.1)\n",
            "Requirement already satisfied: cycler>=0.10 in /usr/local/lib/python3.9/dist-packages (from matplotlib) (0.11.0)\n",
            "Requirement already satisfied: fonttools>=4.22.0 in /usr/local/lib/python3.9/dist-packages (from matplotlib) (4.39.3)\n",
            "Requirement already satisfied: importlib-resources>=3.2.0 in /usr/local/lib/python3.9/dist-packages (from matplotlib) (5.12.0)\n",
            "Requirement already satisfied: numpy>=1.20 in /usr/local/lib/python3.9/dist-packages (from matplotlib) (1.22.4)\n",
            "Requirement already satisfied: packaging>=20.0 in /usr/local/lib/python3.9/dist-packages (from matplotlib) (23.0)\n",
            "Requirement already satisfied: pillow>=6.2.0 in /usr/local/lib/python3.9/dist-packages (from matplotlib) (8.4.0)\n",
            "Requirement already satisfied: contourpy>=1.0.1 in /usr/local/lib/python3.9/dist-packages (from matplotlib) (1.0.7)\n",
            "Requirement already satisfied: pyparsing>=2.3.1 in /usr/local/lib/python3.9/dist-packages (from matplotlib) (3.0.9)\n",
            "Requirement already satisfied: kiwisolver>=1.0.1 in /usr/local/lib/python3.9/dist-packages (from matplotlib) (1.4.4)\n",
            "Requirement already satisfied: python-dateutil>=2.7 in /usr/local/lib/python3.9/dist-packages (from matplotlib) (2.8.2)\n",
            "Requirement already satisfied: zipp>=3.1.0 in /usr/local/lib/python3.9/dist-packages (from importlib-resources>=3.2.0->matplotlib) (3.15.0)\n",
            "Requirement already satisfied: six>=1.5 in /usr/local/lib/python3.9/dist-packages (from python-dateutil>=2.7->matplotlib) (1.16.0)\n"
          ]
        }
      ]
    },
    {
      "cell_type": "code",
      "source": [
        "import numpy as np\n",
        "import seaborn as sns\n",
        "\n",
        "from sklearn.metrics import confusion_matrix\n",
        "from sklearn.metrics import classification_report\n",
        "from matplotlib import pyplot as plt"
      ],
      "metadata": {
        "id": "sHxcPdvNHo-2"
      },
      "execution_count": null,
      "outputs": []
    },
    {
      "cell_type": "code",
      "source": [
        "def conf_matrix(y_true, y_pred):\n",
        "\n",
        "  conf_matrix = confusion_matrix(y_true, y_pred)\n",
        "\n",
        "  print(conf_matrix)\n",
        "\n",
        "  sns.heatmap(conf_matrix, cmap='YlGn', annot=True, fmt='g')\n",
        "  plt.xlabel('Predicted')\n",
        "  plt.ylabel('True')\n",
        "  plt.show()"
      ],
      "metadata": {
        "id": "M0WqjLQ7HymU"
      },
      "execution_count": null,
      "outputs": []
    },
    {
      "cell_type": "code",
      "source": [
        "def class_report(y_true, y_pred):\n",
        "\n",
        "    print(classification_report(y_true, y_pred))"
      ],
      "metadata": {
        "id": "sdCnsH2FH6YG"
      },
      "execution_count": null,
      "outputs": []
    },
    {
      "cell_type": "code",
      "source": [
        "conf_matrix(df_tweet_results['senti_true_label'].values, df_tweet_results['senti_pred'].values)"
      ],
      "metadata": {
        "colab": {
          "base_uri": "https://localhost:8080/",
          "height": 485
        },
        "id": "K-_xhge9Zin6",
        "outputId": "55b644cc-448d-4107-e478-5545030dd236"
      },
      "execution_count": null,
      "outputs": [
        {
          "output_type": "stream",
          "name": "stdout",
          "text": [
            "[[ 1  4]\n",
            " [ 4 11]]\n"
          ]
        },
        {
          "output_type": "display_data",
          "data": {
            "text/plain": [
              "<Figure size 640x480 with 2 Axes>"
            ],
            "image/png": "[encoded data removed]"
          },
          "metadata": {}
        }
      ]
    },
    {
      "cell_type": "code",
      "source": [
        "conf_matrix(df_tweet_results['senti_true_label'].values, df_tweet_results['senti_pred2'].values)"
      ],
      "metadata": {
        "colab": {
          "base_uri": "https://localhost:8080/",
          "height": 491
        },
        "id": "7ALWhi1mZktB",
        "outputId": "231b2bb0-4203-4375-85fa-5f96925b64fa"
      },
      "execution_count": null,
      "outputs": [
        {
          "output_type": "stream",
          "name": "stdout",
          "text": [
            "[[ 4  1]\n",
            " [ 5 10]]\n"
          ]
        },
        {
          "output_type": "display_data",
          "data": {
            "text/plain": [
              "<Figure size 640x480 with 2 Axes>"
            ],
            "image/png": "[encoded data removed]"
          },
          "metadata": {}
        }
      ]
    },
    {
      "cell_type": "code",
      "source": [
        "class_report(df_tweet_results['senti_true_label'].values, df_tweet_results['senti_pred'].values)"
      ],
      "metadata": {
        "colab": {
          "base_uri": "https://localhost:8080/"
        },
        "id": "FGmZkk12aXd_",
        "outputId": "db63e460-3abd-4844-cbe5-b957f0f1944d"
      },
      "execution_count": null,
      "outputs": [
        {
          "output_type": "stream",
          "name": "stdout",
          "text": [
            "              precision    recall  f1-score   support\n",
            "\n",
            "           0       0.20      0.20      0.20         5\n",
            "           1       0.73      0.73      0.73        15\n",
            "\n",
            "    accuracy                           0.60        20\n",
            "   macro avg       0.47      0.47      0.47        20\n",
            "weighted avg       0.60      0.60      0.60        20\n",
            "\n"
          ]
        }
      ]
    },
    {
      "cell_type": "code",
      "source": [
        "class_report(df_tweet_results['senti_true_label'].values, df_tweet_results['senti_pred2'].values)"
      ],
      "metadata": {
        "colab": {
          "base_uri": "https://localhost:8080/"
        },
        "id": "4qIhIOVXashu",
        "outputId": "6f6caed4-43cb-4b1a-93b0-fde2ad1f8232"
      },
      "execution_count": null,
      "outputs": [
        {
          "output_type": "stream",
          "name": "stdout",
          "text": [
            "              precision    recall  f1-score   support\n",
            "\n",
            "           0       0.44      0.80      0.57         5\n",
            "           1       0.91      0.67      0.77        15\n",
            "\n",
            "    accuracy                           0.70        20\n",
            "   macro avg       0.68      0.73      0.67        20\n",
            "weighted avg       0.79      0.70      0.72        20\n",
            "\n"
          ]
        }
      ]
    },
    {
      "cell_type": "code",
      "source": [],
      "metadata": {
        "id": "WXPNympeas1n"
      },
      "execution_count": null,
      "outputs": []
    },
    {
      "cell_type": "code",
      "source": [
        "conf_matrix(df_tweet_results['sarc_true_label'].values, df_tweet_results['sarc_pred'].values)"
      ],
      "metadata": {
        "colab": {
          "base_uri": "https://localhost:8080/",
          "height": 491
        },
        "id": "5cOjpEaFaaj-",
        "outputId": "ce637a31-b917-4796-8244-66eda3d26472"
      },
      "execution_count": null,
      "outputs": [
        {
          "output_type": "stream",
          "name": "stdout",
          "text": [
            "[[12  3]\n",
            " [ 4  1]]\n"
          ]
        },
        {
          "output_type": "display_data",
          "data": {
            "text/plain": [
              "<Figure size 640x480 with 2 Axes>"
            ],
            "image/png": "[encoded data removed]"
          },
          "metadata": {}
        }
      ]
    },
    {
      "cell_type": "code",
      "source": [
        "class_report(df_tweet_results['sarc_true_label'].values, df_tweet_results['sarc_pred'].values)"
      ],
      "metadata": {
        "colab": {
          "base_uri": "https://localhost:8080/"
        },
        "id": "9rxH5V60abKw",
        "outputId": "14b62154-7c1b-470e-b1c1-78da3cc3f1e1"
      },
      "execution_count": null,
      "outputs": [
        {
          "output_type": "stream",
          "name": "stdout",
          "text": [
            "              precision    recall  f1-score   support\n",
            "\n",
            "           0       0.75      0.80      0.77        15\n",
            "           1       0.25      0.20      0.22         5\n",
            "\n",
            "    accuracy                           0.65        20\n",
            "   macro avg       0.50      0.50      0.50        20\n",
            "weighted avg       0.62      0.65      0.64        20\n",
            "\n"
          ]
        }
      ]
    }
  ]
}