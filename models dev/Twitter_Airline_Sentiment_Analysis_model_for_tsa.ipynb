{
  "nbformat": 4,
  "nbformat_minor": 0,
  "metadata": {
    "colab": {
      "provenance": []
    },
    "kernelspec": {
      "name": "python3",
      "display_name": "Python 3"
    },
    "language_info": {
      "name": "python"
    },
    "accelerator": "GPU",
    "gpuClass": "standard"
  },
  "cells": [
    {
      "cell_type": "markdown",
      "source": [
        "# Sentiment Analysis model development (Twitter Airline dataset)\n",
        "###For TrendSentimentAnalysis (tsa.)\n",
        "Joyster Rodrigues | 2018487"
      ],
      "metadata": {
        "id": "N8--uLeDxzpp"
      }
    },
    {
      "cell_type": "markdown",
      "source": [
        "**Instructions:**\n",
        "Please download and store the dataset in the 'Files' section upon connecting to a runtime </br>\n",
        "Download the dataset from [original source](https://www.kaggle.com/datasets/crowdflower/twitter-airline-sentiment) or from [this link](https://drive.google.com/drive/folders/19AwC_aP13RTJBK7Xx2J0-Q50W14Nmam8?usp=share_link)"
      ],
      "metadata": {
        "id": "flxCDjXRBbvj"
      }
    },
    {
      "cell_type": "code",
      "source": [
        "# imports\n",
        "import tensorflow as tf\n",
        "import numpy as np\n",
        "import pandas as pd\n",
        "import nltk\n",
        "import re\n",
        "import matplotlib.pyplot as plt\n",
        "import seaborn as sns\n",
        "import string\n",
        "\n",
        "from tensorflow import keras\n",
        "from tensorflow.keras.preprocessing.text import Tokenizer\n",
        "from tensorflow.keras.preprocessing.sequence import pad_sequences\n",
        "from tensorflow.keras.models import Sequential\n",
        "from tensorflow.keras.layers import Dense, Embedding, Flatten, LSTM, Bidirectional, SimpleRNN, Conv1D, MaxPooling1D, Dropout, SpatialDropout1D\n",
        "from tensorflow.keras.callbacks import EarlyStopping, ModelCheckpoint\n",
        "from bs4 import BeautifulSoup\n",
        "from nltk.stem import WordNetLemmatizer\n",
        "\n",
        "from sklearn.model_selection import train_test_split\n",
        "from sklearn.metrics import confusion_matrix\n",
        "from sklearn.metrics import classification_report\n"
      ],
      "metadata": {
        "id": "MIpmu9JILHzQ"
      },
      "execution_count": null,
      "outputs": []
    },
    {
      "cell_type": "code",
      "source": [
        "df_tweets = pd.read_csv('./Tweets.csv')"
      ],
      "metadata": {
        "id": "ST2ZQbMnIpuo"
      },
      "execution_count": null,
      "outputs": []
    },
    {
      "cell_type": "code",
      "source": [
        "df_tweets.head()"
      ],
      "metadata": {
        "colab": {
          "base_uri": "https://localhost:8080/",
          "height": 496
        },
        "id": "ZXRDA-azIwEl",
        "outputId": "77876953-4fa1-4ebd-c26f-e3abe0fe51c9"
      },
      "execution_count": null,
      "outputs": [
        {
          "output_type": "execute_result",
          "data": {
            "text/plain": [
              "             tweet_id airline_sentiment  airline_sentiment_confidence  \\\n",
              "0  570306133677760513           neutral                        1.0000   \n",
              "1  570301130888122368          positive                        0.3486   \n",
              "2  570301083672813571           neutral                        0.6837   \n",
              "3  570301031407624196          negative                        1.0000   \n",
              "4  570300817074462722          negative                        1.0000   \n",
              "\n",
              "  negativereason  negativereason_confidence         airline  \\\n",
              "0            NaN                        NaN  Virgin America   \n",
              "1            NaN                     0.0000  Virgin America   \n",
              "2            NaN                        NaN  Virgin America   \n",
              "3     Bad Flight                     0.7033  Virgin America   \n",
              "4     Can't Tell                     1.0000  Virgin America   \n",
              "\n",
              "  airline_sentiment_gold        name negativereason_gold  retweet_count  \\\n",
              "0                    NaN     cairdin                 NaN              0   \n",
              "1                    NaN    jnardino                 NaN              0   \n",
              "2                    NaN  yvonnalynn                 NaN              0   \n",
              "3                    NaN    jnardino                 NaN              0   \n",
              "4                    NaN    jnardino                 NaN              0   \n",
              "\n",
              "                                                text tweet_coord  \\\n",
              "0                @VirginAmerica What @dhepburn said.         NaN   \n",
              "1  @VirginAmerica plus you've added commercials t...         NaN   \n",
              "2  @VirginAmerica I didn't today... Must mean I n...         NaN   \n",
              "3  @VirginAmerica it's really aggressive to blast...         NaN   \n",
              "4  @VirginAmerica and it's a really big bad thing...         NaN   \n",
              "\n",
              "               tweet_created tweet_location               user_timezone  \n",
              "0  2015-02-24 11:35:52 -0800            NaN  Eastern Time (US & Canada)  \n",
              "1  2015-02-24 11:15:59 -0800            NaN  Pacific Time (US & Canada)  \n",
              "2  2015-02-24 11:15:48 -0800      Lets Play  Central Time (US & Canada)  \n",
              "3  2015-02-24 11:15:36 -0800            NaN  Pacific Time (US & Canada)  \n",
              "4  2015-02-24 11:14:45 -0800            NaN  Pacific Time (US & Canada)  "
            ],
            "text/html": [
              "\n",
              "  <div id=\"df-9f20536a-cea2-4686-b9be-402135392c58\">\n",
              "    <div class=\"colab-df-container\">\n",
              "      <div>\n",
              "<style scoped>\n",
              "    .dataframe tbody tr th:only-of-type {\n",
              "        vertical-align: middle;\n",
              "    }\n",
              "\n",
              "    .dataframe tbody tr th {\n",
              "        vertical-align: top;\n",
              "    }\n",
              "\n",
              "    .dataframe thead th {\n",
              "        text-align: right;\n",
              "    }\n",
              "</style>\n",
              "<table border=\"1\" class=\"dataframe\">\n",
              "  <thead>\n",
              "    <tr style=\"text-align: right;\">\n",
              "      <th></th>\n",
              "      <th>tweet_id</th>\n",
              "      <th>airline_sentiment</th>\n",
              "      <th>airline_sentiment_confidence</th>\n",
              "      <th>negativereason</th>\n",
              "      <th>negativereason_confidence</th>\n",
              "      <th>airline</th>\n",
              "      <th>airline_sentiment_gold</th>\n",
              "      <th>name</th>\n",
              "      <th>negativereason_gold</th>\n",
              "      <th>retweet_count</th>\n",
              "      <th>text</th>\n",
              "      <th>tweet_coord</th>\n",
              "      <th>tweet_created</th>\n",
              "      <th>tweet_location</th>\n",
              "      <th>user_timezone</th>\n",
              "    </tr>\n",
              "  </thead>\n",
              "  <tbody>\n",
              "    <tr>\n",
              "      <th>0</th>\n",
              "      <td>570306133677760513</td>\n",
              "      <td>neutral</td>\n",
              "      <td>1.0000</td>\n",
              "      <td>NaN</td>\n",
              "      <td>NaN</td>\n",
              "      <td>Virgin America</td>\n",
              "      <td>NaN</td>\n",
              "      <td>cairdin</td>\n",
              "      <td>NaN</td>\n",
              "      <td>0</td>\n",
              "      <td>@VirginAmerica What @dhepburn said.</td>\n",
              "      <td>NaN</td>\n",
              "      <td>2015-02-24 11:35:52 -0800</td>\n",
              "      <td>NaN</td>\n",
              "      <td>Eastern Time (US &amp; Canada)</td>\n",
              "    </tr>\n",
              "    <tr>\n",
              "      <th>1</th>\n",
              "      <td>570301130888122368</td>\n",
              "      <td>positive</td>\n",
              "      <td>0.3486</td>\n",
              "      <td>NaN</td>\n",
              "      <td>0.0000</td>\n",
              "      <td>Virgin America</td>\n",
              "      <td>NaN</td>\n",
              "      <td>jnardino</td>\n",
              "      <td>NaN</td>\n",
              "      <td>0</td>\n",
              "      <td>@VirginAmerica plus you've added commercials t...</td>\n",
              "      <td>NaN</td>\n",
              "      <td>2015-02-24 11:15:59 -0800</td>\n",
              "      <td>NaN</td>\n",
              "      <td>Pacific Time (US &amp; Canada)</td>\n",
              "    </tr>\n",
              "    <tr>\n",
              "      <th>2</th>\n",
              "      <td>570301083672813571</td>\n",
              "      <td>neutral</td>\n",
              "      <td>0.6837</td>\n",
              "      <td>NaN</td>\n",
              "      <td>NaN</td>\n",
              "      <td>Virgin America</td>\n",
              "      <td>NaN</td>\n",
              "      <td>yvonnalynn</td>\n",
              "      <td>NaN</td>\n",
              "      <td>0</td>\n",
              "      <td>@VirginAmerica I didn't today... Must mean I n...</td>\n",
              "      <td>NaN</td>\n",
              "      <td>2015-02-24 11:15:48 -0800</td>\n",
              "      <td>Lets Play</td>\n",
              "      <td>Central Time (US &amp; Canada)</td>\n",
              "    </tr>\n",
              "    <tr>\n",
              "      <th>3</th>\n",
              "      <td>570301031407624196</td>\n",
              "      <td>negative</td>\n",
              "      <td>1.0000</td>\n",
              "      <td>Bad Flight</td>\n",
              "      <td>0.7033</td>\n",
              "      <td>Virgin America</td>\n",
              "      <td>NaN</td>\n",
              "      <td>jnardino</td>\n",
              "      <td>NaN</td>\n",
              "      <td>0</td>\n",
              "      <td>@VirginAmerica it's really aggressive to blast...</td>\n",
              "      <td>NaN</td>\n",
              "      <td>2015-02-24 11:15:36 -0800</td>\n",
              "      <td>NaN</td>\n",
              "      <td>Pacific Time (US &amp; Canada)</td>\n",
              "    </tr>\n",
              "    <tr>\n",
              "      <th>4</th>\n",
              "      <td>570300817074462722</td>\n",
              "      <td>negative</td>\n",
              "      <td>1.0000</td>\n",
              "      <td>Can't Tell</td>\n",
              "      <td>1.0000</td>\n",
              "      <td>Virgin America</td>\n",
              "      <td>NaN</td>\n",
              "      <td>jnardino</td>\n",
              "      <td>NaN</td>\n",
              "      <td>0</td>\n",
              "      <td>@VirginAmerica and it's a really big bad thing...</td>\n",
              "      <td>NaN</td>\n",
              "      <td>2015-02-24 11:14:45 -0800</td>\n",
              "      <td>NaN</td>\n",
              "      <td>Pacific Time (US &amp; Canada)</td>\n",
              "    </tr>\n",
              "  </tbody>\n",
              "</table>\n",
              "</div>\n",
              "      <button class=\"colab-df-convert\" onclick=\"convertToInteractive('df-9f20536a-cea2-4686-b9be-402135392c58')\"\n",
              "              title=\"Convert this dataframe to an interactive table.\"\n",
              "              style=\"display:none;\">\n",
              "        \n",
              "  <svg xmlns=\"http://www.w3.org/2000/svg\" height=\"24px\"viewBox=\"0 0 24 24\"\n",
              "       width=\"24px\">\n",
              "    <path d=\"M0 0h24v24H0V0z\" fill=\"none\"/>\n",
              "    <path d=\"M18.56 5.44l.94 2.06.94-2.06 2.06-.94-2.06-.94-.94-2.06-.94 2.06-2.06.94zm-11 1L8.5 8.5l.94-2.06 2.06-.94-2.06-.94L8.5 2.5l-.94 2.06-2.06.94zm10 10l.94 2.06.94-2.06 2.06-.94-2.06-.94-.94-2.06-.94 2.06-2.06.94z\"/><path d=\"M17.41 7.96l-1.37-1.37c-.4-.4-.92-.59-1.43-.59-.52 0-1.04.2-1.43.59L10.3 9.45l-7.72 7.72c-.78.78-.78 2.05 0 2.83L4 21.41c.39.39.9.59 1.41.59.51 0 1.02-.2 1.41-.59l7.78-7.78 2.81-2.81c.8-.78.8-2.07 0-2.86zM5.41 20L4 18.59l7.72-7.72 1.47 1.35L5.41 20z\"/>\n",
              "  </svg>\n",
              "      </button>\n",
              "      \n",
              "  <style>\n",
              "    .colab-df-container {\n",
              "      display:flex;\n",
              "      flex-wrap:wrap;\n",
              "      gap: 12px;\n",
              "    }\n",
              "\n",
              "    .colab-df-convert {\n",
              "      background-color: #E8F0FE;\n",
              "      border: none;\n",
              "      border-radius: 50%;\n",
              "      cursor: pointer;\n",
              "      display: none;\n",
              "      fill: #1967D2;\n",
              "      height: 32px;\n",
              "      padding: 0 0 0 0;\n",
              "      width: 32px;\n",
              "    }\n",
              "\n",
              "    .colab-df-convert:hover {\n",
              "      background-color: #E2EBFA;\n",
              "      box-shadow: 0px 1px 2px rgba(60, 64, 67, 0.3), 0px 1px 3px 1px rgba(60, 64, 67, 0.15);\n",
              "      fill: #174EA6;\n",
              "    }\n",
              "\n",
              "    [theme=dark] .colab-df-convert {\n",
              "      background-color: #3B4455;\n",
              "      fill: #D2E3FC;\n",
              "    }\n",
              "\n",
              "    [theme=dark] .colab-df-convert:hover {\n",
              "      background-color: #434B5C;\n",
              "      box-shadow: 0px 1px 3px 1px rgba(0, 0, 0, 0.15);\n",
              "      filter: drop-shadow(0px 1px 2px rgba(0, 0, 0, 0.3));\n",
              "      fill: #FFFFFF;\n",
              "    }\n",
              "  </style>\n",
              "\n",
              "      <script>\n",
              "        const buttonEl =\n",
              "          document.querySelector('#df-9f20536a-cea2-4686-b9be-402135392c58 button.colab-df-convert');\n",
              "        buttonEl.style.display =\n",
              "          google.colab.kernel.accessAllowed ? 'block' : 'none';\n",
              "\n",
              "        async function convertToInteractive(key) {\n",
              "          const element = document.querySelector('#df-9f20536a-cea2-4686-b9be-402135392c58');\n",
              "          const dataTable =\n",
              "            await google.colab.kernel.invokeFunction('convertToInteractive',\n",
              "                                                     [key], {});\n",
              "          if (!dataTable) return;\n",
              "\n",
              "          const docLinkHtml = 'Like what you see? Visit the ' +\n",
              "            '<a target=\"_blank\" href=https://colab.research.google.com/notebooks/data_table.ipynb>data table notebook</a>'\n",
              "            + ' to learn more about interactive tables.';\n",
              "          element.innerHTML = '';\n",
              "          dataTable['output_type'] = 'display_data';\n",
              "          await google.colab.output.renderOutput(dataTable, element);\n",
              "          const docLink = document.createElement('div');\n",
              "          docLink.innerHTML = docLinkHtml;\n",
              "          element.appendChild(docLink);\n",
              "        }\n",
              "      </script>\n",
              "    </div>\n",
              "  </div>\n",
              "  "
            ]
          },
          "metadata": {},
          "execution_count": 3
        }
      ]
    },
    {
      "cell_type": "code",
      "source": [
        "df_data = df_tweets[['text','airline_sentiment']]"
      ],
      "metadata": {
        "id": "OMW7AVbwI493"
      },
      "execution_count": null,
      "outputs": []
    },
    {
      "cell_type": "markdown",
      "source": [
        "# Pre-processing dataset"
      ],
      "metadata": {
        "id": "PpNA8LhoyPC9"
      }
    },
    {
      "cell_type": "code",
      "source": [
        "df_data = df_data[df_data.airline_sentiment != \"neutral\"]\n",
        "df_data['text'] = df_data['text'].apply(lambda x: x.lower())\n",
        "df_data['text'] = df_data['text'].apply((lambda x: re.sub('[^a-zA-z0-9\\s]','',x)))"
      ],
      "metadata": {
        "colab": {
          "base_uri": "https://localhost:8080/"
        },
        "id": "md2wRFWVI7UU",
        "outputId": "e7b0db8b-a75a-48cc-f9d9-0cfcc588c7a0"
      },
      "execution_count": null,
      "outputs": [
        {
          "output_type": "stream",
          "name": "stderr",
          "text": [
            "<ipython-input-5-167caa7fa367>:2: SettingWithCopyWarning: \n",
            "A value is trying to be set on a copy of a slice from a DataFrame.\n",
            "Try using .loc[row_indexer,col_indexer] = value instead\n",
            "\n",
            "See the caveats in the documentation: https://pandas.pydata.org/pandas-docs/stable/user_guide/indexing.html#returning-a-view-versus-a-copy\n",
            "  df_data['text'] = df_data['text'].apply(lambda x: x.lower())\n",
            "<ipython-input-5-167caa7fa367>:3: SettingWithCopyWarning: \n",
            "A value is trying to be set on a copy of a slice from a DataFrame.\n",
            "Try using .loc[row_indexer,col_indexer] = value instead\n",
            "\n",
            "See the caveats in the documentation: https://pandas.pydata.org/pandas-docs/stable/user_guide/indexing.html#returning-a-view-versus-a-copy\n",
            "  df_data['text'] = df_data['text'].apply((lambda x: re.sub('[^a-zA-z0-9\\s]','',x)))\n"
          ]
        }
      ]
    },
    {
      "cell_type": "markdown",
      "source": [
        "# Tokenising and Vectorising"
      ],
      "metadata": {
        "id": "c1sWcv5xynyR"
      }
    },
    {
      "cell_type": "code",
      "source": [
        "sentences = df_data['text'].values\n",
        "max_words = 2000\n",
        "max_length = 50\n",
        "tokenizer = Tokenizer(num_words=max_words)\n",
        "tokenizer.fit_on_texts(sentences)\n",
        "x_seq = tokenizer.texts_to_sequences(sentences)\n",
        "x_pad = pad_sequences(x_seq, maxlen=max_length)"
      ],
      "metadata": {
        "id": "eFRyJDwUJB_a"
      },
      "execution_count": null,
      "outputs": []
    },
    {
      "cell_type": "markdown",
      "source": [
        "# Model architecture"
      ],
      "metadata": {
        "id": "LLlI_v1SyrjL"
      }
    },
    {
      "cell_type": "code",
      "source": [
        "embed_dim = 128\n",
        "lstm_out = 196\n",
        "\n",
        "model = Sequential()\n",
        "model.add(Embedding(max_words, embed_dim, input_length = max_length))\n",
        "model.add(Dropout(0.5))\n",
        "model.add(LSTM(lstm_out, dropout=0.2, recurrent_dropout=0.2))\n",
        "model.add(Dense(1,activation='sigmoid'))\n",
        "model.compile(loss = 'binary_crossentropy', optimizer='adam',metrics = ['accuracy'])\n"
      ],
      "metadata": {
        "colab": {
          "base_uri": "https://localhost:8080/"
        },
        "id": "sZQ_7RamJDv8",
        "outputId": "5a9432fd-24e1-4aa2-d865-5c3f3f45cdf2"
      },
      "execution_count": null,
      "outputs": [
        {
          "output_type": "stream",
          "name": "stderr",
          "text": [
            "WARNING:tensorflow:Layer lstm will not use cuDNN kernels since it doesn't meet the criteria. It will use a generic GPU kernel as fallback when running on GPU.\n"
          ]
        }
      ]
    },
    {
      "cell_type": "code",
      "source": [
        "model.summary()"
      ],
      "metadata": {
        "colab": {
          "base_uri": "https://localhost:8080/"
        },
        "id": "XpnwajbKyyRo",
        "outputId": "94493862-bf9e-4679-bad5-b147053382d5"
      },
      "execution_count": null,
      "outputs": [
        {
          "output_type": "stream",
          "name": "stdout",
          "text": [
            "Model: \"sequential\"\n",
            "_________________________________________________________________\n",
            " Layer (type)                Output Shape              Param #   \n",
            "=================================================================\n",
            " embedding (Embedding)       (None, 50, 128)           256000    \n",
            "                                                                 \n",
            " dropout (Dropout)           (None, 50, 128)           0         \n",
            "                                                                 \n",
            " lstm (LSTM)                 (None, 196)               254800    \n",
            "                                                                 \n",
            " dense (Dense)               (None, 1)                 197       \n",
            "                                                                 \n",
            "=================================================================\n",
            "Total params: 510,997\n",
            "Trainable params: 510,997\n",
            "Non-trainable params: 0\n",
            "_________________________________________________________________\n"
          ]
        }
      ]
    },
    {
      "cell_type": "markdown",
      "source": [
        "# training model"
      ],
      "metadata": {
        "id": "3C8wPUCO1fr_"
      }
    },
    {
      "cell_type": "code",
      "source": [
        "y_converted = []\n",
        "for item in df_data['airline_sentiment']:\n",
        "  if item == 'positive':\n",
        "    y_converted.append(1)\n",
        "  else:\n",
        "    y_converted.append(0)\n"
      ],
      "metadata": {
        "id": "Wy3cCAl6JF6A"
      },
      "execution_count": null,
      "outputs": []
    },
    {
      "cell_type": "code",
      "source": [
        "print(y_converted[:5])"
      ],
      "metadata": {
        "colab": {
          "base_uri": "https://localhost:8080/"
        },
        "id": "JKWUn8UoGaQ1",
        "outputId": "e827f876-01a0-4642-90d5-e41f2430f297"
      },
      "execution_count": null,
      "outputs": [
        {
          "output_type": "stream",
          "name": "stdout",
          "text": [
            "[1, 0, 0, 0, 1]\n"
          ]
        }
      ]
    },
    {
      "cell_type": "code",
      "source": [
        "print(df_data['airline_sentiment'].head(5))"
      ],
      "metadata": {
        "colab": {
          "base_uri": "https://localhost:8080/"
        },
        "id": "Ylpiowa_GgA9",
        "outputId": "ced6657c-f79d-478a-df23-161ad5a8c2a2"
      },
      "execution_count": null,
      "outputs": [
        {
          "output_type": "stream",
          "name": "stdout",
          "text": [
            "1    positive\n",
            "3    negative\n",
            "4    negative\n",
            "5    negative\n",
            "6    positive\n",
            "Name: airline_sentiment, dtype: object\n"
          ]
        }
      ]
    },
    {
      "cell_type": "code",
      "source": [
        "y_converted = np.array(y_converted)"
      ],
      "metadata": {
        "id": "57q-Svcx3OLC"
      },
      "execution_count": null,
      "outputs": []
    },
    {
      "cell_type": "code",
      "source": [
        "x_train, x_test, y_train, y_test = train_test_split(x_pad,y_converted, test_size = 0.30, random_state = 42)\n"
      ],
      "metadata": {
        "id": "A7ZHDNEsGXTO"
      },
      "execution_count": null,
      "outputs": []
    },
    {
      "cell_type": "code",
      "source": [
        "batch = 512\n",
        "history = model.fit(x_train, \n",
        "                    y_train, \n",
        "                    epochs = 10, \n",
        "                    batch_size=batch, \n",
        "                    validation_data=(x_test, y_test))"
      ],
      "metadata": {
        "colab": {
          "base_uri": "https://localhost:8080/"
        },
        "id": "yndOlJzKJN79",
        "outputId": "d62ca794-b2df-434b-8bac-e3bdd5f04c48"
      },
      "execution_count": null,
      "outputs": [
        {
          "output_type": "stream",
          "name": "stdout",
          "text": [
            "Epoch 1/10\n",
            "16/16 [==============================] - 15s 494ms/step - loss: 0.5644 - accuracy: 0.7764 - val_loss: 0.4442 - val_accuracy: 0.8002\n",
            "Epoch 2/10\n",
            "16/16 [==============================] - 5s 323ms/step - loss: 0.3996 - accuracy: 0.8199 - val_loss: 0.3459 - val_accuracy: 0.8539\n",
            "Epoch 3/10\n",
            "16/16 [==============================] - 7s 421ms/step - loss: 0.3186 - accuracy: 0.8614 - val_loss: 0.2819 - val_accuracy: 0.8906\n",
            "Epoch 4/10\n",
            "16/16 [==============================] - 5s 303ms/step - loss: 0.2414 - accuracy: 0.9081 - val_loss: 0.2275 - val_accuracy: 0.9191\n",
            "Epoch 5/10\n",
            "16/16 [==============================] - 7s 431ms/step - loss: 0.1888 - accuracy: 0.9273 - val_loss: 0.2121 - val_accuracy: 0.9197\n",
            "Epoch 6/10\n",
            "16/16 [==============================] - 5s 329ms/step - loss: 0.1570 - accuracy: 0.9405 - val_loss: 0.2041 - val_accuracy: 0.9249\n",
            "Epoch 7/10\n",
            "16/16 [==============================] - 7s 435ms/step - loss: 0.1326 - accuracy: 0.9504 - val_loss: 0.1967 - val_accuracy: 0.9243\n",
            "Epoch 8/10\n",
            "16/16 [==============================] - 5s 296ms/step - loss: 0.1220 - accuracy: 0.9536 - val_loss: 0.2082 - val_accuracy: 0.9241\n",
            "Epoch 9/10\n",
            "16/16 [==============================] - 4s 271ms/step - loss: 0.1131 - accuracy: 0.9570 - val_loss: 0.2183 - val_accuracy: 0.9241\n",
            "Epoch 10/10\n",
            "16/16 [==============================] - 6s 395ms/step - loss: 0.1039 - accuracy: 0.9608 - val_loss: 0.2117 - val_accuracy: 0.9246\n"
          ]
        }
      ]
    },
    {
      "cell_type": "markdown",
      "source": [
        "# test model"
      ],
      "metadata": {
        "id": "whrp_ypi3r0Y"
      }
    },
    {
      "cell_type": "code",
      "source": [
        "test = ['this is just a sentence',\n",
        "        'this is a bad day not liking it', \n",
        "        'this is a great amazing day wow', \n",
        "        \"I'm having a great day today!\", \n",
        "        \"I wish I never left the bed, terrible weather today!\",\n",
        "        'i would hate it if it rains today',\n",
        "        'i dislike icecream, it gives me shivers',\n",
        "        'what can i say, today was the best day of mu life',\n",
        "        'very interesting sentence, so much negative potential'\n",
        "        ]"
      ],
      "metadata": {
        "id": "jnPbOlXMKn2f"
      },
      "execution_count": null,
      "outputs": []
    },
    {
      "cell_type": "code",
      "source": [
        "test_vect = tokenizer.texts_to_sequences(test)\n",
        "test_pad = pad_sequences(test_vect, maxlen=max_length)"
      ],
      "metadata": {
        "id": "7--X68GiKp4S"
      },
      "execution_count": null,
      "outputs": []
    },
    {
      "cell_type": "code",
      "source": [
        "results = model.predict(test_pad)"
      ],
      "metadata": {
        "colab": {
          "base_uri": "https://localhost:8080/"
        },
        "id": "qmUnfjLHKtep",
        "outputId": "23913131-e51e-4a7b-b7be-efec0219d7b8"
      },
      "execution_count": null,
      "outputs": [
        {
          "output_type": "stream",
          "name": "stdout",
          "text": [
            "1/1 [==============================] - 0s 262ms/step\n"
          ]
        }
      ]
    },
    {
      "cell_type": "code",
      "source": [
        "print(results)"
      ],
      "metadata": {
        "colab": {
          "base_uri": "https://localhost:8080/"
        },
        "id": "Wb5Fvd6vKvQ1",
        "outputId": "a993f29b-0a4e-4bea-9166-71ee9b2e7a57"
      },
      "execution_count": null,
      "outputs": [
        {
          "output_type": "stream",
          "name": "stdout",
          "text": [
            "[[0.49909958]\n",
            " [0.01775144]\n",
            " [0.99340993]\n",
            " [0.97335386]\n",
            " [0.16152762]\n",
            " [0.15391813]\n",
            " [0.20584947]\n",
            " [0.9383695 ]\n",
            " [0.7839796 ]]\n"
          ]
        }
      ]
    },
    {
      "cell_type": "markdown",
      "source": [
        "# save model for tsa"
      ],
      "metadata": {
        "id": "OPbKu5vP4Fb4"
      }
    },
    {
      "cell_type": "code",
      "source": [
        "model.save('twitter_airline_model3.h5')"
      ],
      "metadata": {
        "id": "0EeGdwnGZFNx"
      },
      "execution_count": null,
      "outputs": []
    },
    {
      "cell_type": "code",
      "source": [
        "import pickle\n",
        "with open('airline_senti_tokenzier2.pickle', 'wb') as handle:\n",
        "  pickle.dump(tokenizer, handle, protocol=pickle.HIGHEST_PROTOCOL)"
      ],
      "metadata": {
        "id": "vF2pv8JlZRFA"
      },
      "execution_count": null,
      "outputs": []
    },
    {
      "cell_type": "markdown",
      "source": [
        "# model evaluation"
      ],
      "metadata": {
        "id": "HucCIBeI4S02"
      }
    },
    {
      "cell_type": "markdown",
      "source": [
        "## confusion matrix"
      ],
      "metadata": {
        "id": "5ER0ZY7d4U33"
      }
    },
    {
      "cell_type": "code",
      "source": [
        "def conf_matrix(model):\n",
        "  y_true = y_test\n",
        "  y_pred = model.predict(x_test)\n",
        "\n",
        "  new_pred = []\n",
        "  for x in y_pred:\n",
        "    if x < 0.5:\n",
        "      new_pred.append(0)\n",
        "    else:\n",
        "      new_pred.append(1)\n",
        "\n",
        "  conf_matrix = confusion_matrix(y_true, new_pred)\n",
        "\n",
        "  # confusion matrix\n",
        "  print(conf_matrix)\n",
        "\n",
        "  sns.heatmap(conf_matrix, cmap='YlGn', annot=True, fmt='g')\n",
        "  plt.xlabel('Predicted')\n",
        "  plt.ylabel('True')\n",
        "  plt.show()"
      ],
      "metadata": {
        "id": "6pgJJOqYf6Zm"
      },
      "execution_count": null,
      "outputs": []
    },
    {
      "cell_type": "code",
      "source": [
        "def class_report(model):\n",
        "    y_true = y_test\n",
        "    y_pred = model.predict(x_test)\n",
        "    \n",
        "    new_pred = []\n",
        "    for x in y_pred:\n",
        "      if x < 0.5:\n",
        "        new_pred.append(0)\n",
        "      else:\n",
        "        new_pred.append(1)\n",
        "\n",
        "    print(classification_report(y_true, new_pred))"
      ],
      "metadata": {
        "id": "ICXFU4Wgg_pn"
      },
      "execution_count": null,
      "outputs": []
    },
    {
      "cell_type": "code",
      "source": [
        "conf_matrix(model)"
      ],
      "metadata": {
        "colab": {
          "base_uri": "https://localhost:8080/",
          "height": 503
        },
        "id": "UGPRMKn2hsYy",
        "outputId": "9ea752c0-085b-4e87-e4ec-4454ad3e7158"
      },
      "execution_count": null,
      "outputs": [
        {
          "output_type": "stream",
          "name": "stdout",
          "text": [
            "109/109 [==============================] - 2s 18ms/step\n",
            "[[2660  111]\n",
            " [ 150  542]]\n"
          ]
        },
        {
          "output_type": "display_data",
          "data": {
            "text/plain": [
              "<Figure size 640x480 with 2 Axes>"
            ],
            "image/png": "[encoded data removed]"
          },
          "metadata": {}
        }
      ]
    },
    {
      "cell_type": "code",
      "source": [
        "class_report(model)"
      ],
      "metadata": {
        "colab": {
          "base_uri": "https://localhost:8080/"
        },
        "id": "QRlKAJe7hvgW",
        "outputId": "cd47e610-4c85-46fa-aaaf-130308d14fae"
      },
      "execution_count": null,
      "outputs": [
        {
          "output_type": "stream",
          "name": "stdout",
          "text": [
            "109/109 [==============================] - 2s 16ms/step\n",
            "              precision    recall  f1-score   support\n",
            "\n",
            "           0       0.95      0.96      0.95      2771\n",
            "           1       0.83      0.78      0.81       692\n",
            "\n",
            "    accuracy                           0.92      3463\n",
            "   macro avg       0.89      0.87      0.88      3463\n",
            "weighted avg       0.92      0.92      0.92      3463\n",
            "\n"
          ]
        }
      ]
    },
    {
      "cell_type": "code",
      "source": [
        "def create_graph(history, string):\n",
        "  plt.plot(history.history[string])\n",
        "  plt.plot(history.history['val_' + string])\n",
        "  plt.xlabel('epochs')\n",
        "  plt.ylabel(string)\n",
        "  plt.legend([string, 'val_' + string])\n",
        "  plt.show()\n"
      ],
      "metadata": {
        "id": "todYf-kFnkCl"
      },
      "execution_count": null,
      "outputs": []
    },
    {
      "cell_type": "code",
      "source": [
        "create_graph(history, 'accuracy')\n",
        "create_graph(history, 'loss')"
      ],
      "metadata": {
        "colab": {
          "base_uri": "https://localhost:8080/",
          "height": 883
        },
        "id": "ZiL5dqmu3RIW",
        "outputId": "9109efb3-553c-4459-bd82-0c07cfce3c96"
      },
      "execution_count": null,
      "outputs": [
        {
          "output_type": "display_data",
          "data": {
            "text/plain": [
              "<Figure size 640x480 with 1 Axes>"
            ],
            "image/png": "[encoded data removed]"
          },
          "metadata": {}
        },
        {
          "output_type": "display_data",
          "data": {
            "text/plain": [
              "<Figure size 640x480 with 1 Axes>"
            ],
            "image/png": "[encoded data removed]"
          },
          "metadata": {}
        }
      ]
    },
    {
      "cell_type": "markdown",
      "source": [
        "# Citation"
      ],
      "metadata": {
        "id": "G0MGO9WC41AH"
      }
    },
    {
      "cell_type": "markdown",
      "source": [
        "Eight, F. (2019) Twitter us airline sentiment, Kaggle. Available at: https://www.kaggle.com/datasets/crowdflower/twitter-airline-sentiment (Accessed: January 2023). "
      ],
      "metadata": {
        "id": "DIZeWoCH6DRd"
      }
    }
  ]
}