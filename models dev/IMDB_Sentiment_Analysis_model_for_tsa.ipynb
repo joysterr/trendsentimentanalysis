{
  "nbformat": 4,
  "nbformat_minor": 0,
  "metadata": {
    "colab": {
      "provenance": []
    },
    "kernelspec": {
      "name": "python3",
      "display_name": "Python 3"
    },
    "language_info": {
      "name": "python"
    },
    "accelerator": "TPU",
    "gpuClass": "standard"
  },
  "cells": [
    {
      "cell_type": "markdown",
      "source": [
        "# Sentiment Analysis model development (IMDB dataset)\n",
        "###For TrendSentimentAnalysis (tsa.)\n",
        "Joyster Rodrigues | 2018487\n"
      ],
      "metadata": {
        "id": "EdepYl-nWzrs"
      }
    },
    {
      "cell_type": "markdown",
      "source": [
        "**Instructions:**\n",
        "Please download and store the dataset in the 'Files' section upon connecting to a runtime </br>\n",
        "Download the dataset from [original source](https://www.kaggle.com/datasets/lakshmi25npathi/imdb-dataset-of-50k-movie-reviews) or from [this link](https://drive.google.com/drive/folders/19AwC_aP13RTJBK7Xx2J0-Q50W14Nmam8?usp=share_link)"
      ],
      "metadata": {
        "id": "uRqfHbK1Cel9"
      }
    },
    {
      "cell_type": "markdown",
      "source": [
        "# Importing dependencies and dataset"
      ],
      "metadata": {
        "id": "va8-fNidXE8l"
      }
    },
    {
      "cell_type": "code",
      "execution_count": null,
      "metadata": {
        "id": "aO0c0q1-rIE0"
      },
      "outputs": [],
      "source": [
        "# imports\n",
        "import tensorflow as tf\n",
        "import numpy as np\n",
        "import pandas as pd\n",
        "import nltk\n",
        "import re\n",
        "import matplotlib.pyplot as plt\n",
        "import seaborn as sns\n",
        "\n",
        "from tensorflow import keras\n",
        "from tensorflow.keras.preprocessing.text import Tokenizer\n",
        "from tensorflow.keras.preprocessing.sequence import pad_sequences\n",
        "from tensorflow.keras.models import Sequential\n",
        "from tensorflow.keras.layers import Dense, Embedding, Flatten, LSTM, Bidirectional, SimpleRNN, Conv1D, MaxPooling1D, Dropout\n",
        "from tensorflow.keras.callbacks import EarlyStopping, ModelCheckpoint\n",
        "from bs4 import BeautifulSoup\n",
        "from nltk.corpus import stopwords\n",
        "from nltk.stem import WordNetLemmatizer\n",
        "\n",
        "from sklearn.model_selection import train_test_split\n",
        "from sklearn.metrics import confusion_matrix\n",
        "from sklearn.metrics import classification_report\n"
      ]
    },
    {
      "cell_type": "code",
      "source": [
        "print('TensorFlow version: {}'.format(tf.__version__))"
      ],
      "metadata": {
        "id": "IqzOLSSlXQ9l"
      },
      "execution_count": null,
      "outputs": []
    },
    {
      "cell_type": "code",
      "source": [
        "# import data\n",
        "dataset = pd.read_csv('./IMDB Dataset.csv')\n",
        "dataset.head()"
      ],
      "metadata": {
        "colab": {
          "base_uri": "https://localhost:8080/",
          "height": 206
        },
        "id": "uneY5ZusrbtV",
        "outputId": "9a8ad5ef-5914-4728-a8e0-c6cb905aef71"
      },
      "execution_count": null,
      "outputs": [
        {
          "output_type": "execute_result",
          "data": {
            "text/plain": [
              "                                              review sentiment\n",
              "0  One of the other reviewers has mentioned that ...  positive\n",
              "1  A wonderful little production. <br /><br />The...  positive\n",
              "2  I thought this was a wonderful way to spend ti...  positive\n",
              "3  Basically there's a family where a little boy ...  negative\n",
              "4  Petter Mattei's \"Love in the Time of Money\" is...  positive"
            ],
            "text/html": [
              "\n",
              "  <div id=\"df-1e383da9-c9b4-4b58-9705-cfae85a577ad\">\n",
              "    <div class=\"colab-df-container\">\n",
              "      <div>\n",
              "<style scoped>\n",
              "    .dataframe tbody tr th:only-of-type {\n",
              "        vertical-align: middle;\n",
              "    }\n",
              "\n",
              "    .dataframe tbody tr th {\n",
              "        vertical-align: top;\n",
              "    }\n",
              "\n",
              "    .dataframe thead th {\n",
              "        text-align: right;\n",
              "    }\n",
              "</style>\n",
              "<table border=\"1\" class=\"dataframe\">\n",
              "  <thead>\n",
              "    <tr style=\"text-align: right;\">\n",
              "      <th></th>\n",
              "      <th>review</th>\n",
              "      <th>sentiment</th>\n",
              "    </tr>\n",
              "  </thead>\n",
              "  <tbody>\n",
              "    <tr>\n",
              "      <th>0</th>\n",
              "      <td>One of the other reviewers has mentioned that ...</td>\n",
              "      <td>positive</td>\n",
              "    </tr>\n",
              "    <tr>\n",
              "      <th>1</th>\n",
              "      <td>A wonderful little production. &lt;br /&gt;&lt;br /&gt;The...</td>\n",
              "      <td>positive</td>\n",
              "    </tr>\n",
              "    <tr>\n",
              "      <th>2</th>\n",
              "      <td>I thought this was a wonderful way to spend ti...</td>\n",
              "      <td>positive</td>\n",
              "    </tr>\n",
              "    <tr>\n",
              "      <th>3</th>\n",
              "      <td>Basically there's a family where a little boy ...</td>\n",
              "      <td>negative</td>\n",
              "    </tr>\n",
              "    <tr>\n",
              "      <th>4</th>\n",
              "      <td>Petter Mattei's \"Love in the Time of Money\" is...</td>\n",
              "      <td>positive</td>\n",
              "    </tr>\n",
              "  </tbody>\n",
              "</table>\n",
              "</div>\n",
              "      <button class=\"colab-df-convert\" onclick=\"convertToInteractive('df-1e383da9-c9b4-4b58-9705-cfae85a577ad')\"\n",
              "              title=\"Convert this dataframe to an interactive table.\"\n",
              "              style=\"display:none;\">\n",
              "        \n",
              "  <svg xmlns=\"http://www.w3.org/2000/svg\" height=\"24px\"viewBox=\"0 0 24 24\"\n",
              "       width=\"24px\">\n",
              "    <path d=\"M0 0h24v24H0V0z\" fill=\"none\"/>\n",
              "    <path d=\"M18.56 5.44l.94 2.06.94-2.06 2.06-.94-2.06-.94-.94-2.06-.94 2.06-2.06.94zm-11 1L8.5 8.5l.94-2.06 2.06-.94-2.06-.94L8.5 2.5l-.94 2.06-2.06.94zm10 10l.94 2.06.94-2.06 2.06-.94-2.06-.94-.94-2.06-.94 2.06-2.06.94z\"/><path d=\"M17.41 7.96l-1.37-1.37c-.4-.4-.92-.59-1.43-.59-.52 0-1.04.2-1.43.59L10.3 9.45l-7.72 7.72c-.78.78-.78 2.05 0 2.83L4 21.41c.39.39.9.59 1.41.59.51 0 1.02-.2 1.41-.59l7.78-7.78 2.81-2.81c.8-.78.8-2.07 0-2.86zM5.41 20L4 18.59l7.72-7.72 1.47 1.35L5.41 20z\"/>\n",
              "  </svg>\n",
              "      </button>\n",
              "      \n",
              "  <style>\n",
              "    .colab-df-container {\n",
              "      display:flex;\n",
              "      flex-wrap:wrap;\n",
              "      gap: 12px;\n",
              "    }\n",
              "\n",
              "    .colab-df-convert {\n",
              "      background-color: #E8F0FE;\n",
              "      border: none;\n",
              "      border-radius: 50%;\n",
              "      cursor: pointer;\n",
              "      display: none;\n",
              "      fill: #1967D2;\n",
              "      height: 32px;\n",
              "      padding: 0 0 0 0;\n",
              "      width: 32px;\n",
              "    }\n",
              "\n",
              "    .colab-df-convert:hover {\n",
              "      background-color: #E2EBFA;\n",
              "      box-shadow: 0px 1px 2px rgba(60, 64, 67, 0.3), 0px 1px 3px 1px rgba(60, 64, 67, 0.15);\n",
              "      fill: #174EA6;\n",
              "    }\n",
              "\n",
              "    [theme=dark] .colab-df-convert {\n",
              "      background-color: #3B4455;\n",
              "      fill: #D2E3FC;\n",
              "    }\n",
              "\n",
              "    [theme=dark] .colab-df-convert:hover {\n",
              "      background-color: #434B5C;\n",
              "      box-shadow: 0px 1px 3px 1px rgba(0, 0, 0, 0.15);\n",
              "      filter: drop-shadow(0px 1px 2px rgba(0, 0, 0, 0.3));\n",
              "      fill: #FFFFFF;\n",
              "    }\n",
              "  </style>\n",
              "\n",
              "      <script>\n",
              "        const buttonEl =\n",
              "          document.querySelector('#df-1e383da9-c9b4-4b58-9705-cfae85a577ad button.colab-df-convert');\n",
              "        buttonEl.style.display =\n",
              "          google.colab.kernel.accessAllowed ? 'block' : 'none';\n",
              "\n",
              "        async function convertToInteractive(key) {\n",
              "          const element = document.querySelector('#df-1e383da9-c9b4-4b58-9705-cfae85a577ad');\n",
              "          const dataTable =\n",
              "            await google.colab.kernel.invokeFunction('convertToInteractive',\n",
              "                                                     [key], {});\n",
              "          if (!dataTable) return;\n",
              "\n",
              "          const docLinkHtml = 'Like what you see? Visit the ' +\n",
              "            '<a target=\"_blank\" href=https://colab.research.google.com/notebooks/data_table.ipynb>data table notebook</a>'\n",
              "            + ' to learn more about interactive tables.';\n",
              "          element.innerHTML = '';\n",
              "          dataTable['output_type'] = 'display_data';\n",
              "          await google.colab.output.renderOutput(dataTable, element);\n",
              "          const docLink = document.createElement('div');\n",
              "          docLink.innerHTML = docLinkHtml;\n",
              "          element.appendChild(docLink);\n",
              "        }\n",
              "      </script>\n",
              "    </div>\n",
              "  </div>\n",
              "  "
            ]
          },
          "metadata": {},
          "execution_count": 2
        }
      ]
    },
    {
      "cell_type": "markdown",
      "source": [
        "# Analysing and pre-processing IMDB dataset"
      ],
      "metadata": {
        "id": "6E-aF21iXVCS"
      }
    },
    {
      "cell_type": "code",
      "source": [
        "dataset.describe()"
      ],
      "metadata": {
        "colab": {
          "base_uri": "https://localhost:8080/",
          "height": 175
        },
        "id": "J1dCProUrtIZ",
        "outputId": "58919178-86d1-4712-d32f-c2a14d30a43c"
      },
      "execution_count": null,
      "outputs": [
        {
          "output_type": "execute_result",
          "data": {
            "text/plain": [
              "                                                   review sentiment\n",
              "count                                               50000     50000\n",
              "unique                                              49582         2\n",
              "top     Loved today's show!!! It was a variety and not...  positive\n",
              "freq                                                    5     25000"
            ],
            "text/html": [
              "\n",
              "  <div id=\"df-e361d4b6-b088-4209-82c5-f0de4e2b3cb2\">\n",
              "    <div class=\"colab-df-container\">\n",
              "      <div>\n",
              "<style scoped>\n",
              "    .dataframe tbody tr th:only-of-type {\n",
              "        vertical-align: middle;\n",
              "    }\n",
              "\n",
              "    .dataframe tbody tr th {\n",
              "        vertical-align: top;\n",
              "    }\n",
              "\n",
              "    .dataframe thead th {\n",
              "        text-align: right;\n",
              "    }\n",
              "</style>\n",
              "<table border=\"1\" class=\"dataframe\">\n",
              "  <thead>\n",
              "    <tr style=\"text-align: right;\">\n",
              "      <th></th>\n",
              "      <th>review</th>\n",
              "      <th>sentiment</th>\n",
              "    </tr>\n",
              "  </thead>\n",
              "  <tbody>\n",
              "    <tr>\n",
              "      <th>count</th>\n",
              "      <td>50000</td>\n",
              "      <td>50000</td>\n",
              "    </tr>\n",
              "    <tr>\n",
              "      <th>unique</th>\n",
              "      <td>49582</td>\n",
              "      <td>2</td>\n",
              "    </tr>\n",
              "    <tr>\n",
              "      <th>top</th>\n",
              "      <td>Loved today's show!!! It was a variety and not...</td>\n",
              "      <td>positive</td>\n",
              "    </tr>\n",
              "    <tr>\n",
              "      <th>freq</th>\n",
              "      <td>5</td>\n",
              "      <td>25000</td>\n",
              "    </tr>\n",
              "  </tbody>\n",
              "</table>\n",
              "</div>\n",
              "      <button class=\"colab-df-convert\" onclick=\"convertToInteractive('df-e361d4b6-b088-4209-82c5-f0de4e2b3cb2')\"\n",
              "              title=\"Convert this dataframe to an interactive table.\"\n",
              "              style=\"display:none;\">\n",
              "        \n",
              "  <svg xmlns=\"http://www.w3.org/2000/svg\" height=\"24px\"viewBox=\"0 0 24 24\"\n",
              "       width=\"24px\">\n",
              "    <path d=\"M0 0h24v24H0V0z\" fill=\"none\"/>\n",
              "    <path d=\"M18.56 5.44l.94 2.06.94-2.06 2.06-.94-2.06-.94-.94-2.06-.94 2.06-2.06.94zm-11 1L8.5 8.5l.94-2.06 2.06-.94-2.06-.94L8.5 2.5l-.94 2.06-2.06.94zm10 10l.94 2.06.94-2.06 2.06-.94-2.06-.94-.94-2.06-.94 2.06-2.06.94z\"/><path d=\"M17.41 7.96l-1.37-1.37c-.4-.4-.92-.59-1.43-.59-.52 0-1.04.2-1.43.59L10.3 9.45l-7.72 7.72c-.78.78-.78 2.05 0 2.83L4 21.41c.39.39.9.59 1.41.59.51 0 1.02-.2 1.41-.59l7.78-7.78 2.81-2.81c.8-.78.8-2.07 0-2.86zM5.41 20L4 18.59l7.72-7.72 1.47 1.35L5.41 20z\"/>\n",
              "  </svg>\n",
              "      </button>\n",
              "      \n",
              "  <style>\n",
              "    .colab-df-container {\n",
              "      display:flex;\n",
              "      flex-wrap:wrap;\n",
              "      gap: 12px;\n",
              "    }\n",
              "\n",
              "    .colab-df-convert {\n",
              "      background-color: #E8F0FE;\n",
              "      border: none;\n",
              "      border-radius: 50%;\n",
              "      cursor: pointer;\n",
              "      display: none;\n",
              "      fill: #1967D2;\n",
              "      height: 32px;\n",
              "      padding: 0 0 0 0;\n",
              "      width: 32px;\n",
              "    }\n",
              "\n",
              "    .colab-df-convert:hover {\n",
              "      background-color: #E2EBFA;\n",
              "      box-shadow: 0px 1px 2px rgba(60, 64, 67, 0.3), 0px 1px 3px 1px rgba(60, 64, 67, 0.15);\n",
              "      fill: #174EA6;\n",
              "    }\n",
              "\n",
              "    [theme=dark] .colab-df-convert {\n",
              "      background-color: #3B4455;\n",
              "      fill: #D2E3FC;\n",
              "    }\n",
              "\n",
              "    [theme=dark] .colab-df-convert:hover {\n",
              "      background-color: #434B5C;\n",
              "      box-shadow: 0px 1px 3px 1px rgba(0, 0, 0, 0.15);\n",
              "      filter: drop-shadow(0px 1px 2px rgba(0, 0, 0, 0.3));\n",
              "      fill: #FFFFFF;\n",
              "    }\n",
              "  </style>\n",
              "\n",
              "      <script>\n",
              "        const buttonEl =\n",
              "          document.querySelector('#df-e361d4b6-b088-4209-82c5-f0de4e2b3cb2 button.colab-df-convert');\n",
              "        buttonEl.style.display =\n",
              "          google.colab.kernel.accessAllowed ? 'block' : 'none';\n",
              "\n",
              "        async function convertToInteractive(key) {\n",
              "          const element = document.querySelector('#df-e361d4b6-b088-4209-82c5-f0de4e2b3cb2');\n",
              "          const dataTable =\n",
              "            await google.colab.kernel.invokeFunction('convertToInteractive',\n",
              "                                                     [key], {});\n",
              "          if (!dataTable) return;\n",
              "\n",
              "          const docLinkHtml = 'Like what you see? Visit the ' +\n",
              "            '<a target=\"_blank\" href=https://colab.research.google.com/notebooks/data_table.ipynb>data table notebook</a>'\n",
              "            + ' to learn more about interactive tables.';\n",
              "          element.innerHTML = '';\n",
              "          dataTable['output_type'] = 'display_data';\n",
              "          await google.colab.output.renderOutput(dataTable, element);\n",
              "          const docLink = document.createElement('div');\n",
              "          docLink.innerHTML = docLinkHtml;\n",
              "          element.appendChild(docLink);\n",
              "        }\n",
              "      </script>\n",
              "    </div>\n",
              "  </div>\n",
              "  "
            ]
          },
          "metadata": {},
          "execution_count": 6
        }
      ]
    },
    {
      "cell_type": "code",
      "source": [
        "backup_df = dataset.copy()\n",
        "dataset = dataset.drop_duplicates()"
      ],
      "metadata": {
        "id": "1SX8ITzCru0t"
      },
      "execution_count": null,
      "outputs": []
    },
    {
      "cell_type": "code",
      "source": [
        "dataset.value_counts('sentiment')"
      ],
      "metadata": {
        "colab": {
          "base_uri": "https://localhost:8080/"
        },
        "id": "H0gezYxdr_qL",
        "outputId": "44e61a31-81a0-44a3-e75e-8dd75358acaf"
      },
      "execution_count": null,
      "outputs": [
        {
          "output_type": "execute_result",
          "data": {
            "text/plain": [
              "sentiment\n",
              "positive    24884\n",
              "negative    24698\n",
              "dtype: int64"
            ]
          },
          "metadata": {},
          "execution_count": 8
        }
      ]
    },
    {
      "cell_type": "code",
      "source": [
        "def preprocess_data(text):\n",
        "  soup = BeautifulSoup(text, 'html.parser')\n",
        "  text = soup.get_text()\n",
        "\n",
        "  text = text.lower()\n",
        "\n",
        "  text = re.sub('[^a-zA-Z]', ' ', text)\n",
        "\n",
        "  return text"
      ],
      "metadata": {
        "id": "4S99jPgZ-15e"
      },
      "execution_count": null,
      "outputs": []
    },
    {
      "cell_type": "code",
      "source": [
        "dataset['review_processed'] = dataset['review'].apply(preprocess_data)"
      ],
      "metadata": {
        "colab": {
          "base_uri": "https://localhost:8080/"
        },
        "id": "4N5sS7lz_lbJ",
        "outputId": "b417f5a9-680c-4ffb-d073-a413df483fb2"
      },
      "execution_count": null,
      "outputs": [
        {
          "output_type": "stream",
          "name": "stderr",
          "text": [
            "<ipython-input-8-2a8f140146ad>:2: MarkupResemblesLocatorWarning: The input looks more like a filename than markup. You may want to open this file and pass the filehandle into Beautiful Soup.\n",
            "  soup = BeautifulSoup(text, 'html.parser')\n"
          ]
        }
      ]
    },
    {
      "cell_type": "code",
      "source": [
        "nltk.download('stopwords')\n",
        "stop_words = set(stopwords.words('english'))\n",
        "def remove_stopwords(text):\n",
        "  text = ' '.join([word for word in text.split() if word not in stop_words])\n",
        "  return text"
      ],
      "metadata": {
        "colab": {
          "base_uri": "https://localhost:8080/"
        },
        "id": "BZcNZO1__5Zr",
        "outputId": "4051dff8-a088-48bd-fec1-1a597295dbd7"
      },
      "execution_count": null,
      "outputs": [
        {
          "output_type": "stream",
          "name": "stderr",
          "text": [
            "[nltk_data] Downloading package stopwords to /root/nltk_data...\n",
            "[nltk_data]   Unzipping corpora/stopwords.zip.\n"
          ]
        }
      ]
    },
    {
      "cell_type": "code",
      "source": [
        "dataset['review_processed'] = dataset['review_processed'].apply(remove_stopwords)"
      ],
      "metadata": {
        "id": "j3u6YSHUAMFy"
      },
      "execution_count": null,
      "outputs": []
    },
    {
      "cell_type": "code",
      "source": [
        "dataset['review_processed'].head()"
      ],
      "metadata": {
        "colab": {
          "base_uri": "https://localhost:8080/"
        },
        "id": "XjdSXsOtAXH-",
        "outputId": "4654251f-8a58-45ea-e1e6-b042398f8489"
      },
      "execution_count": null,
      "outputs": [
        {
          "output_type": "execute_result",
          "data": {
            "text/plain": [
              "0    one reviewers mentioned watching oz episode ho...\n",
              "1    wonderful little production filming technique ...\n",
              "2    thought wonderful way spend time hot summer we...\n",
              "3    basically family little boy jake thinks zombie...\n",
              "4    petter mattei love time money visually stunnin...\n",
              "Name: review_processed, dtype: object"
            ]
          },
          "metadata": {},
          "execution_count": 12
        }
      ]
    },
    {
      "cell_type": "code",
      "source": [
        "def sentiment_id(sentiment):\n",
        "  if sentiment == 'positive':\n",
        "    sent_id = 1\n",
        "  else:\n",
        "    sent_id = 0\n",
        "  return sent_id"
      ],
      "metadata": {
        "id": "B_bUM1IyJBG-"
      },
      "execution_count": null,
      "outputs": []
    },
    {
      "cell_type": "code",
      "source": [
        "dataset['sentiment_id'] = dataset['sentiment'].apply(sentiment_id)"
      ],
      "metadata": {
        "id": "KeNDY1x7JB45"
      },
      "execution_count": null,
      "outputs": []
    },
    {
      "cell_type": "code",
      "source": [
        "dataset.describe(include='all')"
      ],
      "metadata": {
        "colab": {
          "base_uri": "https://localhost:8080/",
          "height": 456
        },
        "id": "am26QTgYJSZj",
        "outputId": "a1b3d08f-523e-4f9f-d0f8-45d94de1c82c"
      },
      "execution_count": null,
      "outputs": [
        {
          "output_type": "execute_result",
          "data": {
            "text/plain": [
              "                                                   review sentiment  \\\n",
              "count                                               49582     49582   \n",
              "unique                                              49582         2   \n",
              "top     One of the other reviewers has mentioned that ...  positive   \n",
              "freq                                                    1     24884   \n",
              "mean                                                  NaN       NaN   \n",
              "std                                                   NaN       NaN   \n",
              "min                                                   NaN       NaN   \n",
              "25%                                                   NaN       NaN   \n",
              "50%                                                   NaN       NaN   \n",
              "75%                                                   NaN       NaN   \n",
              "max                                                   NaN       NaN   \n",
              "\n",
              "                                         review_processed  sentiment_id  \n",
              "count                                               49582  49582.000000  \n",
              "unique                                              49575           NaN  \n",
              "top     opportunity watch filming slavic village broad...           NaN  \n",
              "freq                                                    2           NaN  \n",
              "mean                                                  NaN      0.501876  \n",
              "std                                                   NaN      0.500002  \n",
              "min                                                   NaN      0.000000  \n",
              "25%                                                   NaN      0.000000  \n",
              "50%                                                   NaN      1.000000  \n",
              "75%                                                   NaN      1.000000  \n",
              "max                                                   NaN      1.000000  "
            ],
            "text/html": [
              "\n",
              "  <div id=\"df-a86cce0b-3468-4d05-8030-a91643f3ec9a\">\n",
              "    <div class=\"colab-df-container\">\n",
              "      <div>\n",
              "<style scoped>\n",
              "    .dataframe tbody tr th:only-of-type {\n",
              "        vertical-align: middle;\n",
              "    }\n",
              "\n",
              "    .dataframe tbody tr th {\n",
              "        vertical-align: top;\n",
              "    }\n",
              "\n",
              "    .dataframe thead th {\n",
              "        text-align: right;\n",
              "    }\n",
              "</style>\n",
              "<table border=\"1\" class=\"dataframe\">\n",
              "  <thead>\n",
              "    <tr style=\"text-align: right;\">\n",
              "      <th></th>\n",
              "      <th>review</th>\n",
              "      <th>sentiment</th>\n",
              "      <th>review_processed</th>\n",
              "      <th>sentiment_id</th>\n",
              "    </tr>\n",
              "  </thead>\n",
              "  <tbody>\n",
              "    <tr>\n",
              "      <th>count</th>\n",
              "      <td>49582</td>\n",
              "      <td>49582</td>\n",
              "      <td>49582</td>\n",
              "      <td>49582.000000</td>\n",
              "    </tr>\n",
              "    <tr>\n",
              "      <th>unique</th>\n",
              "      <td>49582</td>\n",
              "      <td>2</td>\n",
              "      <td>49575</td>\n",
              "      <td>NaN</td>\n",
              "    </tr>\n",
              "    <tr>\n",
              "      <th>top</th>\n",
              "      <td>One of the other reviewers has mentioned that ...</td>\n",
              "      <td>positive</td>\n",
              "      <td>opportunity watch filming slavic village broad...</td>\n",
              "      <td>NaN</td>\n",
              "    </tr>\n",
              "    <tr>\n",
              "      <th>freq</th>\n",
              "      <td>1</td>\n",
              "      <td>24884</td>\n",
              "      <td>2</td>\n",
              "      <td>NaN</td>\n",
              "    </tr>\n",
              "    <tr>\n",
              "      <th>mean</th>\n",
              "      <td>NaN</td>\n",
              "      <td>NaN</td>\n",
              "      <td>NaN</td>\n",
              "      <td>0.501876</td>\n",
              "    </tr>\n",
              "    <tr>\n",
              "      <th>std</th>\n",
              "      <td>NaN</td>\n",
              "      <td>NaN</td>\n",
              "      <td>NaN</td>\n",
              "      <td>0.500002</td>\n",
              "    </tr>\n",
              "    <tr>\n",
              "      <th>min</th>\n",
              "      <td>NaN</td>\n",
              "      <td>NaN</td>\n",
              "      <td>NaN</td>\n",
              "      <td>0.000000</td>\n",
              "    </tr>\n",
              "    <tr>\n",
              "      <th>25%</th>\n",
              "      <td>NaN</td>\n",
              "      <td>NaN</td>\n",
              "      <td>NaN</td>\n",
              "      <td>0.000000</td>\n",
              "    </tr>\n",
              "    <tr>\n",
              "      <th>50%</th>\n",
              "      <td>NaN</td>\n",
              "      <td>NaN</td>\n",
              "      <td>NaN</td>\n",
              "      <td>1.000000</td>\n",
              "    </tr>\n",
              "    <tr>\n",
              "      <th>75%</th>\n",
              "      <td>NaN</td>\n",
              "      <td>NaN</td>\n",
              "      <td>NaN</td>\n",
              "      <td>1.000000</td>\n",
              "    </tr>\n",
              "    <tr>\n",
              "      <th>max</th>\n",
              "      <td>NaN</td>\n",
              "      <td>NaN</td>\n",
              "      <td>NaN</td>\n",
              "      <td>1.000000</td>\n",
              "    </tr>\n",
              "  </tbody>\n",
              "</table>\n",
              "</div>\n",
              "      <button class=\"colab-df-convert\" onclick=\"convertToInteractive('df-a86cce0b-3468-4d05-8030-a91643f3ec9a')\"\n",
              "              title=\"Convert this dataframe to an interactive table.\"\n",
              "              style=\"display:none;\">\n",
              "        \n",
              "  <svg xmlns=\"http://www.w3.org/2000/svg\" height=\"24px\"viewBox=\"0 0 24 24\"\n",
              "       width=\"24px\">\n",
              "    <path d=\"M0 0h24v24H0V0z\" fill=\"none\"/>\n",
              "    <path d=\"M18.56 5.44l.94 2.06.94-2.06 2.06-.94-2.06-.94-.94-2.06-.94 2.06-2.06.94zm-11 1L8.5 8.5l.94-2.06 2.06-.94-2.06-.94L8.5 2.5l-.94 2.06-2.06.94zm10 10l.94 2.06.94-2.06 2.06-.94-2.06-.94-.94-2.06-.94 2.06-2.06.94z\"/><path d=\"M17.41 7.96l-1.37-1.37c-.4-.4-.92-.59-1.43-.59-.52 0-1.04.2-1.43.59L10.3 9.45l-7.72 7.72c-.78.78-.78 2.05 0 2.83L4 21.41c.39.39.9.59 1.41.59.51 0 1.02-.2 1.41-.59l7.78-7.78 2.81-2.81c.8-.78.8-2.07 0-2.86zM5.41 20L4 18.59l7.72-7.72 1.47 1.35L5.41 20z\"/>\n",
              "  </svg>\n",
              "      </button>\n",
              "      \n",
              "  <style>\n",
              "    .colab-df-container {\n",
              "      display:flex;\n",
              "      flex-wrap:wrap;\n",
              "      gap: 12px;\n",
              "    }\n",
              "\n",
              "    .colab-df-convert {\n",
              "      background-color: #E8F0FE;\n",
              "      border: none;\n",
              "      border-radius: 50%;\n",
              "      cursor: pointer;\n",
              "      display: none;\n",
              "      fill: #1967D2;\n",
              "      height: 32px;\n",
              "      padding: 0 0 0 0;\n",
              "      width: 32px;\n",
              "    }\n",
              "\n",
              "    .colab-df-convert:hover {\n",
              "      background-color: #E2EBFA;\n",
              "      box-shadow: 0px 1px 2px rgba(60, 64, 67, 0.3), 0px 1px 3px 1px rgba(60, 64, 67, 0.15);\n",
              "      fill: #174EA6;\n",
              "    }\n",
              "\n",
              "    [theme=dark] .colab-df-convert {\n",
              "      background-color: #3B4455;\n",
              "      fill: #D2E3FC;\n",
              "    }\n",
              "\n",
              "    [theme=dark] .colab-df-convert:hover {\n",
              "      background-color: #434B5C;\n",
              "      box-shadow: 0px 1px 3px 1px rgba(0, 0, 0, 0.15);\n",
              "      filter: drop-shadow(0px 1px 2px rgba(0, 0, 0, 0.3));\n",
              "      fill: #FFFFFF;\n",
              "    }\n",
              "  </style>\n",
              "\n",
              "      <script>\n",
              "        const buttonEl =\n",
              "          document.querySelector('#df-a86cce0b-3468-4d05-8030-a91643f3ec9a button.colab-df-convert');\n",
              "        buttonEl.style.display =\n",
              "          google.colab.kernel.accessAllowed ? 'block' : 'none';\n",
              "\n",
              "        async function convertToInteractive(key) {\n",
              "          const element = document.querySelector('#df-a86cce0b-3468-4d05-8030-a91643f3ec9a');\n",
              "          const dataTable =\n",
              "            await google.colab.kernel.invokeFunction('convertToInteractive',\n",
              "                                                     [key], {});\n",
              "          if (!dataTable) return;\n",
              "\n",
              "          const docLinkHtml = 'Like what you see? Visit the ' +\n",
              "            '<a target=\"_blank\" href=https://colab.research.google.com/notebooks/data_table.ipynb>data table notebook</a>'\n",
              "            + ' to learn more about interactive tables.';\n",
              "          element.innerHTML = '';\n",
              "          dataTable['output_type'] = 'display_data';\n",
              "          await google.colab.output.renderOutput(dataTable, element);\n",
              "          const docLink = document.createElement('div');\n",
              "          docLink.innerHTML = docLinkHtml;\n",
              "          element.appendChild(docLink);\n",
              "        }\n",
              "      </script>\n",
              "    </div>\n",
              "  </div>\n",
              "  "
            ]
          },
          "metadata": {},
          "execution_count": 15
        }
      ]
    },
    {
      "cell_type": "code",
      "source": [
        "dataset.head()"
      ],
      "metadata": {
        "colab": {
          "base_uri": "https://localhost:8080/",
          "height": 320
        },
        "id": "gQyExd6cJhMO",
        "outputId": "5edb044c-7ea2-444d-e269-0171a2f6ad9d"
      },
      "execution_count": null,
      "outputs": [
        {
          "output_type": "execute_result",
          "data": {
            "text/plain": [
              "                                              review sentiment  \\\n",
              "0  One of the other reviewers has mentioned that ...  positive   \n",
              "1  A wonderful little production. <br /><br />The...  positive   \n",
              "2  I thought this was a wonderful way to spend ti...  positive   \n",
              "3  Basically there's a family where a little boy ...  negative   \n",
              "4  Petter Mattei's \"Love in the Time of Money\" is...  positive   \n",
              "\n",
              "                                    review_processed  sentiment_id  \n",
              "0  one reviewers mentioned watching oz episode ho...             1  \n",
              "1  wonderful little production filming technique ...             1  \n",
              "2  thought wonderful way spend time hot summer we...             1  \n",
              "3  basically family little boy jake thinks zombie...             0  \n",
              "4  petter mattei love time money visually stunnin...             1  "
            ],
            "text/html": [
              "\n",
              "  <div id=\"df-a7362dea-981e-478f-a082-8eeeaa928b23\">\n",
              "    <div class=\"colab-df-container\">\n",
              "      <div>\n",
              "<style scoped>\n",
              "    .dataframe tbody tr th:only-of-type {\n",
              "        vertical-align: middle;\n",
              "    }\n",
              "\n",
              "    .dataframe tbody tr th {\n",
              "        vertical-align: top;\n",
              "    }\n",
              "\n",
              "    .dataframe thead th {\n",
              "        text-align: right;\n",
              "    }\n",
              "</style>\n",
              "<table border=\"1\" class=\"dataframe\">\n",
              "  <thead>\n",
              "    <tr style=\"text-align: right;\">\n",
              "      <th></th>\n",
              "      <th>review</th>\n",
              "      <th>sentiment</th>\n",
              "      <th>review_processed</th>\n",
              "      <th>sentiment_id</th>\n",
              "    </tr>\n",
              "  </thead>\n",
              "  <tbody>\n",
              "    <tr>\n",
              "      <th>0</th>\n",
              "      <td>One of the other reviewers has mentioned that ...</td>\n",
              "      <td>positive</td>\n",
              "      <td>one reviewers mentioned watching oz episode ho...</td>\n",
              "      <td>1</td>\n",
              "    </tr>\n",
              "    <tr>\n",
              "      <th>1</th>\n",
              "      <td>A wonderful little production. &lt;br /&gt;&lt;br /&gt;The...</td>\n",
              "      <td>positive</td>\n",
              "      <td>wonderful little production filming technique ...</td>\n",
              "      <td>1</td>\n",
              "    </tr>\n",
              "    <tr>\n",
              "      <th>2</th>\n",
              "      <td>I thought this was a wonderful way to spend ti...</td>\n",
              "      <td>positive</td>\n",
              "      <td>thought wonderful way spend time hot summer we...</td>\n",
              "      <td>1</td>\n",
              "    </tr>\n",
              "    <tr>\n",
              "      <th>3</th>\n",
              "      <td>Basically there's a family where a little boy ...</td>\n",
              "      <td>negative</td>\n",
              "      <td>basically family little boy jake thinks zombie...</td>\n",
              "      <td>0</td>\n",
              "    </tr>\n",
              "    <tr>\n",
              "      <th>4</th>\n",
              "      <td>Petter Mattei's \"Love in the Time of Money\" is...</td>\n",
              "      <td>positive</td>\n",
              "      <td>petter mattei love time money visually stunnin...</td>\n",
              "      <td>1</td>\n",
              "    </tr>\n",
              "  </tbody>\n",
              "</table>\n",
              "</div>\n",
              "      <button class=\"colab-df-convert\" onclick=\"convertToInteractive('df-a7362dea-981e-478f-a082-8eeeaa928b23')\"\n",
              "              title=\"Convert this dataframe to an interactive table.\"\n",
              "              style=\"display:none;\">\n",
              "        \n",
              "  <svg xmlns=\"http://www.w3.org/2000/svg\" height=\"24px\"viewBox=\"0 0 24 24\"\n",
              "       width=\"24px\">\n",
              "    <path d=\"M0 0h24v24H0V0z\" fill=\"none\"/>\n",
              "    <path d=\"M18.56 5.44l.94 2.06.94-2.06 2.06-.94-2.06-.94-.94-2.06-.94 2.06-2.06.94zm-11 1L8.5 8.5l.94-2.06 2.06-.94-2.06-.94L8.5 2.5l-.94 2.06-2.06.94zm10 10l.94 2.06.94-2.06 2.06-.94-2.06-.94-.94-2.06-.94 2.06-2.06.94z\"/><path d=\"M17.41 7.96l-1.37-1.37c-.4-.4-.92-.59-1.43-.59-.52 0-1.04.2-1.43.59L10.3 9.45l-7.72 7.72c-.78.78-.78 2.05 0 2.83L4 21.41c.39.39.9.59 1.41.59.51 0 1.02-.2 1.41-.59l7.78-7.78 2.81-2.81c.8-.78.8-2.07 0-2.86zM5.41 20L4 18.59l7.72-7.72 1.47 1.35L5.41 20z\"/>\n",
              "  </svg>\n",
              "      </button>\n",
              "      \n",
              "  <style>\n",
              "    .colab-df-container {\n",
              "      display:flex;\n",
              "      flex-wrap:wrap;\n",
              "      gap: 12px;\n",
              "    }\n",
              "\n",
              "    .colab-df-convert {\n",
              "      background-color: #E8F0FE;\n",
              "      border: none;\n",
              "      border-radius: 50%;\n",
              "      cursor: pointer;\n",
              "      display: none;\n",
              "      fill: #1967D2;\n",
              "      height: 32px;\n",
              "      padding: 0 0 0 0;\n",
              "      width: 32px;\n",
              "    }\n",
              "\n",
              "    .colab-df-convert:hover {\n",
              "      background-color: #E2EBFA;\n",
              "      box-shadow: 0px 1px 2px rgba(60, 64, 67, 0.3), 0px 1px 3px 1px rgba(60, 64, 67, 0.15);\n",
              "      fill: #174EA6;\n",
              "    }\n",
              "\n",
              "    [theme=dark] .colab-df-convert {\n",
              "      background-color: #3B4455;\n",
              "      fill: #D2E3FC;\n",
              "    }\n",
              "\n",
              "    [theme=dark] .colab-df-convert:hover {\n",
              "      background-color: #434B5C;\n",
              "      box-shadow: 0px 1px 3px 1px rgba(0, 0, 0, 0.15);\n",
              "      filter: drop-shadow(0px 1px 2px rgba(0, 0, 0, 0.3));\n",
              "      fill: #FFFFFF;\n",
              "    }\n",
              "  </style>\n",
              "\n",
              "      <script>\n",
              "        const buttonEl =\n",
              "          document.querySelector('#df-a7362dea-981e-478f-a082-8eeeaa928b23 button.colab-df-convert');\n",
              "        buttonEl.style.display =\n",
              "          google.colab.kernel.accessAllowed ? 'block' : 'none';\n",
              "\n",
              "        async function convertToInteractive(key) {\n",
              "          const element = document.querySelector('#df-a7362dea-981e-478f-a082-8eeeaa928b23');\n",
              "          const dataTable =\n",
              "            await google.colab.kernel.invokeFunction('convertToInteractive',\n",
              "                                                     [key], {});\n",
              "          if (!dataTable) return;\n",
              "\n",
              "          const docLinkHtml = 'Like what you see? Visit the ' +\n",
              "            '<a target=\"_blank\" href=https://colab.research.google.com/notebooks/data_table.ipynb>data table notebook</a>'\n",
              "            + ' to learn more about interactive tables.';\n",
              "          element.innerHTML = '';\n",
              "          dataTable['output_type'] = 'display_data';\n",
              "          await google.colab.output.renderOutput(dataTable, element);\n",
              "          const docLink = document.createElement('div');\n",
              "          docLink.innerHTML = docLinkHtml;\n",
              "          element.appendChild(docLink);\n",
              "        }\n",
              "      </script>\n",
              "    </div>\n",
              "  </div>\n",
              "  "
            ]
          },
          "metadata": {},
          "execution_count": 16
        }
      ]
    },
    {
      "cell_type": "code",
      "source": [
        "x_train, x_test, y_train, y_test = train_test_split(dataset['review_processed'], dataset['sentiment_id'], test_size=0.2, random_state=42)"
      ],
      "metadata": {
        "id": "WPXmIwn2Aak3"
      },
      "execution_count": null,
      "outputs": []
    },
    {
      "cell_type": "code",
      "source": [
        "print(f'{len(x_train)} | {len(x_test)}')"
      ],
      "metadata": {
        "colab": {
          "base_uri": "https://localhost:8080/"
        },
        "id": "n83z5bTRA30r",
        "outputId": "6805cd77-7766-466d-f48c-5045b2e963af"
      },
      "execution_count": null,
      "outputs": [
        {
          "output_type": "stream",
          "name": "stdout",
          "text": [
            "39665 | 9917\n"
          ]
        }
      ]
    },
    {
      "cell_type": "markdown",
      "source": [
        "## Tokenizing and Vectorising data"
      ],
      "metadata": {
        "id": "LVtVzZKfXnEx"
      }
    },
    {
      "cell_type": "code",
      "source": [
        "tokenizer = Tokenizer(\n",
        "    num_words=10000, \n",
        "    filters='!\"#$%&()*+,-./:;<=>?@[\\\\]^_`{|}~\\t\\n', \n",
        "    lower=True, \n",
        "    oov_token='<00V>'\n",
        ")"
      ],
      "metadata": {
        "id": "y5IHJDJkBTA_"
      },
      "execution_count": null,
      "outputs": []
    },
    {
      "cell_type": "code",
      "source": [
        "tokenizer.fit_on_texts(x_train)"
      ],
      "metadata": {
        "id": "TEXk0mhxBk8x"
      },
      "execution_count": null,
      "outputs": []
    },
    {
      "cell_type": "code",
      "source": [
        "x_train_vectors = tokenizer.texts_to_sequences(x_train)\n",
        "x_test_vectors = tokenizer.texts_to_sequences(x_test)"
      ],
      "metadata": {
        "id": "jAC8EmGfBsgY"
      },
      "execution_count": null,
      "outputs": []
    },
    {
      "cell_type": "code",
      "source": [
        "max_length = 200\n",
        "x_train_padded = pad_sequences(x_train_vectors, maxlen=max_length, padding='pre', truncating='pre')\n",
        "x_test_padded = pad_sequences(x_test_vectors, maxlen=max_length, padding='pre', truncating='pre')"
      ],
      "metadata": {
        "id": "e_UAnbMxB7JB"
      },
      "execution_count": null,
      "outputs": []
    },
    {
      "cell_type": "code",
      "source": [
        "print(x_train[:1])"
      ],
      "metadata": {
        "colab": {
          "base_uri": "https://localhost:8080/"
        },
        "id": "031QdbsBAKmI",
        "outputId": "9497a373-de00-416e-8440-e99b4536d9ef"
      },
      "execution_count": null,
      "outputs": [
        {
          "output_type": "stream",
          "name": "stdout",
          "text": [
            "7837    really liked movie emporer new groove watching...\n",
            "Name: review_processed, dtype: object\n"
          ]
        }
      ]
    },
    {
      "cell_type": "code",
      "source": [
        "print(x_train_vectors[:1])"
      ],
      "metadata": {
        "colab": {
          "base_uri": "https://localhost:8080/"
        },
        "id": "mfcBOo3D_yMy",
        "outputId": "7099cf5f-c41b-4ed4-cbf3-04f972b80886"
      },
      "execution_count": null,
      "outputs": [
        {
          "output_type": "stream",
          "name": "stdout",
          "text": [
            "[[12, 309, 2, 1, 71, 7545, 56, 5, 427, 226, 198, 200, 4453, 1, 466, 2, 15, 5, 1150, 5991, 1030, 7697, 314, 740, 288, 8, 40, 206, 49, 1304, 249, 107, 2602, 2, 5, 116, 62, 1784, 160, 1, 62, 1838, 888, 18, 238, 24, 1123, 1, 71, 7545, 77, 62, 888, 1, 5684, 2, 232, 232, 98]]\n"
          ]
        }
      ]
    },
    {
      "cell_type": "code",
      "source": [
        "print(x_train_padded[:1])"
      ],
      "metadata": {
        "colab": {
          "base_uri": "https://localhost:8080/"
        },
        "id": "ruAQP3j1_2wD",
        "outputId": "4f372d5b-3c38-4c7d-c379-32d3fc19ef01"
      },
      "execution_count": null,
      "outputs": [
        {
          "output_type": "stream",
          "name": "stdout",
          "text": [
            "[[   0    0    0    0    0    0    0    0    0    0    0    0    0    0\n",
            "     0    0    0    0    0    0    0    0    0    0    0    0    0    0\n",
            "     0    0    0    0    0    0    0    0    0    0    0    0    0    0\n",
            "     0    0    0    0    0    0    0    0    0    0    0    0    0    0\n",
            "     0    0    0    0    0    0    0    0    0    0    0    0    0    0\n",
            "     0    0    0    0    0    0    0    0    0    0    0    0    0    0\n",
            "     0    0    0    0    0    0    0    0    0    0    0    0    0    0\n",
            "     0    0    0    0    0    0    0    0    0    0    0    0    0    0\n",
            "     0    0    0    0    0    0    0    0    0    0    0    0    0    0\n",
            "     0    0    0    0    0    0    0    0    0    0    0    0    0    0\n",
            "     0   12  309    2    1   71 7545   56    5  427  226  198  200 4453\n",
            "     1  466    2   15    5 1150 5991 1030 7697  314  740  288    8   40\n",
            "   206   49 1304  249  107 2602    2    5  116   62 1784  160    1   62\n",
            "  1838  888   18  238   24 1123    1   71 7545   77   62  888    1 5684\n",
            "     2  232  232   98]]\n"
          ]
        }
      ]
    },
    {
      "cell_type": "markdown",
      "source": [
        "# Defining Model architectures and training"
      ],
      "metadata": {
        "id": "PisW0QpsXrvF"
      }
    },
    {
      "cell_type": "markdown",
      "source": [
        "## model 1"
      ],
      "metadata": {
        "id": "2fmGJE0GX2fF"
      }
    },
    {
      "cell_type": "code",
      "source": [
        "# Define simple sequential feed-forward model\n",
        "model1 = Sequential()\n",
        "model1.add(Embedding(input_dim=10000, output_dim=32, input_length=max_length))\n",
        "model1.add(Flatten())\n",
        "model1.add(Dense(1, activation='sigmoid'))\n",
        "\n",
        "model1.compile(optimizer='adam', loss='binary_crossentropy', metrics=['accuracy'])"
      ],
      "metadata": {
        "id": "S-VStq9aIc7S"
      },
      "execution_count": null,
      "outputs": []
    },
    {
      "cell_type": "code",
      "source": [
        "model1.summary()"
      ],
      "metadata": {
        "colab": {
          "base_uri": "https://localhost:8080/"
        },
        "id": "6ydq0XccLpsb",
        "outputId": "d842a147-7c78-4245-965f-541102e88be4"
      },
      "execution_count": null,
      "outputs": [
        {
          "output_type": "stream",
          "name": "stdout",
          "text": [
            "Model: \"sequential_2\"\n",
            "_________________________________________________________________\n",
            " Layer (type)                Output Shape              Param #   \n",
            "=================================================================\n",
            " embedding_2 (Embedding)     (None, 200, 32)           320000    \n",
            "                                                                 \n",
            " flatten (Flatten)           (None, 6400)              0         \n",
            "                                                                 \n",
            " dense_3 (Dense)             (None, 1)                 6401      \n",
            "                                                                 \n",
            "=================================================================\n",
            "Total params: 326,401\n",
            "Trainable params: 326,401\n",
            "Non-trainable params: 0\n",
            "_________________________________________________________________\n"
          ]
        }
      ]
    },
    {
      "cell_type": "code",
      "source": [
        "# Train the model\n",
        "hist1 = model1.fit(x_train_padded, y_train, epochs=8, batch_size=32, validation_data=(x_test_padded, y_test))"
      ],
      "metadata": {
        "colab": {
          "base_uri": "https://localhost:8080/"
        },
        "id": "shg2H2y7IjaK",
        "outputId": "f6172d31-174d-4e93-edb2-356584ed3f9b"
      },
      "execution_count": null,
      "outputs": [
        {
          "output_type": "stream",
          "name": "stdout",
          "text": [
            "Epoch 1/8\n",
            "1240/1240 [==============================] - 16s 12ms/step - loss: 0.3643 - accuracy: 0.8328 - val_loss: 0.2734 - val_accuracy: 0.8873\n",
            "Epoch 2/8\n",
            "1240/1240 [==============================] - 15s 12ms/step - loss: 0.1908 - accuracy: 0.9277 - val_loss: 0.2818 - val_accuracy: 0.8852\n",
            "Epoch 3/8\n",
            "1240/1240 [==============================] - 15s 12ms/step - loss: 0.1053 - accuracy: 0.9684 - val_loss: 0.3128 - val_accuracy: 0.8809\n",
            "Epoch 4/8\n",
            "1240/1240 [==============================] - 25s 20ms/step - loss: 0.0444 - accuracy: 0.9920 - val_loss: 0.3554 - val_accuracy: 0.8768\n",
            "Epoch 5/8\n",
            "1240/1240 [==============================] - 21s 17ms/step - loss: 0.0170 - accuracy: 0.9980 - val_loss: 0.3980 - val_accuracy: 0.8773\n",
            "Epoch 6/8\n",
            "1240/1240 [==============================] - 14s 11ms/step - loss: 0.0066 - accuracy: 0.9996 - val_loss: 0.4561 - val_accuracy: 0.8739\n",
            "Epoch 7/8\n",
            "1240/1240 [==============================] - 19s 15ms/step - loss: 0.0028 - accuracy: 1.0000 - val_loss: 0.4909 - val_accuracy: 0.8759\n",
            "Epoch 8/8\n",
            "1240/1240 [==============================] - 28s 22ms/step - loss: 0.0012 - accuracy: 1.0000 - val_loss: 0.5307 - val_accuracy: 0.8779\n"
          ]
        }
      ]
    },
    {
      "cell_type": "markdown",
      "source": [
        "## model 2"
      ],
      "metadata": {
        "id": "iXta1JJbX5ja"
      }
    },
    {
      "cell_type": "code",
      "source": [
        "model2 = Sequential()\n",
        "model2.add(Embedding(input_dim=10000, output_dim=32, input_length=max_length))\n",
        "model2.add(SimpleRNN(32))\n",
        "model2.add(Dense(1, activation='sigmoid'))\n",
        "\n",
        "model2.compile(loss='binary_crossentropy', optimizer='adam', metrics=['accuracy'])"
      ],
      "metadata": {
        "id": "Gz4txfZ_OPCI"
      },
      "execution_count": null,
      "outputs": []
    },
    {
      "cell_type": "code",
      "source": [
        "model2.summary()"
      ],
      "metadata": {
        "colab": {
          "base_uri": "https://localhost:8080/"
        },
        "id": "Zpnl_PZKCnMC",
        "outputId": "ba802c07-d319-48f8-dbcf-102600bf2cd1"
      },
      "execution_count": null,
      "outputs": [
        {
          "output_type": "stream",
          "name": "stdout",
          "text": [
            "Model: \"sequential_3\"\n",
            "_________________________________________________________________\n",
            " Layer (type)                Output Shape              Param #   \n",
            "=================================================================\n",
            " embedding_3 (Embedding)     (None, 200, 32)           320000    \n",
            "                                                                 \n",
            " simple_rnn (SimpleRNN)      (None, 32)                2080      \n",
            "                                                                 \n",
            " dense_4 (Dense)             (None, 1)                 33        \n",
            "                                                                 \n",
            "=================================================================\n",
            "Total params: 322,113\n",
            "Trainable params: 322,113\n",
            "Non-trainable params: 0\n",
            "_________________________________________________________________\n"
          ]
        }
      ]
    },
    {
      "cell_type": "code",
      "source": [
        "# Train the model\n",
        "hist2 = model2.fit(x_train_padded, y_train, epochs=3, batch_size=64, validation_data=(x_test_padded, y_test))"
      ],
      "metadata": {
        "colab": {
          "base_uri": "https://localhost:8080/"
        },
        "id": "IeLMtOWvOS98",
        "outputId": "5e55b963-42dc-4a21-a105-c48acde0f787"
      },
      "execution_count": null,
      "outputs": [
        {
          "output_type": "stream",
          "name": "stdout",
          "text": [
            "Epoch 1/3\n",
            "620/620 [==============================] - 92s 146ms/step - loss: 0.4209 - accuracy: 0.8061 - val_loss: 0.3108 - val_accuracy: 0.8725\n",
            "Epoch 2/3\n",
            "620/620 [==============================] - 64s 103ms/step - loss: 0.2613 - accuracy: 0.8976 - val_loss: 0.3227 - val_accuracy: 0.8627\n",
            "Epoch 3/3\n",
            "620/620 [==============================] - 54s 86ms/step - loss: 0.2101 - accuracy: 0.9206 - val_loss: 0.3319 - val_accuracy: 0.8730\n"
          ]
        }
      ]
    },
    {
      "cell_type": "markdown",
      "source": [
        "## model 3"
      ],
      "metadata": {
        "id": "mEMQwx_5X7bg"
      }
    },
    {
      "cell_type": "code",
      "source": [
        "model3 = Sequential()\n",
        "model3.add(Embedding(input_dim=10000, output_dim=32, input_length=max_length))\n",
        "model3.add(Bidirectional(LSTM(64, dropout=0.2, recurrent_dropout=0.2)))\n",
        "model3.add(Dense(1, activation='sigmoid'))\n",
        "\n",
        "model3.compile(loss='binary_crossentropy', optimizer='adam', metrics=['accuracy'])"
      ],
      "metadata": {
        "id": "KzAKfnbcNALz"
      },
      "execution_count": null,
      "outputs": []
    },
    {
      "cell_type": "code",
      "source": [
        "model3.summary()"
      ],
      "metadata": {
        "colab": {
          "base_uri": "https://localhost:8080/"
        },
        "id": "ANTxVTt2NoN2",
        "outputId": "aa7f6b77-ebd7-4f0d-9dbb-041c1eca71cd"
      },
      "execution_count": null,
      "outputs": [
        {
          "output_type": "stream",
          "name": "stdout",
          "text": [
            "Model: \"sequential_4\"\n",
            "_________________________________________________________________\n",
            " Layer (type)                Output Shape              Param #   \n",
            "=================================================================\n",
            " embedding_4 (Embedding)     (None, 200, 32)           320000    \n",
            "                                                                 \n",
            " bidirectional_2 (Bidirectio  (None, 128)              49664     \n",
            " nal)                                                            \n",
            "                                                                 \n",
            " dense_5 (Dense)             (None, 1)                 129       \n",
            "                                                                 \n",
            "=================================================================\n",
            "Total params: 369,793\n",
            "Trainable params: 369,793\n",
            "Non-trainable params: 0\n",
            "_________________________________________________________________\n"
          ]
        }
      ]
    },
    {
      "cell_type": "code",
      "source": [
        "# Train the model\n",
        "hist3 = model3.fit(x_train_padded, y_train, epochs=3, batch_size=64, validation_data=(x_test_padded, y_test))"
      ],
      "metadata": {
        "colab": {
          "base_uri": "https://localhost:8080/"
        },
        "id": "DSHgQ8r4NjEv",
        "outputId": "248c3d77-4c45-4760-cd83-6b1c8ffcff38"
      },
      "execution_count": null,
      "outputs": [
        {
          "output_type": "stream",
          "name": "stdout",
          "text": [
            "Epoch 1/3\n",
            "620/620 [==============================] - 628s 974ms/step - loss: 0.3746 - accuracy: 0.8309 - val_loss: 0.3243 - val_accuracy: 0.8820\n",
            "Epoch 2/3\n",
            "620/620 [==============================] - 597s 963ms/step - loss: 0.2331 - accuracy: 0.9099 - val_loss: 0.2787 - val_accuracy: 0.8860\n",
            "Epoch 3/3\n",
            "620/620 [==============================] - 602s 970ms/step - loss: 0.1886 - accuracy: 0.9277 - val_loss: 0.3095 - val_accuracy: 0.8840\n"
          ]
        }
      ]
    },
    {
      "cell_type": "markdown",
      "source": [
        "## model 4"
      ],
      "metadata": {
        "id": "XmJ7o-wOX-oX"
      }
    },
    {
      "cell_type": "code",
      "source": [
        "model4 = Sequential()\n",
        "model4.add(Embedding(input_dim=10000, output_dim=64, input_length=max_length))\n",
        "model4.add(Conv1D(filters=64, kernel_size=3, activation='relu'))\n",
        "model4.add(MaxPooling1D(pool_size=2))\n",
        "model4.add(Bidirectional(LSTM(64, dropout=0.2, recurrent_dropout=0.2)))\n",
        "model4.add(Dense(32, activation='relu'))\n",
        "model4.add(Dropout(0.5))\n",
        "model4.add(Dense(1, activation='sigmoid'))\n",
        "\n",
        "model4.compile(loss='binary_crossentropy', optimizer='adam', metrics=['accuracy'])"
      ],
      "metadata": {
        "id": "4JcJXJOXf32A"
      },
      "execution_count": null,
      "outputs": []
    },
    {
      "cell_type": "code",
      "source": [
        "model4.summary()"
      ],
      "metadata": {
        "colab": {
          "base_uri": "https://localhost:8080/"
        },
        "id": "7u8i7LKhgoIS",
        "outputId": "17278c60-1b3b-476a-ce6d-fb2be98e7bf0"
      },
      "execution_count": null,
      "outputs": [
        {
          "output_type": "stream",
          "name": "stdout",
          "text": [
            "Model: \"sequential_1\"\n",
            "_________________________________________________________________\n",
            " Layer (type)                Output Shape              Param #   \n",
            "=================================================================\n",
            " embedding_1 (Embedding)     (None, 200, 64)           640000    \n",
            "                                                                 \n",
            " conv1d_1 (Conv1D)           (None, 198, 64)           12352     \n",
            "                                                                 \n",
            " max_pooling1d_1 (MaxPooling  (None, 99, 64)           0         \n",
            " 1D)                                                             \n",
            "                                                                 \n",
            " bidirectional_1 (Bidirectio  (None, 128)              66048     \n",
            " nal)                                                            \n",
            "                                                                 \n",
            " dense_1 (Dense)             (None, 32)                4128      \n",
            "                                                                 \n",
            " dropout (Dropout)           (None, 32)                0         \n",
            "                                                                 \n",
            " dense_2 (Dense)             (None, 1)                 33        \n",
            "                                                                 \n",
            "=================================================================\n",
            "Total params: 722,561\n",
            "Trainable params: 722,561\n",
            "Non-trainable params: 0\n",
            "_________________________________________________________________\n"
          ]
        }
      ]
    },
    {
      "cell_type": "code",
      "source": [
        "# Define callbacks\n",
        "checkpoint = ModelCheckpoint(\"best_model4.h5\", monitor='val_loss', verbose=1, save_best_only=True, mode='min')\n",
        "early_stop = EarlyStopping(monitor='val_loss', patience=5, mode='min', verbose=1)\n",
        "\n",
        "# Train the model with callbacks\n",
        "history = model4.fit(x_train_padded, y_train, batch_size=128, epochs=10, validation_data=(x_test_padded, y_test), callbacks=[checkpoint, early_stop])\n",
        "\n",
        "# Load the best model\n",
        "model4.load_weights(\"best_model.h5\")"
      ],
      "metadata": {
        "id": "j5O1veKSg7GK"
      },
      "execution_count": null,
      "outputs": []
    },
    {
      "cell_type": "code",
      "source": [
        "model4.load_weights(\"best_model4.h5\")"
      ],
      "metadata": {
        "id": "D9iqbpkMpHZl"
      },
      "execution_count": null,
      "outputs": []
    },
    {
      "cell_type": "markdown",
      "source": [
        "# Testing & Evaluation"
      ],
      "metadata": {
        "id": "2LlMi_PYYDQK"
      }
    },
    {
      "cell_type": "markdown",
      "source": [
        "## Simple tests"
      ],
      "metadata": {
        "id": "Wy0rcV3tYGPI"
      }
    },
    {
      "cell_type": "code",
      "source": [
        "# Define the sentences\n",
        "sentences = [\"I'm having a great day today!\", \"I wish I never left the bed, terrible weather today!\"]\n",
        "\n",
        "# Convert the sentences to sequences of integers\n",
        "sequences = tokenizer.texts_to_sequences(sentences)\n",
        "\n",
        "# Pad the sequences\n",
        "padded_sequences = pad_sequences(sequences, maxlen=max_length)"
      ],
      "metadata": {
        "id": "HI6p7tHRQC_u"
      },
      "execution_count": null,
      "outputs": []
    },
    {
      "cell_type": "code",
      "source": [
        "# Make predictions with the model\n",
        "predictions1 = model1.predict(padded_sequences)\n",
        "predictions2 = model2.predict(padded_sequences)\n",
        "predictions3 = model3.predict(padded_sequences)\n"
      ],
      "metadata": {
        "colab": {
          "base_uri": "https://localhost:8080/"
        },
        "id": "Us7SqS6OR2dC",
        "outputId": "242cf03f-9349-4612-bd66-2faa3c3639b5"
      },
      "execution_count": null,
      "outputs": [
        {
          "output_type": "stream",
          "name": "stdout",
          "text": [
            "1/1 [==============================] - 0s 97ms/step\n",
            "1/1 [==============================] - 0s 175ms/step\n",
            "1/1 [==============================] - 1s 561ms/step\n"
          ]
        }
      ]
    },
    {
      "cell_type": "code",
      "source": [
        "predictions4 = model4.predict(padded_sequences)"
      ],
      "metadata": {
        "colab": {
          "base_uri": "https://localhost:8080/"
        },
        "id": "1BBQro8UpQXr",
        "outputId": "cd781b20-33e0-4669-b819-ec565628bf3e"
      },
      "execution_count": null,
      "outputs": [
        {
          "output_type": "stream",
          "name": "stdout",
          "text": [
            "1/1 [==============================] - 1s 992ms/step\n"
          ]
        }
      ]
    },
    {
      "cell_type": "code",
      "source": [
        "# Print the predictions\n",
        "for i in range(len(sentences)):\n",
        "    sentiment = 'positive' if np.round(predictions1[i]) == 1 else 'negative'\n",
        "    print(f\"Sentence: {sentences[i]}\")\n",
        "    print(f\"Sentiment: {sentiment}\")\n",
        "print(f'prediction vals: {predictions1}')"
      ],
      "metadata": {
        "colab": {
          "base_uri": "https://localhost:8080/"
        },
        "id": "O1xElomARz8y",
        "outputId": "54847cf9-7b6c-4821-f655-e7e8419d55fa"
      },
      "execution_count": null,
      "outputs": [
        {
          "output_type": "stream",
          "name": "stdout",
          "text": [
            "Sentence: I'm having a great day today!\n",
            "Sentiment: positive\n",
            "Sentence: I wish I never left the bed, terrible weather today!\n",
            "Sentiment: negative\n",
            "prediction vals: [[0.9803427 ]\n",
            " [0.12452424]]\n"
          ]
        }
      ]
    },
    {
      "cell_type": "code",
      "source": [
        "# Print the predictions\n",
        "for i in range(len(sentences)):\n",
        "    sentiment = 'positive' if np.round(predictions2[i]) == 1 else 'negative'\n",
        "    print(f\"Sentence: {sentences[i]}\")\n",
        "    print(f\"Sentiment: {sentiment}\")\n",
        "print(f'prediction vals: {predictions2}')"
      ],
      "metadata": {
        "colab": {
          "base_uri": "https://localhost:8080/"
        },
        "id": "MIlBnAOzSGDi",
        "outputId": "d41a7684-1e03-495e-8b96-0e352ec00765"
      },
      "execution_count": null,
      "outputs": [
        {
          "output_type": "stream",
          "name": "stdout",
          "text": [
            "Sentence: I'm having a great day today!\n",
            "Sentiment: positive\n",
            "Sentence: I wish I never left the bed, terrible weather today!\n",
            "Sentiment: negative\n",
            "prediction vals: [[0.94231117]\n",
            " [0.18582535]]\n"
          ]
        }
      ]
    },
    {
      "cell_type": "code",
      "source": [
        "# Print the predictions\n",
        "for i in range(len(sentences)):\n",
        "    sentiment = 'positive' if np.round(predictions3[i]) == 1 else 'negative'\n",
        "    print(f\"Sentence: {sentences[i]}\")\n",
        "    print(f\"Sentiment: {sentiment}\")\n",
        "print(f'prediction vals: {predictions3}')"
      ],
      "metadata": {
        "colab": {
          "base_uri": "https://localhost:8080/"
        },
        "id": "jb6POoL8SHxN",
        "outputId": "f234e935-b851-4dbf-afb0-1c10a8f45c45"
      },
      "execution_count": null,
      "outputs": [
        {
          "output_type": "stream",
          "name": "stdout",
          "text": [
            "Sentence: I'm having a great day today!\n",
            "Sentiment: positive\n",
            "Sentence: I wish I never left the bed, terrible weather today!\n",
            "Sentiment: negative\n",
            "prediction vals: [[0.92438066]\n",
            " [0.44277924]]\n"
          ]
        }
      ]
    },
    {
      "cell_type": "code",
      "source": [
        "# Print the predictions\n",
        "for i in range(len(sentences)):\n",
        "    sentiment = 'positive' if np.round(predictions4[i]) == 1 else 'negative'\n",
        "    print(f\"Sentence: {sentences[i]}\")\n",
        "    print(f\"Sentiment: {sentiment}\")\n",
        "print(f'prediction vals: {predictions4}')"
      ],
      "metadata": {
        "colab": {
          "base_uri": "https://localhost:8080/"
        },
        "id": "1kdeDzL0pe5K",
        "outputId": "4e0bc346-cf08-426b-a15a-d97db0ff59d1"
      },
      "execution_count": null,
      "outputs": [
        {
          "output_type": "stream",
          "name": "stdout",
          "text": [
            "Sentence: I'm having a great day today!\n",
            "Sentiment: positive\n",
            "Sentence: I wish I never left the bed, terrible weather today!\n",
            "Sentiment: negative\n",
            "prediction vals: [[0.7605904 ]\n",
            " [0.13962902]]\n"
          ]
        }
      ]
    },
    {
      "cell_type": "markdown",
      "source": [
        "## Model training and validation: accuracy vs loss"
      ],
      "metadata": {
        "id": "OSvfV7DkYS2J"
      }
    },
    {
      "cell_type": "code",
      "source": [
        "def create_graph(history, string):\n",
        "  plt.plot(history.history[string])\n",
        "  plt.plot(history.history['val_' + string])\n",
        "  plt.xlabel('epochs')\n",
        "  plt.ylabel(string)\n",
        "  plt.legend([string, 'val_' + string])\n",
        "  plt.show()\n"
      ],
      "metadata": {
        "id": "c9t5VtzcdgND"
      },
      "execution_count": null,
      "outputs": []
    },
    {
      "cell_type": "markdown",
      "source": [
        "### Model 1"
      ],
      "metadata": {
        "id": "EI9uYC24Ygri"
      }
    },
    {
      "cell_type": "code",
      "source": [
        "create_graph(hist1, 'accuracy')\n",
        "create_graph(hist1, 'loss')"
      ],
      "metadata": {
        "colab": {
          "base_uri": "https://localhost:8080/",
          "height": 881
        },
        "id": "pAosG6d9dyKD",
        "outputId": "39d21e8d-838c-49ac-e3a7-270554089125"
      },
      "execution_count": null,
      "outputs": [
        {
          "output_type": "display_data",
          "data": {
            "text/plain": [
              "<Figure size 640x480 with 1 Axes>"
            ],
            "image/png": "[encoded data removed]"
          },
          "metadata": {}
        },
        {
          "output_type": "display_data",
          "data": {
            "text/plain": [
              "<Figure size 640x480 with 1 Axes>"
            ],
            "image/png": "[encoded data removed]"
          },
          "metadata": {}
        }
      ]
    },
    {
      "cell_type": "markdown",
      "source": [
        "### Model 2"
      ],
      "metadata": {
        "id": "8UxtmnC1Yl2O"
      }
    },
    {
      "cell_type": "code",
      "source": [
        "create_graph(hist2, 'accuracy')\n",
        "create_graph(hist2, 'loss')"
      ],
      "metadata": {
        "colab": {
          "base_uri": "https://localhost:8080/",
          "height": 881
        },
        "id": "w52tT_pRdv5m",
        "outputId": "5dddf6df-7ba7-4605-c7b1-8e48d03a4aa1"
      },
      "execution_count": null,
      "outputs": [
        {
          "output_type": "display_data",
          "data": {
            "text/plain": [
              "<Figure size 640x480 with 1 Axes>"
            ],
            "image/png": "[encoded data removed]"
          },
          "metadata": {}
        },
        {
          "output_type": "display_data",
          "data": {
            "text/plain": [
              "<Figure size 640x480 with 1 Axes>"
            ],
            "image/png": "[encoded data removed]"
          },
          "metadata": {}
        }
      ]
    },
    {
      "cell_type": "markdown",
      "source": [
        "### Model 3"
      ],
      "metadata": {
        "id": "SywQBCEHYoHn"
      }
    },
    {
      "cell_type": "code",
      "source": [
        "create_graph(hist3, 'accuracy')\n",
        "create_graph(hist3, 'loss')"
      ],
      "metadata": {
        "colab": {
          "base_uri": "https://localhost:8080/",
          "height": 881
        },
        "id": "n_Ftysm9eIIP",
        "outputId": "0f1e36fa-785e-407a-8235-34b24a1e940c"
      },
      "execution_count": null,
      "outputs": [
        {
          "output_type": "display_data",
          "data": {
            "text/plain": [
              "<Figure size 640x480 with 1 Axes>"
            ],
            "image/png": "[encoded data removed]"
          },
          "metadata": {}
        },
        {
          "output_type": "display_data",
          "data": {
            "text/plain": [
              "<Figure size 640x480 with 1 Axes>"
            ],
            "image/png": "[encoded data removed]"
          },
          "metadata": {}
        }
      ]
    },
    {
      "cell_type": "markdown",
      "source": [
        "### Model 4"
      ],
      "metadata": {
        "id": "DZ9Y3gg0YplT"
      }
    },
    {
      "cell_type": "code",
      "source": [
        "create_graph(history, 'accuracy')\n",
        "create_graph(history, 'loss')"
      ],
      "metadata": {
        "colab": {
          "base_uri": "https://localhost:8080/",
          "height": 881
        },
        "id": "0S-zH1Ntpx9q",
        "outputId": "792f0668-2599-43bd-8a14-16c2ead40a80"
      },
      "execution_count": null,
      "outputs": [
        {
          "output_type": "display_data",
          "data": {
            "text/plain": [
              "<Figure size 640x480 with 1 Axes>"
            ],
            "image/png": "[encoded data removed]"
          },
          "metadata": {}
        },
        {
          "output_type": "display_data",
          "data": {
            "text/plain": [
              "<Figure size 640x480 with 1 Axes>"
            ],
            "image/png": "[encoded data removed]"
          },
          "metadata": {}
        }
      ]
    },
    {
      "cell_type": "markdown",
      "source": [
        "model 4 is discarded due it it's poor potential performance and the hike in val_loss shown in graph above. "
      ],
      "metadata": {
        "id": "DPM605gtZnD3"
      }
    },
    {
      "cell_type": "markdown",
      "source": [
        "# Further Evaluation"
      ],
      "metadata": {
        "id": "gJWa_f09Ys-f"
      }
    },
    {
      "cell_type": "markdown",
      "source": [
        "## Confusion Matrix"
      ],
      "metadata": {
        "id": "09JuqyVaYxpg"
      }
    },
    {
      "cell_type": "code",
      "source": [
        "def conf_matrix(model):\n",
        "  y_true = y_test.values\n",
        "  y_pred = model.predict(x_test_padded)\n",
        "  y_pred = np.where(np.round(y_pred)>0.5,1,0)\n",
        "\n",
        "\n",
        "  conf_matrix = confusion_matrix(y_true, y_pred)\n",
        "\n",
        "  # confusion matrix\n",
        "  print(conf_matrix)\n",
        "\n",
        "  sns.heatmap(conf_matrix, cmap='YlGn', annot=True, fmt='g')\n",
        "  plt.xlabel('Predicted')\n",
        "  plt.ylabel('True')\n",
        "  plt.show()"
      ],
      "metadata": {
        "id": "dZRa21HAvS9F"
      },
      "execution_count": null,
      "outputs": []
    },
    {
      "cell_type": "code",
      "source": [
        "conf_matrix(model1)\n",
        "conf_matrix(model2)\n",
        "conf_matrix(model3)"
      ],
      "metadata": {
        "colab": {
          "base_uri": "https://localhost:8080/",
          "height": 1000
        },
        "id": "2pB17E38v6Vl",
        "outputId": "256f02ff-a004-4dda-813b-1c25c4d3190b"
      },
      "execution_count": null,
      "outputs": [
        {
          "output_type": "stream",
          "name": "stdout",
          "text": [
            "310/310 [==============================] - 1s 2ms/step\n",
            "[[4177  762]\n",
            " [ 511 4467]]\n"
          ]
        },
        {
          "output_type": "display_data",
          "data": {
            "text/plain": [
              "<Figure size 640x480 with 2 Axes>"
            ],
            "image/png": "[encoded data removed]"
          },
          "metadata": {}
        },
        {
          "output_type": "stream",
          "name": "stdout",
          "text": [
            "310/310 [==============================] - 4s 14ms/step\n",
            "[[4407  532]\n",
            " [ 796 4182]]\n"
          ]
        },
        {
          "output_type": "display_data",
          "data": {
            "text/plain": [
              "<Figure size 640x480 with 2 Axes>"
            ],
            "image/png": "[encoded data removed]"
          },
          "metadata": {}
        },
        {
          "output_type": "stream",
          "name": "stdout",
          "text": [
            "310/310 [==============================] - 28s 91ms/step\n",
            "[[4310  629]\n",
            " [ 530 4448]]\n"
          ]
        },
        {
          "output_type": "display_data",
          "data": {
            "text/plain": [
              "<Figure size 640x480 with 2 Axes>"
            ],
            "image/png": "[encoded data removed]"
          },
          "metadata": {}
        }
      ]
    },
    {
      "cell_type": "markdown",
      "source": [
        "## Classification Report"
      ],
      "metadata": {
        "id": "HOV6f5yvY_fP"
      }
    },
    {
      "cell_type": "code",
      "source": [
        "def class_report(model):\n",
        "    y_true = y_test.values\n",
        "    y_pred = model.predict(x_test_padded)\n",
        "    y_pred = np.where(np.round(y_pred)>0.5,1,0)\n",
        "\n",
        "    print(classification_report(y_test, y_pred))"
      ],
      "metadata": {
        "id": "eahnGhHawjZR"
      },
      "execution_count": null,
      "outputs": []
    },
    {
      "cell_type": "code",
      "source": [
        "class_report(model1)\n",
        "class_report(model2)\n",
        "class_report(model3)"
      ],
      "metadata": {
        "colab": {
          "base_uri": "https://localhost:8080/"
        },
        "id": "7J1f_sVUw11A",
        "outputId": "682476c1-a07d-4e8f-8a7f-c9b032cd7c2b"
      },
      "execution_count": null,
      "outputs": [
        {
          "output_type": "stream",
          "name": "stdout",
          "text": [
            "310/310 [==============================] - 1s 3ms/step\n",
            "              precision    recall  f1-score   support\n",
            "\n",
            "           0       0.89      0.85      0.87      4939\n",
            "           1       0.85      0.90      0.88      4978\n",
            "\n",
            "    accuracy                           0.87      9917\n",
            "   macro avg       0.87      0.87      0.87      9917\n",
            "weighted avg       0.87      0.87      0.87      9917\n",
            "\n",
            "310/310 [==============================] - 6s 18ms/step\n",
            "              precision    recall  f1-score   support\n",
            "\n",
            "           0       0.85      0.89      0.87      4939\n",
            "           1       0.89      0.84      0.86      4978\n",
            "\n",
            "    accuracy                           0.87      9917\n",
            "   macro avg       0.87      0.87      0.87      9917\n",
            "weighted avg       0.87      0.87      0.87      9917\n",
            "\n",
            "310/310 [==============================] - 28s 89ms/step\n",
            "              precision    recall  f1-score   support\n",
            "\n",
            "           0       0.89      0.87      0.88      4939\n",
            "           1       0.88      0.89      0.88      4978\n",
            "\n",
            "    accuracy                           0.88      9917\n",
            "   macro avg       0.88      0.88      0.88      9917\n",
            "weighted avg       0.88      0.88      0.88      9917\n",
            "\n"
          ]
        }
      ]
    },
    {
      "cell_type": "code",
      "source": [
        "tf.keras.utils.plot_model(model1, show_shapes=True)\n",
        "tf.keras.utils.plot_model(model2, show_shapes=True)\n",
        "tf.keras.utils.plot_model(model3, show_shapes=True)"
      ],
      "metadata": {
        "id": "yKKXAVVaTu9O"
      },
      "execution_count": null,
      "outputs": []
    },
    {
      "cell_type": "markdown",
      "source": [
        "# Exporting models and tokenizer for tsa"
      ],
      "metadata": {
        "id": "c0EtZ1GsZJCm"
      }
    },
    {
      "cell_type": "code",
      "source": [
        "# save models \n",
        "model1.save('senti_model1')\n",
        "model1.save('senti_model1.h5')\n",
        "\n",
        "model2.save('senti_model2')\n",
        "model2.save('senti_model2.h5')\n",
        "\n",
        "model3.save('senti_model3')\n",
        "model3.save('senti_model3.h5')\n"
      ],
      "metadata": {
        "colab": {
          "base_uri": "https://localhost:8080/"
        },
        "id": "rGV_zH4XUniS",
        "outputId": "feb1a577-ad70-4427-cb5f-532d0296c5b8"
      },
      "execution_count": null,
      "outputs": [
        {
          "output_type": "stream",
          "name": "stderr",
          "text": [
            "WARNING:absl:Found untraced functions such as _update_step_xla while saving (showing 1 of 1). These functions will not be directly callable after loading.\n",
            "WARNING:absl:Found untraced functions such as _update_step_xla while saving (showing 1 of 1). These functions will not be directly callable after loading.\n",
            "WARNING:absl:Found untraced functions such as _update_step_xla while saving (showing 1 of 1). These functions will not be directly callable after loading.\n"
          ]
        }
      ]
    },
    {
      "cell_type": "code",
      "source": [
        "from google.colab import files\n",
        "!cp -r '/content/senti_model1' \"/content/drive/MyDrive/finalest\"\n",
        "!cp -r '/content/senti_model1.h5' \"/content/drive/MyDrive/finalest\"\n",
        "\n",
        "!cp -r '/content/senti_model2' \"/content/drive/MyDrive/finalest\"\n",
        "!cp -r '/content/senti_model2.h5' \"/content/drive/MyDrive/finalest\"\n",
        "\n",
        "!cp -r '/content/senti_model3' \"/content/drive/MyDrive/finalest\"\n",
        "!cp -r '/content/senti_model3.h5' \"/content/drive/MyDrive/finalest\""
      ],
      "metadata": {
        "id": "mm6abSSNq70p"
      },
      "execution_count": null,
      "outputs": []
    },
    {
      "cell_type": "code",
      "source": [
        "# save tokenizer\n",
        "import pickle\n",
        "with open('senti_tokenzier.pickle', 'wb') as handle:\n",
        "  pickle.dump(tokenizer, handle, protocol=pickle.HIGHEST_PROTOCOL)\n"
      ],
      "metadata": {
        "id": "d-h3Lb6wrRAE"
      },
      "execution_count": null,
      "outputs": []
    },
    {
      "cell_type": "code",
      "source": [
        "!cp -r '/content/senti_tokenzier.pickle' \"/content/drive/MyDrive/finalest\""
      ],
      "metadata": {
        "id": "oHhsOBfVrXXt"
      },
      "execution_count": null,
      "outputs": []
    },
    {
      "cell_type": "markdown",
      "source": [
        "# Citation"
      ],
      "metadata": {
        "id": "CFYFEVsYZX1N"
      }
    },
    {
      "cell_type": "markdown",
      "source": [
        "@InProceedings{maas-EtAl:2011:ACL-HLT2011,\n",
        "  author    = {Maas, Andrew L.  and  Daly, Raymond E.  and  Pham, Peter T.  and  Huang, Dan  and  Ng, Andrew Y.  and  Potts, Christopher},\n",
        "  title     = {Learning Word Vectors for Sentiment Analysis},\n",
        "  booktitle = {Proceedings of the 49th Annual Meeting of the Association for Computational Linguistics: Human Language Technologies},\n",
        "  month     = {June},\n",
        "  year      = {2011},\n",
        "  address   = {Portland, Oregon, USA},\n",
        "  publisher = {Association for Computational Linguistics},\n",
        "  pages     = {142--150},\n",
        "  url       = {http://www.aclweb.org/anthology/P11-1015}\n",
        "}"
      ],
      "metadata": {
        "id": "yQfXUvB4DZru"
      }
    },
    {
      "cell_type": "markdown",
      "source": [
        "www.kaggle.com. (n.d.). IMDB Dataset of 50K Movie Reviews. [online] Available at: https://www.kaggle.com/datasets/lakshmi25npathi/imdb-dataset-of-50k-movie-reviews.\n",
        "\n",
        "‌"
      ],
      "metadata": {
        "id": "fDvUJeFFDmkl"
      }
    }
  ]
}